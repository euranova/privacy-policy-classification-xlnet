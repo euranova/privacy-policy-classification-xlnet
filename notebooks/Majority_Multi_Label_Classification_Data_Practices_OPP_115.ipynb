{
  "nbformat": 4,
  "nbformat_minor": 0,
  "metadata": {
    "kernelspec": {
      "display_name": "Environment (conda_pytorch_transformers)",
      "language": "python",
      "name": "conda_pytorch_transformers"
    },
    "language_info": {
      "codemirror_mode": {
        "name": "ipython",
        "version": 3
      },
      "file_extension": ".py",
      "mimetype": "text/x-python",
      "name": "python",
      "nbconvert_exporter": "python",
      "pygments_lexer": "ipython3",
      "version": "3.6.8"
    },
    "colab": {
      "name": "Copy of Majority_Multi_Label_Classification_Data_Practices_OPP_115.ipynb",
      "provenance": []
    },
    "accelerator": "GPU"
  },
  "cells": [
    {
      "cell_type": "code",
      "metadata": {
        "id": "jUuHUpJBsJZg",
        "colab_type": "code",
        "colab": {
          "base_uri": "https://localhost:8080/",
          "height": 35
        },
        "outputId": "1c9a1b97-9492-4dbc-dbf1-981ef237c016"
      },
      "source": [
        "import tensorflow as tf\n",
        "\n",
        "# Get the GPU device name.\n",
        "device_name = tf.test.gpu_device_name()\n",
        "\n",
        "# The device name should look like the following:\n",
        "if device_name == '/device:GPU:0':\n",
        "    print('Found GPU at: {}'.format(device_name))\n",
        "else:\n",
        "    raise SystemError('GPU device not found')"
      ],
      "execution_count": null,
      "outputs": [
        {
          "output_type": "stream",
          "text": [
            "Found GPU at: /device:GPU:0\n"
          ],
          "name": "stdout"
        }
      ]
    },
    {
      "cell_type": "code",
      "metadata": {
        "id": "LRiR_PG3sM6c",
        "colab_type": "code",
        "colab": {
          "base_uri": "https://localhost:8080/",
          "height": 54
        },
        "outputId": "2bd17f5c-5727-421b-f676-e387a7debae2"
      },
      "source": [
        "import torch\n",
        "\n",
        "# If there's a GPU available...\n",
        "if torch.cuda.is_available():    \n",
        "\n",
        "    # Tell PyTorch to use the GPU.    \n",
        "    device = torch.device(\"cuda\")\n",
        "\n",
        "    print('There are %d GPU(s) available.' % torch.cuda.device_count())\n",
        "\n",
        "    print('We will use the GPU:', torch.cuda.get_device_name(0))\n",
        "\n",
        "# If not...\n",
        "else:\n",
        "    print('No GPU available, using the CPU instead.')\n",
        "    device = torch.device(\"cpu\")"
      ],
      "execution_count": null,
      "outputs": [
        {
          "output_type": "stream",
          "text": [
            "There are 1 GPU(s) available.\n",
            "We will use the GPU: Tesla P100-PCIE-16GB\n"
          ],
          "name": "stdout"
        }
      ]
    },
    {
      "cell_type": "code",
      "metadata": {
        "id": "OSL914ml56HQ",
        "colab_type": "code",
        "colab": {
          "base_uri": "https://localhost:8080/",
          "height": 35
        },
        "outputId": "68730d98-11c9-4d2d-b660-480d22d60505"
      },
      "source": [
        "%%writefile setup.sh\n",
        "\n",
        "git clone https://github.com/NVIDIA/apex\n",
        "pip install -v --no-cache-dir --global-option=\"--cpp_ext\" --global-option=\"--cuda_ext\" ./apex"
      ],
      "execution_count": null,
      "outputs": [
        {
          "output_type": "stream",
          "text": [
            "Overwriting setup.sh\n"
          ],
          "name": "stdout"
        }
      ]
    },
    {
      "cell_type": "code",
      "metadata": {
        "id": "CLUQpmlU-EgM",
        "colab_type": "code",
        "colab": {}
      },
      "source": [
        "%%bash \n",
        "sh setup.sh"
      ],
      "execution_count": null,
      "outputs": []
    },
    {
      "cell_type": "code",
      "metadata": {
        "id": "EwN9RJFR5uG5",
        "colab_type": "code",
        "colab": {}
      },
      "source": [
        "%%bash\n",
        "pip install fast-bert"
      ],
      "execution_count": null,
      "outputs": []
    },
    {
      "cell_type": "code",
      "metadata": {
        "id": "7CtzlFdN_CAe",
        "colab_type": "code",
        "colab": {}
      },
      "source": [
        "import torch\n",
        "torch.cuda.empty_cache()"
      ],
      "execution_count": null,
      "outputs": []
    },
    {
      "cell_type": "code",
      "metadata": {
        "id": "DYNL0BIqCDd2",
        "colab_type": "code",
        "colab": {}
      },
      "source": [
        "from transformers import BertTokenizer\n",
        "from pathlib import Path\n",
        "import torch\n",
        "\n",
        "from box import Box\n",
        "import pandas as pd\n",
        "import collections\n",
        "import os\n",
        "from tqdm import tqdm, trange\n",
        "import sys\n",
        "import random\n",
        "import numpy as np\n",
        "import apex\n",
        "from sklearn.model_selection import train_test_split\n",
        "\n",
        "import datetime\n",
        "\n",
        "from fast_bert.modeling import BertForMultiLabelSequenceClassification\n",
        "from fast_bert.data_cls import BertDataBunch, InputExample, InputFeatures, MultiLabelTextProcessor, convert_examples_to_features\n",
        "from fast_bert.learner_cls import BertLearner\n",
        "#from fast_bert.metrics import accuracy_multilabel, accuracy_thresh, fbeta, roc_auc, F1"
      ],
      "execution_count": null,
      "outputs": []
    },
    {
      "cell_type": "code",
      "metadata": {
        "id": "s-cwNctWCHxQ",
        "colab_type": "code",
        "colab": {
          "base_uri": "https://localhost:8080/",
          "height": 74
        },
        "outputId": "94272000-ee8c-4c64-b930-65e504545f67"
      },
      "source": [
        "pd.set_option('display.max_colwidth', -1)\n",
        "run_start_time = datetime.datetime.today().strftime('%Y-%m-%d_%H-%M-%S')"
      ],
      "execution_count": null,
      "outputs": [
        {
          "output_type": "stream",
          "text": [
            "/usr/local/lib/python3.6/dist-packages/ipykernel_launcher.py:1: FutureWarning: Passing a negative integer is deprecated in version 1.0 and will not be supported in future version. Instead, use None to not limit the column width.\n",
            "  \"\"\"Entry point for launching an IPython kernel.\n"
          ],
          "name": "stderr"
        }
      ]
    },
    {
      "cell_type": "code",
      "metadata": {
        "id": "56K2rFlYCKKc",
        "colab_type": "code",
        "colab": {}
      },
      "source": [
        "DATA_PATH = Path('./data/')\n",
        "LABEL_PATH = Path('./labels/')\n",
        "\n",
        "MODEL_PATH=Path('./models/')\n",
        "LOG_PATH=Path('./logs/')\n",
        "MODEL_PATH.mkdir(exist_ok=True)\n",
        "\n",
        "model_state_dict = None\n",
        "\n",
        "\n",
        "FINETUNED_PATH = None\n",
        "\n",
        "LOG_PATH.mkdir(exist_ok=True)\n",
        "\n",
        "OUTPUT_PATH = MODEL_PATH/'output'\n",
        "OUTPUT_PATH.mkdir(exist_ok=True)"
      ],
      "execution_count": null,
      "outputs": []
    },
    {
      "cell_type": "code",
      "metadata": {
        "id": "ma9gihBlEfTO",
        "colab_type": "code",
        "colab": {}
      },
      "source": [
        "args = Box({\n",
        "    \"run_text\": \"multilabel Data Practices classification \",\n",
        "    \"train_size\": -1,\n",
        "    \"val_size\": -1,\n",
        "    \"log_path\": LOG_PATH,\n",
        "    \"full_data_dir\": DATA_PATH,\n",
        "    \"data_dir\": DATA_PATH,\n",
        "    \"task_name\": \"data_practice_classification_lib\",\n",
        "    \"no_cuda\": False,\n",
        "    \"bert_model\": BERT_PRETRAINED_PATH,\n",
        "    \"output_dir\": OUTPUT_PATH,\n",
        "    \"max_seq_length\": 512,\n",
        "    \"do_train\": True,\n",
        "    \"do_eval\": True,\n",
        "    \"do_lower_case\": True,\n",
        "    \"train_batch_size\": 8,\n",
        "    \"eval_batch_size\": 16,\n",
        "    \"learning_rate\": 1e-3,\n",
        "    \"num_train_epochs\": 5,\n",
        "    \"warmup_proportion\": 0.0,\n",
        "    \"no_cuda\": False,\n",
        "    \"local_rank\": -1,\n",
        "    \"seed\": 42,\n",
        "    \"gradient_accumulation_steps\": 1,\n",
        "    \"optimize_on_cpu\": False,\n",
        "    \"fp16\": True,\n",
        "    \"fp16_opt_level\": \"O1\",\n",
        "    \"weight_decay\": 0.0,\n",
        "    \"adam_epsilon\": 1e-8,\n",
        "    \"max_grad_norm\": 1.0,\n",
        "    \"max_steps\": -1,\n",
        "    \"warmup_steps\": 500,\n",
        "    \"logging_steps\": 50,\n",
        "    \"eval_all_checkpoints\": True,\n",
        "    \"overwrite_output_dir\": True,\n",
        "    \"overwrite_cache\": False,\n",
        "    \"seed\": 42,\n",
        "    \"loss_scale\": 128,\n",
        "    \"task_name\": 'intent',\n",
        "    \"model_name\": 'xlnet-base-cased',\n",
        "    \"model_type\": 'xlnet'\n",
        "})"
      ],
      "execution_count": null,
      "outputs": []
    },
    {
      "cell_type": "code",
      "metadata": {
        "id": "DgAy83nvE8Ew",
        "colab_type": "code",
        "colab": {}
      },
      "source": [
        "import logging\n",
        "\n",
        "logfile = str(LOG_PATH/'log-{}-{}.txt'.format(run_start_time, args[\"run_text\"]))\n",
        "\n",
        "logging.basicConfig(\n",
        "    level=logging.INFO,\n",
        "    format='%(asctime)s - %(levelname)s - %(name)s -   %(message)s',\n",
        "    datefmt='%m/%d/%Y %H:%M:%S',\n",
        "    handlers=[\n",
        "        logging.FileHandler(logfile),\n",
        "        logging.StreamHandler(sys.stdout)\n",
        "    ])\n",
        "\n",
        "logger = logging.getLogger()"
      ],
      "execution_count": null,
      "outputs": []
    },
    {
      "cell_type": "code",
      "metadata": {
        "id": "3-kyfkQQE_u0",
        "colab_type": "code",
        "colab": {
          "base_uri": "https://localhost:8080/",
          "height": 55
        },
        "outputId": "810595f2-f783-499c-f544-b4acda09c78d"
      },
      "source": [
        "logger.info(args)"
      ],
      "execution_count": null,
      "outputs": [
        {
          "output_type": "stream",
          "text": [
            "07/05/2020 23:41:25 - INFO - root -   {'run_text': 'multilabel Data Practices classification ', 'train_size': -1, 'val_size': -1, 'log_path': PosixPath('logs'), 'full_data_dir': PosixPath('data'), 'data_dir': PosixPath('data'), 'task_name': 'intent', 'no_cuda': False, 'bert_model': PosixPath('bert_models/pretrained-weights/uncased_L-12_H-768_A-12'), 'output_dir': PosixPath('models/output'), 'max_seq_length': 512, 'do_train': True, 'do_eval': True, 'do_lower_case': True, 'train_batch_size': 8, 'eval_batch_size': 16, 'learning_rate': 0.001, 'num_train_epochs': 5, 'warmup_proportion': 0.0, 'local_rank': -1, 'seed': 42, 'gradient_accumulation_steps': 1, 'optimize_on_cpu': False, 'fp16': True, 'fp16_opt_level': 'O1', 'weight_decay': 0.0, 'adam_epsilon': 1e-08, 'max_grad_norm': 1.0, 'max_steps': -1, 'warmup_steps': 500, 'logging_steps': 50, 'eval_all_checkpoints': True, 'overwrite_output_dir': True, 'overwrite_cache': False, 'loss_scale': 128, 'model_name': 'xlnet-base-cased', 'model_type': 'xlnet'}\n"
          ],
          "name": "stdout"
        }
      ]
    },
    {
      "cell_type": "code",
      "metadata": {
        "id": "SDYvhwvhGghn",
        "colab_type": "code",
        "colab": {}
      },
      "source": [
        "device = torch.device('cuda')\n",
        "if torch.cuda.device_count() > 1:\n",
        "    args.multi_gpu = True\n",
        "else:\n",
        "    args.multi_gpu = False"
      ],
      "execution_count": null,
      "outputs": []
    },
    {
      "cell_type": "code",
      "metadata": {
        "id": "DCjr5gOMGoUI",
        "colab_type": "code",
        "colab": {}
      },
      "source": [
        "label_cols = [\"First Party Collection/Use\",\"Third Party Sharing/Collection\",\"User Access Edit and Deletion\",\n",
        "              \"Data Retention\",\"Data Security\",\"International and Specific Audiences\",\"Do Not Track\",\"Policy Change\",\n",
        "              \"User Choice/Control\",\"Introductory/Generic\",\"Practice not covered\",\"Privacy contact information\"]\n"
      ],
      "execution_count": null,
      "outputs": []
    },
    {
      "cell_type": "code",
      "metadata": {
        "id": "sErO7gPkGt8r",
        "colab_type": "code",
        "colab": {
          "base_uri": "https://localhost:8080/",
          "height": 900
        },
        "outputId": "93c1d202-0c4a-4104-adbb-a7a20eef86c8"
      },
      "source": [
        "databunch = BertDataBunch(args['data_dir'], LABEL_PATH, args.model_name, train_file='train.csv', val_file='val.csv',\n",
        "                          test_data='test.csv',\n",
        "                          text_col=\"text\", label_col=label_cols,\n",
        "                          batch_size_per_gpu=args['train_batch_size'], max_seq_length=args['max_seq_length'], \n",
        "                          multi_gpu=args.multi_gpu, multi_label=True, model_type=args.model_type)"
      ],
      "execution_count": null,
      "outputs": [
        {
          "output_type": "stream",
          "text": [
            "07/05/2020 23:41:29 - INFO - transformers.configuration_utils -   loading configuration file https://s3.amazonaws.com/models.huggingface.co/bert/xlnet-base-cased-config.json from cache at /root/.cache/torch/transformers/c9cc6e53904f7f3679a31ec4af244f4419e25ebc8e71ebf8c558a31cbcf07fc8.69e5e35e0b798cab5e473f253752f8bf4d280ee37682281a23eed80f6e2d09c6\n",
            "07/05/2020 23:41:29 - INFO - transformers.configuration_utils -   Model config XLNetConfig {\n",
            "  \"architectures\": [\n",
            "    \"XLNetLMHeadModel\"\n",
            "  ],\n",
            "  \"attn_type\": \"bi\",\n",
            "  \"bi_data\": false,\n",
            "  \"bos_token_id\": 1,\n",
            "  \"clamp_len\": -1,\n",
            "  \"d_head\": 64,\n",
            "  \"d_inner\": 3072,\n",
            "  \"d_model\": 768,\n",
            "  \"dropout\": 0.1,\n",
            "  \"end_n_top\": 4,\n",
            "  \"eos_token_id\": 2,\n",
            "  \"ff_activation\": \"gelu\",\n",
            "  \"initializer_range\": 0.02,\n",
            "  \"layer_norm_eps\": 1e-12,\n",
            "  \"mem_len\": null,\n",
            "  \"model_type\": \"xlnet\",\n",
            "  \"n_head\": 12,\n",
            "  \"n_layer\": 12,\n",
            "  \"pad_token_id\": 5,\n",
            "  \"reuse_len\": null,\n",
            "  \"same_length\": false,\n",
            "  \"start_n_top\": 5,\n",
            "  \"summary_activation\": \"tanh\",\n",
            "  \"summary_last_dropout\": 0.1,\n",
            "  \"summary_type\": \"last\",\n",
            "  \"summary_use_proj\": true,\n",
            "  \"task_specific_params\": {\n",
            "    \"text-generation\": {\n",
            "      \"do_sample\": true,\n",
            "      \"max_length\": 250\n",
            "    }\n",
            "  },\n",
            "  \"untie_r\": true,\n",
            "  \"vocab_size\": 32000\n",
            "}\n",
            "\n",
            "07/05/2020 23:41:30 - INFO - transformers.tokenization_utils_base -   loading file https://s3.amazonaws.com/models.huggingface.co/bert/xlnet-base-cased-spiece.model from cache at /root/.cache/torch/transformers/dad589d582573df0293448af5109cb6981ca77239ed314e15ca63b7b8a318ddd.8b10bd978b5d01c21303cc761fc9ecd464419b3bf921864a355ba807cfbfafa8\n",
            "07/05/2020 23:41:31 - INFO - root -   Writing example 0 of 2185\n",
            "07/05/2020 23:41:32 - INFO - root -   Saving features into cached file data/cache/cached_xlnet_train_multi_label_512_train.csv\n",
            "07/05/2020 23:41:33 - INFO - root -   Writing example 0 of 550\n",
            "07/05/2020 23:41:33 - INFO - root -   Saving features into cached file data/cache/cached_xlnet_dev_multi_label_512_val.csv\n",
            "07/05/2020 23:41:34 - INFO - root -   Writing example 0 of 8\n",
            "07/05/2020 23:41:34 - INFO - root -   Saving features into cached file data/cache/cached_xlnet_test_multi_label_512_test\n"
          ],
          "name": "stdout"
        }
      ]
    },
    {
      "cell_type": "code",
      "metadata": {
        "id": "6d8aZYiGHxQg",
        "colab_type": "code",
        "colab": {
          "base_uri": "https://localhost:8080/",
          "height": 35
        },
        "outputId": "1359b9c0-0e1d-4be8-b6b9-8977ea306158"
      },
      "source": [
        "databunch.train_dl.dataset[0][3]"
      ],
      "execution_count": null,
      "outputs": [
        {
          "output_type": "execute_result",
          "data": {
            "text/plain": [
              "tensor([1., 0., 0., 0., 0., 0., 0., 0., 0., 0., 0., 0.])"
            ]
          },
          "metadata": {
            "tags": []
          },
          "execution_count": 16
        }
      ]
    },
    {
      "cell_type": "code",
      "metadata": {
        "id": "TqC5R7aaxavW",
        "colab_type": "code",
        "colab": {}
      },
      "source": [
        "from fast_bert.metrics import roc_auc, accuracy_thresh, fbeta , accuracy_multilabel\n",
        "from sklearn.metrics import classification_report,hamming_loss, accuracy_score, roc_curve, auc, roc_auc_score, f1_score, multilabel_confusion_matrix\n",
        "from torch import Tensor\n",
        "\n",
        "threshold = 0.5\n",
        "\n",
        "\n",
        "### Metrics functions:\n",
        "def Hamming_loss(y_pred:Tensor, y_true:Tensor, sigmoid:bool = True, thresh:float = threshold, sample_weight = None):\n",
        "    if sigmoid: y_pred = y_pred.sigmoid()\n",
        "    y_pred = y_pred.cpu()\n",
        "    y_true = y_true.cpu()\n",
        "    y_pred = (y_pred > thresh).float()\n",
        "    return hamming_loss(y_true, y_pred, sample_weight = sample_weight)\n",
        "\n",
        "def Exact_Match_Ratio(y_pred:Tensor, y_true:Tensor, sigmoid:bool = True, thresh:float = threshold, normalize:bool = True, sample_weight = None):\n",
        "    if sigmoid: y_pred = y_pred.sigmoid()\n",
        "    y_pred = y_pred.cpu()\n",
        "    y_true = y_true.cpu()\n",
        "    y_pred = (y_pred > thresh).float()\n",
        "    return accuracy_score(y_true, y_pred, normalize = normalize, sample_weight = sample_weight)\n",
        "\n",
        "def roc_auc_score_macro(y_pred:Tensor, y_true:Tensor, sigmoid:bool = True, average = 'macro', sample_weight = None):\n",
        "    if sigmoid: y_pred = y_pred.sigmoid()\n",
        "    y_pred = y_pred.cpu()\n",
        "    y_true = y_true.cpu()\n",
        "    return roc_auc_score(y_true, y_pred, average = average, sample_weight = sample_weight)\n",
        "\n",
        "def roc_auc_score_micro(y_pred:Tensor, y_true:Tensor, sigmoid:bool = True):\n",
        "    y_pred = y_pred.cpu()\n",
        "    y_true = y_true.cpu()\n",
        "    return roc_auc_score_macro(y_pred, y_true, sigmoid = sigmoid, average = 'micro')\n",
        "\n",
        "def roc_auc_score_by_label(y_pred:Tensor, y_true:Tensor, sigmoid:bool = True):\n",
        "    y_pred = y_pred.cpu()\n",
        "    y_true = y_true.cpu()\n",
        "    return roc_auc_score_macro(y_pred, y_true, sigmoid = sigmoid, average = None)\n",
        "\n",
        "def ROC_AUC_by_label(y_pred: Tensor, y_true: Tensor, sigmoid:bool = True, labels:list = label_cols):\n",
        "    # Compute ROC curve and ROC area for each label\n",
        "    if sigmoid: y_pred = y_pred.sigmoid()\n",
        "    fpr = dict()\n",
        "    tpr = dict()\n",
        "    roc_auc = dict()\n",
        "    y_pred = y_pred.cpu()\n",
        "    y_true = y_true.cpu()\n",
        "    for i in range(len(labels)):\n",
        "        fpr[i], tpr[i], _ = roc_curve(y_true[:, i], y_pred[:, i])\n",
        "        roc_auc[label_cols[i]] = auc(fpr[i], tpr[i])\n",
        "    return roc_auc\n",
        "\n",
        "def F1(y_pred:Tensor, y_true:Tensor, sigmoid:bool = True, threshold:float = threshold):\n",
        "    y_pred = y_pred.cpu()\n",
        "    y_true = y_true.cpu()\n",
        "    return fbeta(y_pred, y_true, sigmoid = sigmoid, thresh = threshold, beta = 1)\n",
        "\n",
        "def F1_macro(y_pred:Tensor, y_true:Tensor, sigmoid:bool = True, thresh:float = threshold, average = 'macro', sample_weight = None):\n",
        "    if sigmoid: y_pred = y_pred.sigmoid()\n",
        "    y_pred = y_pred.cpu()\n",
        "    y_true = y_true.cpu()\n",
        "    y_pred = (y_pred > thresh).float()\n",
        "    return f1_score(y_true, y_pred, average = average, sample_weight = sample_weight)\n",
        "\n",
        "def F1_micro(y_pred:Tensor, y_true:Tensor, sigmoid:bool = True):\n",
        "    y_pred = y_pred.cpu()\n",
        "    y_true = y_true.cpu()\n",
        "    return F1_macro(y_pred, y_true, sigmoid = sigmoid, average = 'micro')\n",
        "\n",
        "def F1_by_label(y_pred:Tensor, y_true:Tensor, sigmoid:bool = True, thresh:float = threshold, sample_weight = None, labels:list = label_cols):\n",
        "    if sigmoid: y_pred = y_pred.sigmoid()\n",
        "    y_pred = y_pred.cpu()\n",
        "    y_true = y_true.cpu()\n",
        "    y_pred = (y_pred > thresh).float()\n",
        "    return f1_score(y_true, y_pred, average = None)\n",
        "\n",
        "def cls_report(y_pred:Tensor, y_true:Tensor, sigmoid:bool = True, thresh:float = threshold,labels:list = label_cols):\n",
        "    if sigmoid: y_pred = y_pred.sigmoid()\n",
        "    y_pred = y_pred.cpu()\n",
        "    y_true = y_true.cpu()\n",
        "    y_pred = (y_pred > thresh).float()\n",
        "    return classification_report(y_true,y_pred,target_names=label_cols)\n",
        "\n",
        "def accuracy_by_label(y_pred: Tensor, y_true: Tensor, sigmoid:bool = True, thresh:float = threshold, normalize:bool = True, sample_weight = None, labels:list = label_cols):\n",
        "    if sigmoid: y_pred = y_pred.sigmoid()\n",
        "    y_pred = y_pred.cpu()\n",
        "    y_true = y_true.cpu()\n",
        "    y_pred = (y_pred > thresh).float()\n",
        "    accuracies = {}\n",
        "    for i in range(len(labels)):\n",
        "        accuracies[label_cols[i]] = accuracy_score(y_true[:, i], y_pred[:, i], normalize = normalize, sample_weight = sample_weight)\n",
        "    return accuracies\n",
        "\n",
        "def confusion_matrix_by_label(y_pred:Tensor, y_true:Tensor, sigmoid:bool = True, thresh:float = threshold, sample_weight = None, samplewise = False, labels:list = label_cols):\n",
        "    if sigmoid: y_pred = y_pred.sigmoid()\n",
        "    y_pred = y_pred.cpu()\n",
        "    y_true = y_true.cpu()\n",
        "    y_pred = (y_pred > thresh).float()\n",
        "    return multilabel_confusion_matrix(y_true, y_pred, labels = [i for i in range(len(labels))], sample_weight = sample_weight, samplewise = samplewise)"
      ],
      "execution_count": null,
      "outputs": []
    },
    {
      "cell_type": "code",
      "metadata": {
        "id": "TqX8dQWzIt0G",
        "colab_type": "code",
        "colab": {}
      },
      "source": [
        "metrics = []\n",
        "metrics.append({'name': 'F1_macro', 'function': F1_macro})\n",
        "metrics.append({'name': 'F1_micro', 'function': F1_micro})\n",
        "metrics.append({'name': 'roc_auc_score_macro', 'function': roc_auc_score_macro})\n",
        "metrics.append({'name': 'roc_auc_score_micro', 'function': roc_auc_score_micro})\n",
        "metrics.append({'name': 'F1_by_label', 'function': F1_by_label})\n",
        "metrics.append({'name': 'cls_report', 'function': cls_report})"
      ],
      "execution_count": null,
      "outputs": []
    },
    {
      "cell_type": "code",
      "metadata": {
        "id": "PN6RvtqEIvwM",
        "colab_type": "code",
        "colab": {
          "base_uri": "https://localhost:8080/",
          "height": 1000
        },
        "outputId": "43643336-5f20-4aac-b08f-82ccf98de6e5"
      },
      "source": [
        "learner = BertLearner.from_pretrained_model(databunch, args.model_name, metrics=metrics, \n",
        "                                            device=device, logger=logger, output_dir=args.output_dir, \n",
        "                                            finetuned_wgts_path=FINETUNED_PATH, warmup_steps=args.warmup_steps,\n",
        "                                            multi_gpu=args.multi_gpu, is_fp16=args.fp16, \n",
        "                                            multi_label=True, logging_steps=0)"
      ],
      "execution_count": null,
      "outputs": [
        {
          "output_type": "stream",
          "text": [
            "07/05/2020 23:41:40 - INFO - transformers.configuration_utils -   loading configuration file https://s3.amazonaws.com/models.huggingface.co/bert/xlnet-base-cased-config.json from cache at /root/.cache/torch/transformers/c9cc6e53904f7f3679a31ec4af244f4419e25ebc8e71ebf8c558a31cbcf07fc8.69e5e35e0b798cab5e473f253752f8bf4d280ee37682281a23eed80f6e2d09c6\n",
            "07/05/2020 23:41:40 - INFO - transformers.configuration_utils -   Model config XLNetConfig {\n",
            "  \"architectures\": [\n",
            "    \"XLNetLMHeadModel\"\n",
            "  ],\n",
            "  \"attn_type\": \"bi\",\n",
            "  \"bi_data\": false,\n",
            "  \"bos_token_id\": 1,\n",
            "  \"clamp_len\": -1,\n",
            "  \"d_head\": 64,\n",
            "  \"d_inner\": 3072,\n",
            "  \"d_model\": 768,\n",
            "  \"dropout\": 0.1,\n",
            "  \"end_n_top\": 5,\n",
            "  \"eos_token_id\": 2,\n",
            "  \"ff_activation\": \"gelu\",\n",
            "  \"id2label\": {\n",
            "    \"0\": \"LABEL_0\",\n",
            "    \"1\": \"LABEL_1\",\n",
            "    \"2\": \"LABEL_2\",\n",
            "    \"3\": \"LABEL_3\",\n",
            "    \"4\": \"LABEL_4\",\n",
            "    \"5\": \"LABEL_5\",\n",
            "    \"6\": \"LABEL_6\",\n",
            "    \"7\": \"LABEL_7\",\n",
            "    \"8\": \"LABEL_8\",\n",
            "    \"9\": \"LABEL_9\",\n",
            "    \"10\": \"LABEL_10\",\n",
            "    \"11\": \"LABEL_11\"\n",
            "  },\n",
            "  \"initializer_range\": 0.02,\n",
            "  \"label2id\": {\n",
            "    \"LABEL_0\": 0,\n",
            "    \"LABEL_1\": 1,\n",
            "    \"LABEL_10\": 10,\n",
            "    \"LABEL_11\": 11,\n",
            "    \"LABEL_2\": 2,\n",
            "    \"LABEL_3\": 3,\n",
            "    \"LABEL_4\": 4,\n",
            "    \"LABEL_5\": 5,\n",
            "    \"LABEL_6\": 6,\n",
            "    \"LABEL_7\": 7,\n",
            "    \"LABEL_8\": 8,\n",
            "    \"LABEL_9\": 9\n",
            "  },\n",
            "  \"layer_norm_eps\": 1e-12,\n",
            "  \"mem_len\": null,\n",
            "  \"model_type\": \"xlnet\",\n",
            "  \"n_head\": 12,\n",
            "  \"n_layer\": 12,\n",
            "  \"pad_token_id\": 5,\n",
            "  \"reuse_len\": null,\n",
            "  \"same_length\": false,\n",
            "  \"start_n_top\": 5,\n",
            "  \"summary_activation\": \"tanh\",\n",
            "  \"summary_last_dropout\": 0.1,\n",
            "  \"summary_type\": \"last\",\n",
            "  \"summary_use_proj\": true,\n",
            "  \"task_specific_params\": {\n",
            "    \"text-generation\": {\n",
            "      \"do_sample\": true,\n",
            "      \"max_length\": 250\n",
            "    }\n",
            "  },\n",
            "  \"untie_r\": true,\n",
            "  \"vocab_size\": 32000\n",
            "}\n",
            "\n",
            "07/05/2020 23:41:41 - INFO - transformers.modeling_utils -   loading weights file https://cdn.huggingface.co/xlnet-base-cased-pytorch_model.bin from cache at /root/.cache/torch/transformers/33d6135fea0154c088449506a4c5f9553cb59b6fd040138417a7033af64bb8f9.7eac4fe898a021204e63c88c00ea68c60443c57f94b4bc3c02adbde6465745ac\n",
            "07/05/2020 23:41:44 - WARNING - transformers.modeling_utils -   Some weights of the model checkpoint at xlnet-base-cased were not used when initializing XLNetForMultiLabelSequenceClassification: ['lm_loss.weight', 'lm_loss.bias']\n",
            "- This IS expected if you are initializing XLNetForMultiLabelSequenceClassification from the checkpoint of a model trained on another task or with another architecture (e.g. initializing a BertForSequenceClassification model from a BertForPretraining model).\n",
            "- This IS NOT expected if you are initializing XLNetForMultiLabelSequenceClassification from the checkpoint of a model that you expect to be exactly identical (initializing a BertForSequenceClassification model from a BertForSequenceClassification model).\n",
            "07/05/2020 23:41:44 - WARNING - transformers.modeling_utils -   Some weights of XLNetForMultiLabelSequenceClassification were not initialized from the model checkpoint at xlnet-base-cased and are newly initialized: ['sequence_summary.summary.weight', 'sequence_summary.summary.bias', 'logits_proj.weight', 'logits_proj.bias']\n",
            "You should probably TRAIN this model on a down-stream task to be able to use it for predictions and inference.\n"
          ],
          "name": "stdout"
        }
      ]
    },
    {
      "cell_type": "code",
      "metadata": {
        "id": "pn01V0gnAno2",
        "colab_type": "code",
        "colab": {
          "base_uri": "https://localhost:8080/",
          "height": 1000
        },
        "outputId": "f43d4ebc-cae7-4864-9979-e97d0d2eb4e3"
      },
      "source": [
        "learner.fit(args.num_train_epochs, args.learning_rate, validate=True,\n",
        "            schedule_type=\"warmup_cosine\", optimizer_type=\"lamb\")"
      ],
      "execution_count": null,
      "outputs": [
        {
          "output_type": "stream",
          "text": [
            "Selected optimization level O1:  Insert automatic casts around Pytorch functions and Tensor methods.\n",
            "\n",
            "Defaults for this optimization level are:\n",
            "enabled                : True\n",
            "opt_level              : O1\n",
            "cast_model_type        : None\n",
            "patch_torch_functions  : True\n",
            "keep_batchnorm_fp32    : None\n",
            "master_weights         : None\n",
            "loss_scale             : dynamic\n",
            "Processing user overrides (additional kwargs that are not None)...\n",
            "After processing overrides, optimization options are:\n",
            "enabled                : True\n",
            "opt_level              : O1\n",
            "cast_model_type        : None\n",
            "patch_torch_functions  : True\n",
            "keep_batchnorm_fp32    : None\n",
            "master_weights         : None\n",
            "loss_scale             : dynamic\n",
            "07/05/2020 22:04:46 - INFO - root -   ***** Running training *****\n",
            "07/05/2020 22:04:46 - INFO - root -     Num examples = 2185\n",
            "07/05/2020 22:04:46 - INFO - root -     Num Epochs = 5\n",
            "07/05/2020 22:04:46 - INFO - root -     Total train batch size (w. parallel, distributed & accumulation) = 8\n",
            "07/05/2020 22:04:46 - INFO - root -     Gradient Accumulation steps = 1\n",
            "07/05/2020 22:04:46 - INFO - root -     Total optimization steps = 1370\n"
          ],
          "name": "stdout"
        },
        {
          "output_type": "display_data",
          "data": {
            "text/html": [
              ""
            ],
            "text/plain": [
              "<IPython.core.display.HTML object>"
            ]
          },
          "metadata": {
            "tags": []
          }
        },
        {
          "output_type": "stream",
          "text": [
            "/pytorch/torch/csrc/utils/python_arg_parser.cpp:756: UserWarning: This overload of add_ is deprecated:\n",
            "\tadd_(Number alpha, Tensor other)\n",
            "Consider using one of the following signatures instead:\n",
            "\tadd_(Tensor other, *, Number alpha)\n"
          ],
          "name": "stderr"
        },
        {
          "output_type": "stream",
          "text": [
            "07/05/2020 22:09:20 - INFO - root -   Running evaluation\n",
            "07/05/2020 22:09:20 - INFO - root -     Num examples = 550\n",
            "07/05/2020 22:09:20 - INFO - root -     Batch size = 16\n"
          ],
          "name": "stdout"
        },
        {
          "output_type": "display_data",
          "data": {
            "text/html": [
              "\n",
              "    <div>\n",
              "        <style>\n",
              "            /* Turns off some styling */\n",
              "            progress {\n",
              "                /* gets rid of default border in Firefox and Opera. */\n",
              "                border: none;\n",
              "                /* Needs to be in here for Safari polyfill so background images work as expected. */\n",
              "                background-size: auto;\n",
              "            }\n",
              "            .progress-bar-interrupted, .progress-bar-interrupted::-webkit-progress-bar {\n",
              "                background: #F44336;\n",
              "            }\n",
              "        </style>\n",
              "      <progress value='35' class='' max='35' style='width:300px; height:20px; vertical-align: middle;'></progress>\n",
              "      100.00% [35/35 00:29<00:00]\n",
              "    </div>\n",
              "    "
            ],
            "text/plain": [
              "<IPython.core.display.HTML object>"
            ]
          },
          "metadata": {
            "tags": []
          }
        },
        {
          "output_type": "stream",
          "text": [
            "07/05/2020 22:09:50 - INFO - root -   eval_loss after epoch 1: 0.1701027369924954: \n",
            "07/05/2020 22:09:50 - INFO - root -   eval_F1_macro after epoch 1: 0.3787892329552817: \n",
            "07/05/2020 22:09:50 - INFO - root -   eval_F1_micro after epoch 1: 0.6666666666666667: \n",
            "07/05/2020 22:09:50 - INFO - root -   eval_roc_auc_score_macro after epoch 1: 0.8362272938537495: \n",
            "07/05/2020 22:09:50 - INFO - root -   eval_roc_auc_score_micro after epoch 1: 0.927212446779462: \n",
            "07/05/2020 22:09:50 - INFO - root -   eval_F1_by_label after epoch 1: [0.79268293 0.84242424 0.         0.         0.70833333 0.33333333\n",
            " 0.         0.38709677 0.31578947 0.5106383  0.         0.65517241]: \n",
            "07/05/2020 22:09:50 - INFO - root -   eval_cls_report after epoch 1:                                       precision    recall  f1-score   support\n",
            "\n",
            "          First Party Collection/Use       0.85      0.74      0.79       175\n",
            "      Third Party Sharing/Collection       0.81      0.88      0.84       158\n",
            "       User Access Edit and Deletion       0.00      0.00      0.00        21\n",
            "                      Data Retention       0.00      0.00      0.00        14\n",
            "                       Data Security       1.00      0.55      0.71        31\n",
            "International and Specific Audiences       1.00      0.20      0.33        40\n",
            "                        Do Not Track       0.00      0.00      0.00         6\n",
            "                       Policy Change       1.00      0.24      0.39        25\n",
            "                 User Choice/Control       1.00      0.19      0.32        48\n",
            "                Introductory/Generic       1.00      0.34      0.51        70\n",
            "                Practice not covered       0.00      0.00      0.00        21\n",
            "         Privacy contact information       0.73      0.59      0.66        32\n",
            "\n",
            "                           micro avg       0.85      0.55      0.67       641\n",
            "                           macro avg       0.62      0.31      0.38       641\n",
            "                        weighted avg       0.80      0.55      0.61       641\n",
            "                         samples avg       0.62      0.57      0.58       641\n",
            ": \n",
            "07/05/2020 22:09:50 - INFO - root -   lr after epoch 1: 0.0005480000000000001\n",
            "07/05/2020 22:09:50 - INFO - root -   train_loss after epoch 1: 0.3533686032913027\n",
            "07/05/2020 22:09:50 - INFO - root -   \n",
            "\n"
          ],
          "name": "stdout"
        },
        {
          "output_type": "stream",
          "text": [
            "/usr/local/lib/python3.6/dist-packages/sklearn/metrics/_classification.py:1272: UndefinedMetricWarning: Precision and F-score are ill-defined and being set to 0.0 in labels with no predicted samples. Use `zero_division` parameter to control this behavior.\n",
            "  _warn_prf(average, modifier, msg_start, len(result))\n",
            "/usr/local/lib/python3.6/dist-packages/sklearn/metrics/_classification.py:1272: UndefinedMetricWarning: Precision and F-score are ill-defined and being set to 0.0 in samples with no predicted labels. Use `zero_division` parameter to control this behavior.\n",
            "  _warn_prf(average, modifier, msg_start, len(result))\n",
            "/usr/local/lib/python3.6/dist-packages/sklearn/metrics/_classification.py:1272: UndefinedMetricWarning: Recall and F-score are ill-defined and being set to 0.0 in samples with no true labels. Use `zero_division` parameter to control this behavior.\n",
            "  _warn_prf(average, modifier, msg_start, len(result))\n",
            "/usr/local/lib/python3.6/dist-packages/torch/optim/lr_scheduler.py:231: UserWarning: To get the last learning rate computed by the scheduler, please use `get_last_lr()`.\n",
            "  warnings.warn(\"To get the last learning rate computed by the scheduler, \"\n"
          ],
          "name": "stderr"
        },
        {
          "output_type": "stream",
          "text": [
            "07/05/2020 22:14:26 - INFO - root -   Running evaluation\n",
            "07/05/2020 22:14:26 - INFO - root -     Num examples = 550\n",
            "07/05/2020 22:14:26 - INFO - root -     Batch size = 16\n"
          ],
          "name": "stdout"
        },
        {
          "output_type": "display_data",
          "data": {
            "text/html": [
              "\n",
              "    <div>\n",
              "        <style>\n",
              "            /* Turns off some styling */\n",
              "            progress {\n",
              "                /* gets rid of default border in Firefox and Opera. */\n",
              "                border: none;\n",
              "                /* Needs to be in here for Safari polyfill so background images work as expected. */\n",
              "                background-size: auto;\n",
              "            }\n",
              "            .progress-bar-interrupted, .progress-bar-interrupted::-webkit-progress-bar {\n",
              "                background: #F44336;\n",
              "            }\n",
              "        </style>\n",
              "      <progress value='35' class='' max='35' style='width:300px; height:20px; vertical-align: middle;'></progress>\n",
              "      100.00% [35/35 00:29<00:00]\n",
              "    </div>\n",
              "    "
            ],
            "text/plain": [
              "<IPython.core.display.HTML object>"
            ]
          },
          "metadata": {
            "tags": []
          }
        },
        {
          "output_type": "stream",
          "text": [
            "07/05/2020 22:14:55 - INFO - root -   eval_loss after epoch 2: 0.1095046137060438: \n",
            "07/05/2020 22:14:55 - INFO - root -   eval_F1_macro after epoch 2: 0.5963099845837297: \n",
            "07/05/2020 22:14:55 - INFO - root -   eval_F1_micro after epoch 2: 0.7928994082840237: \n",
            "07/05/2020 22:14:55 - INFO - root -   eval_roc_auc_score_macro after epoch 2: 0.9355298181204015: \n",
            "07/05/2020 22:14:55 - INFO - root -   eval_roc_auc_score_micro after epoch 2: 0.9670652474697746: \n",
            "07/05/2020 22:14:55 - INFO - root -   eval_F1_by_label after epoch 2: [0.81619938 0.88957055 0.61111111 0.         0.73469388 0.90909091\n",
            " 0.         0.86363636 0.7816092  0.72222222 0.         0.82758621]: \n",
            "07/05/2020 22:14:55 - INFO - root -   eval_cls_report after epoch 2:                                       precision    recall  f1-score   support\n",
            "\n",
            "          First Party Collection/Use       0.90      0.75      0.82       175\n",
            "      Third Party Sharing/Collection       0.86      0.92      0.89       158\n",
            "       User Access Edit and Deletion       0.73      0.52      0.61        21\n",
            "                      Data Retention       0.00      0.00      0.00        14\n",
            "                       Data Security       1.00      0.58      0.73        31\n",
            "International and Specific Audiences       0.95      0.88      0.91        40\n",
            "                        Do Not Track       0.00      0.00      0.00         6\n",
            "                       Policy Change       1.00      0.76      0.86        25\n",
            "                 User Choice/Control       0.87      0.71      0.78        48\n",
            "                Introductory/Generic       0.70      0.74      0.72        70\n",
            "                Practice not covered       0.00      0.00      0.00        21\n",
            "         Privacy contact information       0.92      0.75      0.83        32\n",
            "\n",
            "                           micro avg       0.87      0.73      0.79       641\n",
            "                           macro avg       0.66      0.55      0.60       641\n",
            "                        weighted avg       0.82      0.73      0.77       641\n",
            "                         samples avg       0.82      0.77      0.78       641\n",
            ": \n",
            "07/05/2020 22:14:55 - INFO - root -   lr after epoch 2: 0.0009925080277902742\n",
            "07/05/2020 22:14:55 - INFO - root -   train_loss after epoch 2: 0.14202088708343513\n",
            "07/05/2020 22:14:55 - INFO - root -   \n",
            "\n"
          ],
          "name": "stdout"
        },
        {
          "output_type": "stream",
          "text": [
            "/usr/local/lib/python3.6/dist-packages/sklearn/metrics/_classification.py:1272: UndefinedMetricWarning: Precision and F-score are ill-defined and being set to 0.0 in labels with no predicted samples. Use `zero_division` parameter to control this behavior.\n",
            "  _warn_prf(average, modifier, msg_start, len(result))\n",
            "/usr/local/lib/python3.6/dist-packages/sklearn/metrics/_classification.py:1272: UndefinedMetricWarning: Precision and F-score are ill-defined and being set to 0.0 in samples with no predicted labels. Use `zero_division` parameter to control this behavior.\n",
            "  _warn_prf(average, modifier, msg_start, len(result))\n",
            "/usr/local/lib/python3.6/dist-packages/sklearn/metrics/_classification.py:1272: UndefinedMetricWarning: Recall and F-score are ill-defined and being set to 0.0 in samples with no true labels. Use `zero_division` parameter to control this behavior.\n",
            "  _warn_prf(average, modifier, msg_start, len(result))\n",
            "/usr/local/lib/python3.6/dist-packages/torch/optim/lr_scheduler.py:231: UserWarning: To get the last learning rate computed by the scheduler, please use `get_last_lr()`.\n",
            "  warnings.warn(\"To get the last learning rate computed by the scheduler, \"\n"
          ],
          "name": "stderr"
        },
        {
          "output_type": "stream",
          "text": [
            "07/05/2020 22:19:30 - INFO - root -   Running evaluation\n",
            "07/05/2020 22:19:30 - INFO - root -     Num examples = 550\n",
            "07/05/2020 22:19:30 - INFO - root -     Batch size = 16\n"
          ],
          "name": "stdout"
        },
        {
          "output_type": "display_data",
          "data": {
            "text/html": [
              "\n",
              "    <div>\n",
              "        <style>\n",
              "            /* Turns off some styling */\n",
              "            progress {\n",
              "                /* gets rid of default border in Firefox and Opera. */\n",
              "                border: none;\n",
              "                /* Needs to be in here for Safari polyfill so background images work as expected. */\n",
              "                background-size: auto;\n",
              "            }\n",
              "            .progress-bar-interrupted, .progress-bar-interrupted::-webkit-progress-bar {\n",
              "                background: #F44336;\n",
              "            }\n",
              "        </style>\n",
              "      <progress value='35' class='' max='35' style='width:300px; height:20px; vertical-align: middle;'></progress>\n",
              "      100.00% [35/35 00:29<00:00]\n",
              "    </div>\n",
              "    "
            ],
            "text/plain": [
              "<IPython.core.display.HTML object>"
            ]
          },
          "metadata": {
            "tags": []
          }
        },
        {
          "output_type": "stream",
          "text": [
            "07/05/2020 22:20:00 - INFO - root -   eval_loss after epoch 3: 0.09782147694911275: \n",
            "07/05/2020 22:20:00 - INFO - root -   eval_F1_macro after epoch 3: 0.715844448785024: \n",
            "07/05/2020 22:20:00 - INFO - root -   eval_F1_micro after epoch 3: 0.8225674570727719: \n",
            "07/05/2020 22:20:00 - INFO - root -   eval_roc_auc_score_macro after epoch 3: 0.9563245462151985: \n",
            "07/05/2020 22:20:00 - INFO - root -   eval_roc_auc_score_micro after epoch 3: 0.9753796025309714: \n",
            "07/05/2020 22:20:00 - INFO - root -   eval_F1_by_label after epoch 3: [0.86904762 0.84067797 0.88372093 0.44444444 0.88135593 0.94736842\n",
            " 0.5        0.8627451  0.81188119 0.76923077 0.         0.77966102]: \n",
            "07/05/2020 22:20:00 - INFO - root -   eval_cls_report after epoch 3:                                       precision    recall  f1-score   support\n",
            "\n",
            "          First Party Collection/Use       0.91      0.83      0.87       175\n",
            "      Third Party Sharing/Collection       0.91      0.78      0.84       158\n",
            "       User Access Edit and Deletion       0.86      0.90      0.88        21\n",
            "                      Data Retention       1.00      0.29      0.44        14\n",
            "                       Data Security       0.93      0.84      0.88        31\n",
            "International and Specific Audiences       1.00      0.90      0.95        40\n",
            "                        Do Not Track       1.00      0.33      0.50         6\n",
            "                       Policy Change       0.85      0.88      0.86        25\n",
            "                 User Choice/Control       0.77      0.85      0.81        48\n",
            "                Introductory/Generic       0.70      0.86      0.77        70\n",
            "                Practice not covered       0.00      0.00      0.00        21\n",
            "         Privacy contact information       0.85      0.72      0.78        32\n",
            "\n",
            "                           micro avg       0.86      0.78      0.82       641\n",
            "                           macro avg       0.81      0.68      0.72       641\n",
            "                        weighted avg       0.85      0.78      0.81       641\n",
            "                         samples avg       0.85      0.82      0.82       641\n",
            ": \n",
            "07/05/2020 22:20:00 - INFO - root -   lr after epoch 3: 0.000698408230581938\n",
            "07/05/2020 22:20:00 - INFO - root -   train_loss after epoch 3: 0.09752527783441282\n",
            "07/05/2020 22:20:00 - INFO - root -   \n",
            "\n"
          ],
          "name": "stdout"
        },
        {
          "output_type": "stream",
          "text": [
            "/usr/local/lib/python3.6/dist-packages/sklearn/metrics/_classification.py:1272: UndefinedMetricWarning: Precision and F-score are ill-defined and being set to 0.0 in labels with no predicted samples. Use `zero_division` parameter to control this behavior.\n",
            "  _warn_prf(average, modifier, msg_start, len(result))\n",
            "/usr/local/lib/python3.6/dist-packages/sklearn/metrics/_classification.py:1272: UndefinedMetricWarning: Precision and F-score are ill-defined and being set to 0.0 in samples with no predicted labels. Use `zero_division` parameter to control this behavior.\n",
            "  _warn_prf(average, modifier, msg_start, len(result))\n",
            "/usr/local/lib/python3.6/dist-packages/sklearn/metrics/_classification.py:1272: UndefinedMetricWarning: Recall and F-score are ill-defined and being set to 0.0 in samples with no true labels. Use `zero_division` parameter to control this behavior.\n",
            "  _warn_prf(average, modifier, msg_start, len(result))\n",
            "/usr/local/lib/python3.6/dist-packages/torch/optim/lr_scheduler.py:231: UserWarning: To get the last learning rate computed by the scheduler, please use `get_last_lr()`.\n",
            "  warnings.warn(\"To get the last learning rate computed by the scheduler, \"\n"
          ],
          "name": "stderr"
        },
        {
          "output_type": "stream",
          "text": [
            "07/05/2020 22:20:00 - INFO - root -   Running evaluation\n",
            "07/05/2020 22:20:00 - INFO - root -     Num examples = 550\n",
            "07/05/2020 22:20:00 - INFO - root -     Batch size = 16\n"
          ],
          "name": "stdout"
        },
        {
          "output_type": "display_data",
          "data": {
            "text/html": [
              "\n",
              "    <div>\n",
              "        <style>\n",
              "            /* Turns off some styling */\n",
              "            progress {\n",
              "                /* gets rid of default border in Firefox and Opera. */\n",
              "                border: none;\n",
              "                /* Needs to be in here for Safari polyfill so background images work as expected. */\n",
              "                background-size: auto;\n",
              "            }\n",
              "            .progress-bar-interrupted, .progress-bar-interrupted::-webkit-progress-bar {\n",
              "                background: #F44336;\n",
              "            }\n",
              "        </style>\n",
              "      <progress value='35' class='' max='35' style='width:300px; height:20px; vertical-align: middle;'></progress>\n",
              "      100.00% [35/35 00:29<00:00]\n",
              "    </div>\n",
              "    "
            ],
            "text/plain": [
              "<IPython.core.display.HTML object>"
            ]
          },
          "metadata": {
            "tags": []
          }
        },
        {
          "output_type": "stream",
          "text": [
            "07/05/2020 22:24:17 - INFO - root -   eval_loss after epoch 4: 0.08811815359762737: \n",
            "07/05/2020 22:24:17 - INFO - root -   eval_F1_macro after epoch 4: 0.8017567785434433: \n",
            "07/05/2020 22:24:17 - INFO - root -   eval_F1_micro after epoch 4: 0.8489208633093525: \n",
            "07/05/2020 22:24:17 - INFO - root -   eval_roc_auc_score_macro after epoch 4: 0.966414074111848: \n",
            "07/05/2020 22:24:17 - INFO - root -   eval_roc_auc_score_micro after epoch 4: 0.9801618914899237: \n",
            "07/05/2020 22:24:17 - INFO - root -   eval_F1_by_label after epoch 4: [0.88439306 0.86503067 0.81818182 0.6        0.87719298 0.93975904\n",
            " 0.8        0.89361702 0.84444444 0.796875   0.44444444 0.85714286]: \n",
            "07/05/2020 22:24:17 - INFO - root -   eval_cls_report after epoch 4:                                       precision    recall  f1-score   support\n",
            "\n",
            "          First Party Collection/Use       0.89      0.87      0.88       175\n",
            "      Third Party Sharing/Collection       0.84      0.89      0.87       158\n",
            "       User Access Edit and Deletion       0.78      0.86      0.82        21\n",
            "                      Data Retention       1.00      0.43      0.60        14\n",
            "                       Data Security       0.96      0.81      0.88        31\n",
            "International and Specific Audiences       0.91      0.97      0.94        40\n",
            "                        Do Not Track       1.00      0.67      0.80         6\n",
            "                       Policy Change       0.95      0.84      0.89        25\n",
            "                 User Choice/Control       0.90      0.79      0.84        48\n",
            "                Introductory/Generic       0.88      0.73      0.80        70\n",
            "                Practice not covered       0.53      0.38      0.44        21\n",
            "         Privacy contact information       0.87      0.84      0.86        32\n",
            "\n",
            "                           micro avg       0.87      0.83      0.85       641\n",
            "                           macro avg       0.88      0.76      0.80       641\n",
            "                        weighted avg       0.87      0.83      0.85       641\n",
            "                         samples avg       0.87      0.85      0.85       641\n",
            ": \n",
            "07/05/2020 22:24:17 - INFO - root -   lr after epoch 4: 0.00022541314242208256\n",
            "07/05/2020 22:24:17 - INFO - root -   train_loss after epoch 4: 0.06054432040257175\n",
            "07/05/2020 22:24:17 - INFO - root -   \n",
            "\n"
          ],
          "name": "stdout"
        },
        {
          "output_type": "stream",
          "text": [
            "/usr/local/lib/python3.6/dist-packages/sklearn/metrics/_classification.py:1272: UndefinedMetricWarning: Precision and F-score are ill-defined and being set to 0.0 in samples with no predicted labels. Use `zero_division` parameter to control this behavior.\n",
            "  _warn_prf(average, modifier, msg_start, len(result))\n",
            "/usr/local/lib/python3.6/dist-packages/sklearn/metrics/_classification.py:1272: UndefinedMetricWarning: Recall and F-score are ill-defined and being set to 0.0 in samples with no true labels. Use `zero_division` parameter to control this behavior.\n",
            "  _warn_prf(average, modifier, msg_start, len(result))\n",
            "/usr/local/lib/python3.6/dist-packages/torch/optim/lr_scheduler.py:231: UserWarning: To get the last learning rate computed by the scheduler, please use `get_last_lr()`.\n",
            "  warnings.warn(\"To get the last learning rate computed by the scheduler, \"\n"
          ],
          "name": "stderr"
        },
        {
          "output_type": "stream",
          "text": [
            "07/05/2020 22:24:57 - INFO - root -   Running evaluation\n",
            "07/05/2020 22:24:57 - INFO - root -     Num examples = 550\n",
            "07/05/2020 22:24:57 - INFO - root -     Batch size = 16\n"
          ],
          "name": "stdout"
        },

        {
          "output_type": "display_data",
          "data": {
            "text/html": [
              "\n",
              "    <div>\n",
              "        <style>\n",
              "            /* Turns off some styling */\n",
              "            progress {\n",
              "                /* gets rid of default border in Firefox and Opera. */\n",
              "                border: none;\n",
              "                /* Needs to be in here for Safari polyfill so background images work as expected. */\n",
              "                background-size: auto;\n",
              "            }\n",
              "            .progress-bar-interrupted, .progress-bar-interrupted::-webkit-progress-bar {\n",
              "                background: #F44336;\n",
              "            }\n",
              "        </style>\n",
              "      <progress value='35' class='' max='35' style='width:300px; height:20px; vertical-align: middle;'></progress>\n",
              "      100.00% [35/35 00:29<00:00]\n",
              "    </div>\n",
              "    "
            ],
            "text/plain": [
              "<IPython.core.display.HTML object>"
            ]
          },
          "metadata": {
            "tags": []
          }
        },
        {
          "output_type": "stream",
          "text": [
            "07/05/2020 22:28:04 - INFO - root -   eval_loss after epoch 5: 0.08510403476123299: \n",
            "07/05/2020 22:28:04 - INFO - root -   eval_F1_macro after epoch 5: 0.8169094358821195: \n",
            "07/05/2020 22:28:04 - INFO - root -   eval_F1_micro after epoch 5: 0.8621236133122028: \n",
            "07/05/2020 22:28:04 - INFO - root -   eval_roc_auc_score_macro after epoch 5: 0.9686897098043082: \n",
            "07/05/2020 22:28:04 - INFO - root -   eval_roc_auc_score_micro after epoch 5: 0.9820359822280121: \n",
            "07/05/2020 22:28:04 - INFO - root -   eval_F1_by_label after epoch 5: [0.89918256 0.89808917 0.8        0.75       0.86666667 0.98765432\n",
            " 0.8        0.89361702 0.81395349 0.78125    0.5        0.8125    ]: \n",
            "07/05/2020 22:28:04 - INFO - root -   eval_cls_report after epoch 5:                                       precision    recall  f1-score   support\n",
            "\n",
            "          First Party Collection/Use       0.86      0.94      0.90       175\n",
            "      Third Party Sharing/Collection       0.90      0.89      0.90       158\n",
            "       User Access Edit and Deletion       0.75      0.86      0.80        21\n",
            "                      Data Retention       0.90      0.64      0.75        14\n",
            "                       Data Security       0.90      0.84      0.87        31\n",
            "International and Specific Audiences       0.98      1.00      0.99        40\n",
            "                        Do Not Track       1.00      0.67      0.80         6\n",
            "                       Policy Change       0.95      0.84      0.89        25\n",
            "                 User Choice/Control       0.92      0.73      0.81        48\n",
            "                Introductory/Generic       0.86      0.71      0.78        70\n",
            "                Practice not covered       0.60      0.43      0.50        21\n",
            "         Privacy contact information       0.81      0.81      0.81        32\n",
            "\n",
            "                           micro avg       0.88      0.85      0.86       641\n",
            "                           macro avg       0.87      0.78      0.82       641\n",
            "                        weighted avg       0.88      0.85      0.86       641\n",
            "                         samples avg       0.88      0.87      0.86       641\n",
            ": \n",
            "07/05/2020 22:28:04 - INFO - root -   lr after epoch 5: 0.0\n",
            "07/05/2020 22:28:04 - INFO - root -   train_loss after epoch 5: 0.03566771892008175\n",
            "07/05/2020 22:28:04 - INFO - root -   \n",
            "\n"
          ],
          "name": "stdout"
        },
        {
          "output_type": "stream",
          "text": [
            "/usr/local/lib/python3.6/dist-packages/sklearn/metrics/_classification.py:1272: UndefinedMetricWarning: Precision and F-score are ill-defined and being set to 0.0 in samples with no predicted labels. Use `zero_division` parameter to control this behavior.\n",
            "  _warn_prf(average, modifier, msg_start, len(result))\n",
            "/usr/local/lib/python3.6/dist-packages/sklearn/metrics/_classification.py:1272: UndefinedMetricWarning: Recall and F-score are ill-defined and being set to 0.0 in samples with no true labels. Use `zero_division` parameter to control this behavior.\n",
            "  _warn_prf(average, modifier, msg_start, len(result))\n",
            "/usr/local/lib/python3.6/dist-packages/torch/optim/lr_scheduler.py:231: UserWarning: To get the last learning rate computed by the scheduler, please use `get_last_lr()`.\n",
            "  warnings.warn(\"To get the last learning rate computed by the scheduler, \"\n"
          ],
          "name": "stderr"
        },
        {
          "output_type": "stream",
          "text": [
            "07/05/2020 22:28:37  - INFO - root -   Running evaluation\n",
            "07/05/2020 22:28:37 - INFO - root -     Num examples = 550\n",
            "07/05/2020 22:28:37 - INFO - root -     Batch size = 16\n"
          ],
          "name": "stdout"
        },
        {
          "output_type": "display_data",
          "data": {
            "text/html": [
              "\n",
              "    <div>\n",
              "        <style>\n",
              "            /* Turns off some styling */\n",
              "            progress {\n",
              "                /* gets rid of default border in Firefox and Opera. */\n",
              "                border: none;\n",
              "                /* Needs to be in here for Safari polyfill so background images work as expected. */\n",
              "                background-size: auto;\n",
              "            }\n",
              "            .progress-bar-interrupted, .progress-bar-interrupted::-webkit-progress-bar {\n",
              "                background: #F44336;\n",
              "            }\n",
              "        </style>\n",
              "      <progress value='35' class='' max='35' style='width:300px; height:20px; vertical-align: middle;'></progress>\n",
              "      100.00% [35/35 00:29<00:00]\n",
              "    </div>\n",
              "    "
            ],
            "text/plain": [
              "<IPython.core.display.HTML object>"
            ]
          },
          "metadata": {
            "tags": []
          }
        },
        {
          "output_type": "stream",
          "text": [
            "/usr/local/lib/python3.6/dist-packages/sklearn/metrics/_classification.py:1272: UndefinedMetricWarning: Precision and F-score are ill-defined and being set to 0.0 in samples with no predicted labels. Use `zero_division` parameter to control this behavior.\n",
            "  _warn_prf(average, modifier, msg_start, len(result))\n",
            "/usr/local/lib/python3.6/dist-packages/sklearn/metrics/_classification.py:1272: UndefinedMetricWarning: Recall and F-score are ill-defined and being set to 0.0 in samples with no true labels. Use `zero_division` parameter to control this behavior.\n",
            "  _warn_prf(average, modifier, msg_start, len(result))\n",
            "/usr/local/lib/python3.6/dist-packages/torch/optim/lr_scheduler.py:231: UserWarning: To get the last learning rate computed by the scheduler, please use `get_last_lr()`.\n",
            "  warnings.warn(\"To get the last learning rate computed by the scheduler, \"\n"
          ],
          "name": "stderr"
        },
        {
          "output_type": "execute_result",
          "data": {
            "text/plain": [
              "(1370, 0.13800626009240421)"
            ]
          },
          "metadata": {
            "tags": []
          },
          "execution_count": 30
        }
      ]
    },
    {
      "cell_type": "code",
      "metadata": {
        "colab_type": "code",
        "id": "xPIr6FAdvWf3",
        "colab": {
          "base_uri": "https://localhost:8080/",
          "height": 184
        },
        "outputId": "1457050a-f122-4c3b-8cb5-ef265b1aeb57"
      },
      "source": [
        "learner.validate()"
      ],
      "execution_count": null,
      "outputs": [
        {
          "output_type": "display_data",
          "data": {
            "text/html": [
              "\n",
              "    <div>\n",
              "        <style>\n",
              "            /* Turns off some styling */\n",
              "            progress {\n",
              "                /* gets rid of default border in Firefox and Opera. */\n",
              "                border: none;\n",
              "                /* Needs to be in here for Safari polyfill so background images work as expected. */\n",
              "                background-size: auto;\n",
              "            }\n",
              "            .progress-bar-interrupted, .progress-bar-interrupted::-webkit-progress-bar {\n",
              "                background: #F44336;\n",
              "            }\n",
              "        </style>\n",
              "      <progress value='35' class='' max='35' style='width:300px; height:20px; vertical-align: middle;'></progress>\n",
              "      100.00% [35/35 01:11<00:00]\n",
              "    </div>\n",
              "    "
            ],
            "text/plain": [
              "<IPython.core.display.HTML object>"
            ]
          },
          "metadata": {
            "tags": []
          }
        },
        {
          "output_type": "execute_result",
          "data": {
            "text/plain": [
              "{'F1_macro': 0.8223960148166968,\n",
              " 'F1_micro': 0.8639618138424819,\n",
              " 'loss': 0.08499825160418238,\n",
              " 'roc_auc_score_macro': 0.9704352206753627,\n",
              " 'roc_auc_score_micro': 0.9828776671791827}"
            ]
          },
          "metadata": {
            "tags": []
          },
          "execution_count": 56
        }
      ]
    },
    {
      "cell_type": "code",
      "metadata": {
        "id": "zRjiHHxdJAWU",
        "colab_type": "code",
        "colab": {
          "base_uri": "https://localhost:8080/"
        },
        "outputId": "335526c3-cec8-4f9b-dd65-2e69a0276f85"
      },
      "source": [
        "learner.save_model()"
      ],
      "execution_count": null,
      "outputs": [
        {
          "output_type": "stream",
          "text": [
            "07/05/2020 23:43:36 - INFO - transformers.configuration_utils -   Configuration saved in models/output/model_out/config.json\n",
            "07/05/2020 23:43:37 - INFO - transformers.modeling_utils -   Model weights saved in models/output/model_out/pytorch_model.bin\n"
          ],
          "name": "stdout"
        }
      ]
    },
    {
      "cell_type": "code",
      "metadata": {
        "id": "02B3ttopTy4-",
        "colab_type": "code",
        "colab": {}
      },
      "source": [
        "import textwrap \n",
        " \n",
        "# Wrap this text. \n",
        "wrapper = textwrap.TextWrapper(width=100) "
      ],
      "execution_count": null,
      "outputs": []
    },
    {
      "cell_type": "code",
      "metadata": {
        "id": "MzyW0SRlJB5W",
        "colab_type": "code",
        "colab": {
          "base_uri": "https://localhost:8080/",
          "height": 311
        },
        "outputId": "5641d797-0022-4f2c-af4b-ed529f75ff63"
      },
      "source": [
        "print(wrapper.fill(list(pd.read_csv('./data/test.csv')['text'].values)[20:21][0]))\n",
        "print()\n",
        "learner.predict_batch(list(pd.read_csv('./data/test.csv')['text'].values)[21:22])"
      ],
      "execution_count": null,
      "outputs": [
        {
          "output_type": "stream",
          "text": [
            "What Are Your California Privacy Rights? Our Privacy Policy describes how we share information for\n",
            "marketing purposes. The Policy and rights apply to all customers, including California residents.\n",
            "\n",
            "07/05/2020 21:44:46 - INFO - root -   Writing example 0 of 1\n"
          ],
          "name": "stdout"
        },
        {
          "output_type": "execute_result",
          "data": {
            "text/plain": [
              "[[('First Party Collection/Use', 0.9912109375),\n",
              "  ('Third Party Sharing/Collection', 0.00867462158203125),\n",
              "  ('Introductory/Generic', 0.00815582275390625),\n",
              "  ('User Choice/Control', 0.004573822021484375),\n",
              "  ('Practice not covered', 0.003482818603515625),\n",
              "  ('Data Retention', 0.0021648406982421875),\n",
              "  ('User Access Edit and Deletion', 0.0018463134765625),\n",
              "  ('Data Security', 0.001628875732421875),\n",
              "  ('Privacy contact information', 0.0014781951904296875),\n",
              "  ('Policy Change', 0.0012998580932617188),\n",
              "  ('International and Specific Audiences', 0.0011606216430664062),\n",
              "  ('Do Not Track', 0.0008492469787597656)]]"
            ]
          },
          "metadata": {
            "tags": []
          },
          "execution_count": 40
        }
      ]
    },
    {
      "cell_type": "code",
      "metadata": {
        "id": "Jogfi2gaVrOU",
        "colab_type": "code",
        "colab": {
          "base_uri": "https://localhost:8080/",
          "height": 1000
        },
        "outputId": "973f7380-3925-47b8-ff87-b0b865b9c35d"
      },
      "source": [
        "from fast_bert.prediction import BertClassificationPredictor\n",
        "\n",
        "PATH = Path(\"./models/\")\n",
        "OUT_PATH = \"./models/output/model_out/\"\n",
        "\n",
        "predictor = BertClassificationPredictor(OUT_PATH, LABEL_PATH, multi_label=True, model_type=args.model_type)"
      ],
      "execution_count": null,
      "outputs": [
        {
          "output_type": "stream",
          "text": [
            "07/05/2020 23:37:27 - INFO - transformers.configuration_utils -   loading configuration file ./models/output/model_out/config.json\n",
            "07/05/2020 23:37:27 - INFO - transformers.configuration_utils -   Model config XLNetConfig {\n",
            "  \"architectures\": [\n",
            "    \"XLNetForMultiLabelSequenceClassification\"\n",
            "  ],\n",
            "  \"attn_type\": \"bi\",\n",
            "  \"bi_data\": false,\n",
            "  \"bos_token_id\": 1,\n",
            "  \"clamp_len\": -1,\n",
            "  \"d_head\": 64,\n",
            "  \"d_inner\": 3072,\n",
            "  \"d_model\": 768,\n",
            "  \"dropout\": 0.1,\n",
            "  \"end_n_top\": 5,\n",
            "  \"eos_token_id\": 2,\n",
            "  \"ff_activation\": \"gelu\",\n",
            "  \"id2label\": {\n",
            "    \"0\": \"LABEL_0\",\n",
            "    \"1\": \"LABEL_1\",\n",
            "    \"2\": \"LABEL_2\",\n",
            "    \"3\": \"LABEL_3\",\n",
            "    \"4\": \"LABEL_4\",\n",
            "    \"5\": \"LABEL_5\",\n",
            "    \"6\": \"LABEL_6\",\n",
            "    \"7\": \"LABEL_7\",\n",
            "    \"8\": \"LABEL_8\",\n",
            "    \"9\": \"LABEL_9\",\n",
            "    \"10\": \"LABEL_10\",\n",
            "    \"11\": \"LABEL_11\"\n",
            "  },\n",
            "  \"initializer_range\": 0.02,\n",
            "  \"label2id\": {\n",
            "    \"LABEL_0\": 0,\n",
            "    \"LABEL_1\": 1,\n",
            "    \"LABEL_10\": 10,\n",
            "    \"LABEL_11\": 11,\n",
            "    \"LABEL_2\": 2,\n",
            "    \"LABEL_3\": 3,\n",
            "    \"LABEL_4\": 4,\n",
            "    \"LABEL_5\": 5,\n",
            "    \"LABEL_6\": 6,\n",
            "    \"LABEL_7\": 7,\n",
            "    \"LABEL_8\": 8,\n",
            "    \"LABEL_9\": 9\n",
            "  },\n",
            "  \"layer_norm_eps\": 1e-12,\n",
            "  \"mem_len\": null,\n",
            "  \"model_type\": \"xlnet\",\n",
            "  \"n_head\": 12,\n",
            "  \"n_layer\": 12,\n",
            "  \"pad_token_id\": 5,\n",
            "  \"reuse_len\": null,\n",
            "  \"same_length\": false,\n",
            "  \"start_n_top\": 5,\n",
            "  \"summary_activation\": \"tanh\",\n",
            "  \"summary_last_dropout\": 0.1,\n",
            "  \"summary_type\": \"last\",\n",
            "  \"summary_use_proj\": true,\n",
            "  \"task_specific_params\": {\n",
            "    \"text-generation\": {\n",
            "      \"do_sample\": true,\n",
            "      \"max_length\": 250\n",
            "    }\n",
            "  },\n",
            "  \"untie_r\": true,\n",
            "  \"vocab_size\": 32000\n",
            "}\n",
            "\n",
            "07/05/2020 23:37:27 - INFO - transformers.tokenization_utils_base -   Model name './models/output/model_out/' not found in model shortcut name list (xlnet-base-cased, xlnet-large-cased). Assuming './models/output/model_out/' is a path, a model identifier, or url to a directory containing tokenizer files.\n",
            "07/05/2020 23:37:27 - INFO - transformers.tokenization_utils_base -   Didn't find file ./models/output/model_out/added_tokens.json. We won't load it.\n",
            "07/05/2020 23:37:27 - INFO - transformers.tokenization_utils_base -   Didn't find file ./models/output/model_out/tokenizer.json. We won't load it.\n",
            "07/05/2020 23:37:27 - INFO - transformers.tokenization_utils_base -   loading file ./models/output/model_out/spiece.model\n",
            "07/05/2020 23:37:27 - INFO - transformers.tokenization_utils_base -   loading file None\n",
            "07/05/2020 23:37:27 - INFO - transformers.tokenization_utils_base -   loading file ./models/output/model_out/special_tokens_map.json\n",
            "07/05/2020 23:37:27 - INFO - transformers.tokenization_utils_base -   loading file ./models/output/model_out/tokenizer_config.json\n",
            "07/05/2020 23:37:27 - INFO - transformers.tokenization_utils_base -   loading file None\n",
            "07/05/2020 23:37:27 - INFO - transformers.configuration_utils -   loading configuration file ./models/output/model_out/config.json\n",
            "07/05/2020 23:37:27 - INFO - transformers.configuration_utils -   Model config XLNetConfig {\n",
            "  \"architectures\": [\n",
            "    \"XLNetForMultiLabelSequenceClassification\"\n",
            "  ],\n",
            "  \"attn_type\": \"bi\",\n",
            "  \"bi_data\": false,\n",
            "  \"bos_token_id\": 1,\n",
            "  \"clamp_len\": -1,\n",
            "  \"d_head\": 64,\n",
            "  \"d_inner\": 3072,\n",
            "  \"d_model\": 768,\n",
            "  \"dropout\": 0.1,\n",
            "  \"end_n_top\": 5,\n",
            "  \"eos_token_id\": 2,\n",
            "  \"ff_activation\": \"gelu\",\n",
            "  \"id2label\": {\n",
            "    \"0\": \"LABEL_0\",\n",
            "    \"1\": \"LABEL_1\",\n",
            "    \"2\": \"LABEL_2\",\n",
            "    \"3\": \"LABEL_3\",\n",
            "    \"4\": \"LABEL_4\",\n",
            "    \"5\": \"LABEL_5\",\n",
            "    \"6\": \"LABEL_6\",\n",
            "    \"7\": \"LABEL_7\",\n",
            "    \"8\": \"LABEL_8\",\n",
            "    \"9\": \"LABEL_9\",\n",
            "    \"10\": \"LABEL_10\",\n",
            "    \"11\": \"LABEL_11\"\n",
            "  },\n",
            "  \"initializer_range\": 0.02,\n",
            "  \"label2id\": {\n",
            "    \"LABEL_0\": 0,\n",
            "    \"LABEL_1\": 1,\n",
            "    \"LABEL_10\": 10,\n",
            "    \"LABEL_11\": 11,\n",
            "    \"LABEL_2\": 2,\n",
            "    \"LABEL_3\": 3,\n",
            "    \"LABEL_4\": 4,\n",
            "    \"LABEL_5\": 5,\n",
            "    \"LABEL_6\": 6,\n",
            "    \"LABEL_7\": 7,\n",
            "    \"LABEL_8\": 8,\n",
            "    \"LABEL_9\": 9\n",
            "  },\n",
            "  \"layer_norm_eps\": 1e-12,\n",
            "  \"mem_len\": null,\n",
            "  \"model_type\": \"xlnet\",\n",
            "  \"n_head\": 12,\n",
            "  \"n_layer\": 12,\n",
            "  \"pad_token_id\": 5,\n",
            "  \"reuse_len\": null,\n",
            "  \"same_length\": false,\n",
            "  \"start_n_top\": 5,\n",
            "  \"summary_activation\": \"tanh\",\n",
            "  \"summary_last_dropout\": 0.1,\n",
            "  \"summary_type\": \"last\",\n",
            "  \"summary_use_proj\": true,\n",
            "  \"task_specific_params\": {\n",
            "    \"text-generation\": {\n",
            "      \"do_sample\": true,\n",
            "      \"max_length\": 250\n",
            "    }\n",
            "  },\n",
            "  \"untie_r\": true,\n",
            "  \"vocab_size\": 32000\n",
            "}\n",
            "\n",
            "07/05/2020 23:37:27 - INFO - transformers.modeling_utils -   loading weights file ./models/output/model_out/pytorch_model.bin\n",
            "07/05/2020 23:37:30 - INFO - transformers.modeling_utils -   All model checkpoint weights were used when initializing XLNetForMultiLabelSequenceClassification.\n",
            "\n",
            "07/05/2020 23:37:30 - INFO - transformers.modeling_utils -   All the weights of XLNetForMultiLabelSequenceClassification were initialized from the model checkpoint at ./models/output/model_out/.\n",
            "If your task is similar to the task the model of the ckeckpoint was trained on, you can already use XLNetForMultiLabelSequenceClassification for predictions without further training.\n"
          ],
          "name": "stdout"
        }
      ]
    },
    {
      "cell_type": "markdown",
      "metadata": {
        "id": "uMLR4U-W7t9T",
        "colab_type": "text"
      },
      "source": [
        "Examples from [Readdle Privacy Policy](https://readdle.com/privacy)"
      ]
    },
    {
      "cell_type": "code",
      "metadata": {
        "id": "n66sVz8-aEoM",
        "colab_type": "code",
        "colab": {
          "base_uri": "https://localhost:8080/",
          "height": 256
        },
        "outputId": "eceab9ba-3f5b-4af1-a96b-ab68acae0180"
      },
      "source": [
        "predictor.predict_batch([\"\"\"Unless no shorter storage period is indicated in this privacy policy, we, \n",
        "                        in general, store Personal Data as long (i) as required for the provision of the Services to you, \n",
        "                        and/or (ii) as it is necessary with regard to the contractual relationship with you, thereafter only \n",
        "                        if and to the extent that we are obliged to do so by mandatory statutory retention obligations. \n",
        "                        If we no longer require the respective Personal Data for the purposes described above, such Personal \n",
        "                        Data will only be stored during the respective legal retention period and not processed for other purposes.\"\"\"])"
      ],
      "execution_count": null,
      "outputs": [
        {
          "output_type": "stream",
          "text": [
            "07/05/2020 23:37:33 - INFO - root -   Writing example 0 of 1\n"
          ],
          "name": "stdout"
        },
        {
          "output_type": "execute_result",
          "data": {
            "text/plain": [
              "[[('Data Retention', 0.971166729927063),\n",
              "  ('First Party Collection/Use', 0.098568394780159),\n",
              "  ('International and Specific Audiences', 0.070105642080307),\n",
              "  ('User Access Edit and Deletion', 0.065472811460495),\n",
              "  ('Third Party Sharing/Collection', 0.057098206132650375),\n",
              "  ('Practice not covered', 0.05584406852722168),\n",
              "  ('Do Not Track', 0.0371263362467289),\n",
              "  ('Data Security', 0.03128070756793022),\n",
              "  ('Privacy contact information', 0.02200254611670971),\n",
              "  ('User Choice/Control', 0.01853892020881176),\n",
              "  ('Policy Change', 0.009368144907057285),\n",
              "  ('Introductory/Generic', 0.004830758087337017)]]"
            ]
          },
          "metadata": {
            "tags": []
          },
          "execution_count": 13
        }
      ]
    },
    {
      "cell_type": "code",
      "metadata": {
        "id": "K_DgYB2w7Q8x",
        "colab_type": "code",
        "colab": {
          "base_uri": "https://localhost:8080/",
          "height": 256
        },
        "outputId": "460650b0-19b8-41e7-ab8e-df6e184a27b4"
      },
      "source": [
        "predictor.predict_batch([\"\"\"We have taken extensive technical and operational precautions to protect the Personal Data retained \n",
        "                          by us against unauthorized access and misuse.\n",
        "                           Our security procedures are revised regularly and adapted to reflect technological progress.\"\"\"])"
      ],
      "execution_count": null,
      "outputs": [
        {
          "output_type": "stream",
          "text": [
            "07/05/2020 23:37:33 - INFO - root -   Writing example 0 of 1\n"
          ],
          "name": "stdout"
        },
        {
          "output_type": "execute_result",
          "data": {
            "text/plain": [
              "[[('Data Security', 0.9835371375083923),\n",
              "  ('Data Retention', 0.018327999860048294),\n",
              "  ('First Party Collection/Use', 0.01700400561094284),\n",
              "  ('Introductory/Generic', 0.012382513843476772),\n",
              "  ('Third Party Sharing/Collection', 0.010146232321858406),\n",
              "  ('User Choice/Control', 0.00648467754945159),\n",
              "  ('Practice not covered', 0.006338837556540966),\n",
              "  ('Privacy contact information', 0.00616452656686306),\n",
              "  ('User Access Edit and Deletion', 0.005124018527567387),\n",
              "  ('International and Specific Audiences', 0.004654853604733944),\n",
              "  ('Policy Change', 0.0038991225883364677),\n",
              "  ('Do Not Track', 0.0030028994660824537)]]"
            ]
          },
          "metadata": {
            "tags": []
          },
          "execution_count": 14
        }
      ]
    },
    {
      "cell_type": "code",
      "metadata": {
        "id": "SLdK4x8sOYmJ",
        "colab_type": "code",
        "colab": {}
      },
      "source": [
        "data_true = pd.read_csv('./data/test.csv',usecols=['First Party Collection/Use', 'Third Party Sharing/Collection', 'User Access Edit and Deletion',\n",
        "                                                   'Data Retention', 'Data Security', 'International and Specific Audiences', 'Do Not Track',\n",
        "                                                   'Policy Change', 'User Choice/Control', 'Introductory/Generic', 'Practice not covered',\n",
        "                                                   'Privacy contact information'])"
      ],
      "execution_count": null,
      "outputs": []
    },
    {
      "cell_type": "code",
      "metadata": {
        "id": "iytZ1wolOwtN",
        "colab_type": "code",
        "colab": {
          "base_uri": "https://localhost:8080/",
          "height": 55
        },
        "outputId": "c8698cb1-20a8-4686-bf91-97aa01da9bf3"
      },
      "source": [
        "label_cols = list(data_true.columns)\n",
        "num_labels = len(label_cols)\n",
        "print('Label columns: ', num_labels ,\" :\", label_cols)"
      ],
      "execution_count": null,
      "outputs": [
        {
          "output_type": "stream",
          "text": [
            "Label columns:  12  : ['First Party Collection/Use', 'Third Party Sharing/Collection', 'User Access Edit and Deletion', 'Data Retention', 'Data Security', 'International and Specific Audiences', 'Do Not Track', 'Policy Change', 'User Choice/Control', 'Introductory/Generic', 'Practice not covered', 'Privacy contact information']\n"
          ],
          "name": "stdout"
        }
      ]
    },
    {
      "cell_type": "code",
      "metadata": {
        "id": "nRbfszwZPnjt",
        "colab_type": "code",
        "colab": {
          "base_uri": "https://localhost:8080/",
          "height": 365
        },
        "outputId": "eb97070b-80d6-4acd-84c9-69d113172ab0"
      },
      "source": [
        "data_true['one_hot_labels'] = list(data_true[label_cols].values)\n",
        "data_true.head()"
      ],
      "execution_count": null,
      "outputs": [
        {
          "output_type": "execute_result",
          "data": {
            "text/html": [
              "<div>\n",
              "<style scoped>\n",
              "    .dataframe tbody tr th:only-of-type {\n",
              "        vertical-align: middle;\n",
              "    }\n",
              "\n",
              "    .dataframe tbody tr th {\n",
              "        vertical-align: top;\n",
              "    }\n",
              "\n",
              "    .dataframe thead th {\n",
              "        text-align: right;\n",
              "    }\n",
              "</style>\n",
              "<table border=\"1\" class=\"dataframe\">\n",
              "  <thead>\n",
              "    <tr style=\"text-align: right;\">\n",
              "      <th></th>\n",
              "      <th>First Party Collection/Use</th>\n",
              "      <th>Third Party Sharing/Collection</th>\n",
              "      <th>User Access Edit and Deletion</th>\n",
              "      <th>Data Retention</th>\n",
              "      <th>Data Security</th>\n",
              "      <th>International and Specific Audiences</th>\n",
              "      <th>Do Not Track</th>\n",
              "      <th>Policy Change</th>\n",
              "      <th>User Choice/Control</th>\n",
              "      <th>Introductory/Generic</th>\n",
              "      <th>Practice not covered</th>\n",
              "      <th>Privacy contact information</th>\n",
              "      <th>one_hot_labels</th>\n",
              "    </tr>\n",
              "  </thead>\n",
              "  <tbody>\n",
              "    <tr>\n",
              "      <th>0</th>\n",
              "      <td>0</td>\n",
              "      <td>0</td>\n",
              "      <td>0</td>\n",
              "      <td>0</td>\n",
              "      <td>0</td>\n",
              "      <td>0</td>\n",
              "      <td>0</td>\n",
              "      <td>0</td>\n",
              "      <td>0</td>\n",
              "      <td>1</td>\n",
              "      <td>0</td>\n",
              "      <td>0</td>\n",
              "      <td>[0, 0, 0, 0, 0, 0, 0, 0, 0, 1, 0, 0]</td>\n",
              "    </tr>\n",
              "    <tr>\n",
              "      <th>1</th>\n",
              "      <td>0</td>\n",
              "      <td>0</td>\n",
              "      <td>0</td>\n",
              "      <td>1</td>\n",
              "      <td>0</td>\n",
              "      <td>0</td>\n",
              "      <td>0</td>\n",
              "      <td>0</td>\n",
              "      <td>0</td>\n",
              "      <td>0</td>\n",
              "      <td>0</td>\n",
              "      <td>0</td>\n",
              "      <td>[0, 0, 0, 1, 0, 0, 0, 0, 0, 0, 0, 0]</td>\n",
              "    </tr>\n",
              "    <tr>\n",
              "      <th>2</th>\n",
              "      <td>0</td>\n",
              "      <td>0</td>\n",
              "      <td>0</td>\n",
              "      <td>0</td>\n",
              "      <td>0</td>\n",
              "      <td>0</td>\n",
              "      <td>0</td>\n",
              "      <td>0</td>\n",
              "      <td>0</td>\n",
              "      <td>1</td>\n",
              "      <td>0</td>\n",
              "      <td>0</td>\n",
              "      <td>[0, 0, 0, 0, 0, 0, 0, 0, 0, 1, 0, 0]</td>\n",
              "    </tr>\n",
              "    <tr>\n",
              "      <th>3</th>\n",
              "      <td>0</td>\n",
              "      <td>0</td>\n",
              "      <td>0</td>\n",
              "      <td>0</td>\n",
              "      <td>0</td>\n",
              "      <td>0</td>\n",
              "      <td>0</td>\n",
              "      <td>0</td>\n",
              "      <td>0</td>\n",
              "      <td>1</td>\n",
              "      <td>0</td>\n",
              "      <td>0</td>\n",
              "      <td>[0, 0, 0, 0, 0, 0, 0, 0, 0, 1, 0, 0]</td>\n",
              "    </tr>\n",
              "    <tr>\n",
              "      <th>4</th>\n",
              "      <td>0</td>\n",
              "      <td>0</td>\n",
              "      <td>0</td>\n",
              "      <td>0</td>\n",
              "      <td>0</td>\n",
              "      <td>0</td>\n",
              "      <td>0</td>\n",
              "      <td>0</td>\n",
              "      <td>0</td>\n",
              "      <td>0</td>\n",
              "      <td>0</td>\n",
              "      <td>1</td>\n",
              "      <td>[0, 0, 0, 0, 0, 0, 0, 0, 0, 0, 0, 1]</td>\n",
              "    </tr>\n",
              "  </tbody>\n",
              "</table>\n",
              "</div>"
            ],
            "text/plain": [
              "   First Party Collection/Use  ...                        one_hot_labels\n",
              "0  0                           ...  [0, 0, 0, 0, 0, 0, 0, 0, 0, 1, 0, 0]\n",
              "1  0                           ...  [0, 0, 0, 1, 0, 0, 0, 0, 0, 0, 0, 0]\n",
              "2  0                           ...  [0, 0, 0, 0, 0, 0, 0, 0, 0, 1, 0, 0]\n",
              "3  0                           ...  [0, 0, 0, 0, 0, 0, 0, 0, 0, 1, 0, 0]\n",
              "4  0                           ...  [0, 0, 0, 0, 0, 0, 0, 0, 0, 0, 0, 1]\n",
              "\n",
              "[5 rows x 13 columns]"
            ]
          },
          "metadata": {
            "tags": []
          },
          "execution_count": 17
        }
      ]
    },
    {
      "cell_type": "code",
      "metadata": {
        "id": "Wk7uwL6LaTzV",
        "colab_type": "code",
        "colab": {
          "base_uri": "https://localhost:8080/",
          "height": 35
        },
        "outputId": "49700f58-e919-4530-bf20-9459d78a09a3"
      },
      "source": [
        "output = predictor.predict_batch(list(pd.read_csv(\"./data/test.csv\")['text'].values))"
      ],
      "execution_count": null,
      "outputs": [
        {
          "output_type": "stream",
          "text": [
            "07/05/2020 23:37:33 - INFO - root -   Writing example 0 of 697\n"
          ],
          "name": "stdout"
        }
      ]
    },
    {
      "cell_type": "code",
      "metadata": {
        "id": "I935dl4aovet",
        "colab_type": "code",
        "colab": {
          "base_uri": "https://localhost:8080/",
          "height": 237
        },
        "outputId": "17b0d6b0-e3b0-4260-d0c5-00cdae707f27"
      },
      "source": [
        "output[0]"
      ],
      "execution_count": null,
      "outputs": [
        {
          "output_type": "execute_result",
          "data": {
            "text/plain": [
              "[('Policy Change', 0.9675731658935547),\n",
              " ('Introductory/Generic', 0.10871566087007523),\n",
              " ('International and Specific Audiences', 0.014690202660858631),\n",
              " ('First Party Collection/Use', 0.014292731881141663),\n",
              " ('Privacy contact information', 0.010994847863912582),\n",
              " ('User Access Edit and Deletion', 0.009102728217840195),\n",
              " ('Practice not covered', 0.008714914321899414),\n",
              " ('Third Party Sharing/Collection', 0.007862123660743237),\n",
              " ('User Choice/Control', 0.005560227204114199),\n",
              " ('Do Not Track', 0.005237790755927563),\n",
              " ('Data Retention', 0.0034489822573959827),\n",
              " ('Data Security', 0.0029655008111149073)]"
            ]
          },
          "metadata": {
            "tags": []
          },
          "execution_count": 19
        }
      ]
    },
    {
      "cell_type": "code",
      "metadata": {
        "id": "KhMvzUQdL44g",
        "colab_type": "code",
        "colab": {}
      },
      "source": [
        "pd.DataFrame(output).to_csv('./data/output_xlnet.csv')"
      ],
      "execution_count": null,
      "outputs": []
    },
    {
      "cell_type": "code",
      "metadata": {
        "id": "M3Gjr9X0Lhby",
        "colab_type": "code",
        "colab": {}
      },
      "source": [
        "results = pd.read_csv('./data/output_xlnet.csv')"
      ],
      "execution_count": null,
      "outputs": []
    },
    {
      "cell_type": "code",
      "metadata": {
        "id": "YVAkY2DVLnJ8",
        "colab_type": "code",
        "colab": {}
      },
      "source": [
        "def apply_tresh(y_pred):\n",
        "  thresh = 0.5\n",
        "  return float(y_pred > thresh)"
      ],
      "execution_count": null,
      "outputs": []
    },
    {
      "cell_type": "code",
      "metadata": {
        "id": "wHvqNX3RNLia",
        "colab_type": "code",
        "colab": {}
      },
      "source": [
        "preds = pd.DataFrame([{item[0]: apply_tresh(item[1]) for item in pred} for pred in output])"
      ],
      "execution_count": null,
      "outputs": []
    },
    {
      "cell_type": "code",
      "metadata": {
        "id": "CJlLZLPILuww",
        "colab_type": "code",
        "colab": {
          "base_uri": "https://localhost:8080/",
          "height": 278
        },
        "outputId": "1889dadf-fb77-4121-89fd-aefc9c0c630d"
      },
      "source": [
        "preds = preds[label_cols]\n",
        "preds.head()"
      ],
      "execution_count": null,
      "outputs": [
        {
          "output_type": "execute_result",
          "data": {
            "text/html": [
              "<div>\n",
              "<style scoped>\n",
              "    .dataframe tbody tr th:only-of-type {\n",
              "        vertical-align: middle;\n",
              "    }\n",
              "\n",
              "    .dataframe tbody tr th {\n",
              "        vertical-align: top;\n",
              "    }\n",
              "\n",
              "    .dataframe thead th {\n",
              "        text-align: right;\n",
              "    }\n",
              "</style>\n",
              "<table border=\"1\" class=\"dataframe\">\n",
              "  <thead>\n",
              "    <tr style=\"text-align: right;\">\n",
              "      <th></th>\n",
              "      <th>First Party Collection/Use</th>\n",
              "      <th>Third Party Sharing/Collection</th>\n",
              "      <th>User Access Edit and Deletion</th>\n",
              "      <th>Data Retention</th>\n",
              "      <th>Data Security</th>\n",
              "      <th>International and Specific Audiences</th>\n",
              "      <th>Do Not Track</th>\n",
              "      <th>Policy Change</th>\n",
              "      <th>User Choice/Control</th>\n",
              "      <th>Introductory/Generic</th>\n",
              "      <th>Practice not covered</th>\n",
              "      <th>Privacy contact information</th>\n",
              "    </tr>\n",
              "  </thead>\n",
              "  <tbody>\n",
              "    <tr>\n",
              "      <th>0</th>\n",
              "      <td>0.0</td>\n",
              "      <td>0.0</td>\n",
              "      <td>0.0</td>\n",
              "      <td>0.0</td>\n",
              "      <td>0.0</td>\n",
              "      <td>0.0</td>\n",
              "      <td>0.0</td>\n",
              "      <td>1.0</td>\n",
              "      <td>0.0</td>\n",
              "      <td>0.0</td>\n",
              "      <td>0.0</td>\n",
              "      <td>0.0</td>\n",
              "    </tr>\n",
              "    <tr>\n",
              "      <th>1</th>\n",
              "      <td>1.0</td>\n",
              "      <td>0.0</td>\n",
              "      <td>0.0</td>\n",
              "      <td>0.0</td>\n",
              "      <td>0.0</td>\n",
              "      <td>0.0</td>\n",
              "      <td>0.0</td>\n",
              "      <td>0.0</td>\n",
              "      <td>0.0</td>\n",
              "      <td>0.0</td>\n",
              "      <td>0.0</td>\n",
              "      <td>0.0</td>\n",
              "    </tr>\n",
              "    <tr>\n",
              "      <th>2</th>\n",
              "      <td>0.0</td>\n",
              "      <td>0.0</td>\n",
              "      <td>0.0</td>\n",
              "      <td>0.0</td>\n",
              "      <td>0.0</td>\n",
              "      <td>0.0</td>\n",
              "      <td>0.0</td>\n",
              "      <td>0.0</td>\n",
              "      <td>0.0</td>\n",
              "      <td>1.0</td>\n",
              "      <td>0.0</td>\n",
              "      <td>0.0</td>\n",
              "    </tr>\n",
              "    <tr>\n",
              "      <th>3</th>\n",
              "      <td>0.0</td>\n",
              "      <td>0.0</td>\n",
              "      <td>0.0</td>\n",
              "      <td>0.0</td>\n",
              "      <td>0.0</td>\n",
              "      <td>0.0</td>\n",
              "      <td>0.0</td>\n",
              "      <td>0.0</td>\n",
              "      <td>0.0</td>\n",
              "      <td>1.0</td>\n",
              "      <td>0.0</td>\n",
              "      <td>0.0</td>\n",
              "    </tr>\n",
              "    <tr>\n",
              "      <th>4</th>\n",
              "      <td>0.0</td>\n",
              "      <td>0.0</td>\n",
              "      <td>1.0</td>\n",
              "      <td>0.0</td>\n",
              "      <td>0.0</td>\n",
              "      <td>0.0</td>\n",
              "      <td>0.0</td>\n",
              "      <td>0.0</td>\n",
              "      <td>0.0</td>\n",
              "      <td>0.0</td>\n",
              "      <td>0.0</td>\n",
              "      <td>1.0</td>\n",
              "    </tr>\n",
              "  </tbody>\n",
              "</table>\n",
              "</div>"
            ],
            "text/plain": [
              "   First Party Collection/Use  ...  Privacy contact information\n",
              "0  0.0                         ...  0.0                        \n",
              "1  1.0                         ...  0.0                        \n",
              "2  0.0                         ...  0.0                        \n",
              "3  0.0                         ...  0.0                        \n",
              "4  0.0                         ...  1.0                        \n",
              "\n",
              "[5 rows x 12 columns]"
            ]
          },
          "metadata": {
            "tags": []
          },
          "execution_count": 24
        }
      ]
    },
    {
      "cell_type": "code",
      "metadata": {
        "id": "guA3wNOqPyia",
        "colab_type": "code",
        "colab": {
          "base_uri": "https://localhost:8080/",
          "height": 55
        },
        "outputId": "b6373ef3-c677-4b34-888d-4a3e15ce56e6"
      },
      "source": [
        "pred_label_cols = list(preds.columns)\n",
        "num_labels = len(label_cols)\n",
        "print('Label columns: ', num_labels ,\" :\", label_cols)"
      ],
      "execution_count": null,
      "outputs": [
        {
          "output_type": "stream",
          "text": [
            "Label columns:  12  : ['First Party Collection/Use', 'Third Party Sharing/Collection', 'User Access Edit and Deletion', 'Data Retention', 'Data Security', 'International and Specific Audiences', 'Do Not Track', 'Policy Change', 'User Choice/Control', 'Introductory/Generic', 'Practice not covered', 'Privacy contact information']\n"
          ],
          "name": "stdout"
        }
      ]
    },
    {
      "cell_type": "code",
      "metadata": {
        "id": "TJlENsXjP-Ss",
        "colab_type": "code",
        "colab": {
          "base_uri": "https://localhost:8080/",
          "height": 452
        },
        "outputId": "f903a264-2e89-4a51-ed24-187e9aed7ccb"
      },
      "source": [
        "preds['one_hot_labels'] = list(preds[pred_label_cols].values)\n",
        "preds.head()"
      ],
      "execution_count": null,
      "outputs": [
        {
          "output_type": "execute_result",
          "data": {
            "text/html": [
              "<div>\n",
              "<style scoped>\n",
              "    .dataframe tbody tr th:only-of-type {\n",
              "        vertical-align: middle;\n",
              "    }\n",
              "\n",
              "    .dataframe tbody tr th {\n",
              "        vertical-align: top;\n",
              "    }\n",
              "\n",
              "    .dataframe thead th {\n",
              "        text-align: right;\n",
              "    }\n",
              "</style>\n",
              "<table border=\"1\" class=\"dataframe\">\n",
              "  <thead>\n",
              "    <tr style=\"text-align: right;\">\n",
              "      <th></th>\n",
              "      <th>First Party Collection/Use</th>\n",
              "      <th>Third Party Sharing/Collection</th>\n",
              "      <th>User Access Edit and Deletion</th>\n",
              "      <th>Data Retention</th>\n",
              "      <th>Data Security</th>\n",
              "      <th>International and Specific Audiences</th>\n",
              "      <th>Do Not Track</th>\n",
              "      <th>Policy Change</th>\n",
              "      <th>User Choice/Control</th>\n",
              "      <th>Introductory/Generic</th>\n",
              "      <th>Practice not covered</th>\n",
              "      <th>Privacy contact information</th>\n",
              "      <th>one_hot_labels</th>\n",
              "    </tr>\n",
              "  </thead>\n",
              "  <tbody>\n",
              "    <tr>\n",
              "      <th>0</th>\n",
              "      <td>0.0</td>\n",
              "      <td>0.0</td>\n",
              "      <td>0.0</td>\n",
              "      <td>0.0</td>\n",
              "      <td>0.0</td>\n",
              "      <td>0.0</td>\n",
              "      <td>0.0</td>\n",
              "      <td>1.0</td>\n",
              "      <td>0.0</td>\n",
              "      <td>0.0</td>\n",
              "      <td>0.0</td>\n",
              "      <td>0.0</td>\n",
              "      <td>[0.0, 0.0, 0.0, 0.0, 0.0, 0.0, 0.0, 1.0, 0.0, 0.0, 0.0, 0.0]</td>\n",
              "    </tr>\n",
              "    <tr>\n",
              "      <th>1</th>\n",
              "      <td>1.0</td>\n",
              "      <td>0.0</td>\n",
              "      <td>0.0</td>\n",
              "      <td>0.0</td>\n",
              "      <td>0.0</td>\n",
              "      <td>0.0</td>\n",
              "      <td>0.0</td>\n",
              "      <td>0.0</td>\n",
              "      <td>0.0</td>\n",
              "      <td>0.0</td>\n",
              "      <td>0.0</td>\n",
              "      <td>0.0</td>\n",
              "      <td>[1.0, 0.0, 0.0, 0.0, 0.0, 0.0, 0.0, 0.0, 0.0, 0.0, 0.0, 0.0]</td>\n",
              "    </tr>\n",
              "    <tr>\n",
              "      <th>2</th>\n",
              "      <td>0.0</td>\n",
              "      <td>0.0</td>\n",
              "      <td>0.0</td>\n",
              "      <td>0.0</td>\n",
              "      <td>0.0</td>\n",
              "      <td>0.0</td>\n",
              "      <td>0.0</td>\n",
              "      <td>0.0</td>\n",
              "      <td>0.0</td>\n",
              "      <td>1.0</td>\n",
              "      <td>0.0</td>\n",
              "      <td>0.0</td>\n",
              "      <td>[0.0, 0.0, 0.0, 0.0, 0.0, 0.0, 0.0, 0.0, 0.0, 1.0, 0.0, 0.0]</td>\n",
              "    </tr>\n",
              "    <tr>\n",
              "      <th>3</th>\n",
              "      <td>0.0</td>\n",
              "      <td>0.0</td>\n",
              "      <td>0.0</td>\n",
              "      <td>0.0</td>\n",
              "      <td>0.0</td>\n",
              "      <td>0.0</td>\n",
              "      <td>0.0</td>\n",
              "      <td>0.0</td>\n",
              "      <td>0.0</td>\n",
              "      <td>1.0</td>\n",
              "      <td>0.0</td>\n",
              "      <td>0.0</td>\n",
              "      <td>[0.0, 0.0, 0.0, 0.0, 0.0, 0.0, 0.0, 0.0, 0.0, 1.0, 0.0, 0.0]</td>\n",
              "    </tr>\n",
              "    <tr>\n",
              "      <th>4</th>\n",
              "      <td>0.0</td>\n",
              "      <td>0.0</td>\n",
              "      <td>1.0</td>\n",
              "      <td>0.0</td>\n",
              "      <td>0.0</td>\n",
              "      <td>0.0</td>\n",
              "      <td>0.0</td>\n",
              "      <td>0.0</td>\n",
              "      <td>0.0</td>\n",
              "      <td>0.0</td>\n",
              "      <td>0.0</td>\n",
              "      <td>1.0</td>\n",
              "      <td>[0.0, 0.0, 1.0, 0.0, 0.0, 0.0, 0.0, 0.0, 0.0, 0.0, 0.0, 1.0]</td>\n",
              "    </tr>\n",
              "  </tbody>\n",
              "</table>\n",
              "</div>"
            ],
            "text/plain": [
              "   First Party Collection/Use  ...                                                one_hot_labels\n",
              "0  0.0                         ...  [0.0, 0.0, 0.0, 0.0, 0.0, 0.0, 0.0, 1.0, 0.0, 0.0, 0.0, 0.0]\n",
              "1  1.0                         ...  [1.0, 0.0, 0.0, 0.0, 0.0, 0.0, 0.0, 0.0, 0.0, 0.0, 0.0, 0.0]\n",
              "2  0.0                         ...  [0.0, 0.0, 0.0, 0.0, 0.0, 0.0, 0.0, 0.0, 0.0, 1.0, 0.0, 0.0]\n",
              "3  0.0                         ...  [0.0, 0.0, 0.0, 0.0, 0.0, 0.0, 0.0, 0.0, 0.0, 1.0, 0.0, 0.0]\n",
              "4  0.0                         ...  [0.0, 0.0, 1.0, 0.0, 0.0, 0.0, 0.0, 0.0, 0.0, 0.0, 0.0, 1.0]\n",
              "\n",
              "[5 rows x 13 columns]"
            ]
          },
          "metadata": {
            "tags": []
          },
          "execution_count": 26
        }
      ]
    },
    {
      "cell_type": "code",
      "metadata": {
        "id": "SideZXgHl63V",
        "colab_type": "code",
        "colab": {
          "base_uri": "https://localhost:8080/",
          "height": 478
        },
        "outputId": "8edacc89-bd39-4ea7-baaa-56914076be58"
      },
      "source": [
        "from sklearn.metrics import classification_report\n",
        "\n",
        "y_true = list(data_true['one_hot_labels'])\n",
        "y_pred = list(preds['one_hot_labels'])\n",
        "\n",
        "clf_report = classification_report(y_true,y_pred,target_names=label_cols)\n",
        "print(clf_report)"
      ],
      "execution_count": null,
      "outputs": [
        {
          "output_type": "stream",
          "text": [
            "                                      precision    recall  f1-score   support\n",
            "\n",
            "          First Party Collection/Use       0.85      0.92      0.88       175\n",
            "      Third Party Sharing/Collection       0.88      0.90      0.89       158\n",
            "       User Access Edit and Deletion       0.79      0.90      0.84        21\n",
            "                      Data Retention       0.69      0.79      0.73        14\n",
            "                       Data Security       0.93      0.87      0.90        31\n",
            "International and Specific Audiences       0.91      1.00      0.95        40\n",
            "                        Do Not Track       1.00      0.67      0.80         6\n",
            "                       Policy Change       0.87      0.80      0.83        25\n",
            "                 User Choice/Control       0.88      0.75      0.81        48\n",
            "                Introductory/Generic       0.88      0.70      0.78        70\n",
            "                Practice not covered       0.62      0.48      0.54        21\n",
            "         Privacy contact information       0.82      0.84      0.83        32\n",
            "\n",
            "                           micro avg       0.86      0.85      0.86       641\n",
            "                           macro avg       0.84      0.80      0.81       641\n",
            "                        weighted avg       0.86      0.85      0.85       641\n",
            "                         samples avg       0.87      0.87      0.86       641\n",
            "\n"
          ],
          "name": "stdout"
        },
        {
          "output_type": "stream",
          "text": [
            "/usr/local/lib/python3.6/dist-packages/sklearn/metrics/_classification.py:1272: UndefinedMetricWarning: Precision and F-score are ill-defined and being set to 0.0 in samples with no predicted labels. Use `zero_division` parameter to control this behavior.\n",
            "  _warn_prf(average, modifier, msg_start, len(result))\n",
            "/usr/local/lib/python3.6/dist-packages/sklearn/metrics/_classification.py:1272: UndefinedMetricWarning: Recall and F-score are ill-defined and being set to 0.0 in samples with no true labels. Use `zero_division` parameter to control this behavior.\n",
            "  _warn_prf(average, modifier, msg_start, len(result))\n"
          ],
          "name": "stderr"
        }
      ]
    }
  ]
}