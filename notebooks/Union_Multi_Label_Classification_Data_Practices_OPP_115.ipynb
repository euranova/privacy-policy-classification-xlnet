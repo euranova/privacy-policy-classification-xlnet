{
  "nbformat": 4,
  "nbformat_minor": 0,
  "metadata": {
    "kernelspec": {
      "display_name": "Environment (conda_pytorch_transformers)",
      "language": "python",
      "name": "conda_pytorch_transformers"
    },
    "language_info": {
      "codemirror_mode": {
        "name": "ipython",
        "version": 3
      },
      "file_extension": ".py",
      "mimetype": "text/x-python",
      "name": "python",
      "nbconvert_exporter": "python",
      "pygments_lexer": "ipython3",
      "version": "3.6.8"
    },
    "colab": {
      "name": "Copy of Union_Multi_Label_Classification_Data_Practices_OPP_115.ipynb",
      "provenance": [],
      "collapsed_sections": []
    },
    "accelerator": "GPU"
  },
  "cells": [
    {
      "cell_type": "code",
      "metadata": {
        "id": "jUuHUpJBsJZg",
        "colab_type": "code",
        "colab": {
          "base_uri": "https://localhost:8080/",
          "height": 35
        },
        "outputId": "fc3ea180-bd90-4553-e849-36d9b4778716"
      },
      "source": [
        "import tensorflow as tf\n",
        "\n",
        "# Get the GPU device name.\n",
        "device_name = tf.test.gpu_device_name()\n",
        "\n",
        "# The device name should look like the following:\n",
        "if device_name == '/device:GPU:0':\n",
        "    print('Found GPU at: {}'.format(device_name))\n",
        "else:\n",
        "    raise SystemError('GPU device not found')"
      ],
      "execution_count": null,
      "outputs": [
        {
          "output_type": "stream",
          "text": [
            "Found GPU at: /device:GPU:0\n"
          ],
          "name": "stdout"
        }
      ]
    },
    {
      "cell_type": "code",
      "metadata": {
        "id": "LRiR_PG3sM6c",
        "colab_type": "code",
        "colab": {
          "base_uri": "https://localhost:8080/",
          "height": 54
        },
        "outputId": "a8fd62ee-81b0-4cc1-8db3-9ae294d797a0"
      },
      "source": [
        "import torch\n",
        "\n",
        "# If there's a GPU available...\n",
        "if torch.cuda.is_available():    \n",
        "\n",
        "    # Tell PyTorch to use the GPU.    \n",
        "    device = torch.device(\"cuda\")\n",
        "\n",
        "    print('There are %d GPU(s) available.' % torch.cuda.device_count())\n",
        "\n",
        "    print('We will use the GPU:', torch.cuda.get_device_name(0))\n",
        "\n",
        "# If not...\n",
        "else:\n",
        "    print('No GPU available, using the CPU instead.')\n",
        "    device = torch.device(\"cpu\")"
      ],
      "execution_count": null,
      "outputs": [
        {
          "output_type": "stream",
          "text": [
            "There are 1 GPU(s) available.\n",
            "We will use the GPU: Tesla P100-PCIE-16GB\n"
          ],
          "name": "stdout"
        }
      ]
    },
    {
      "cell_type": "code",
      "metadata": {
        "id": "OSL914ml56HQ",
        "colab_type": "code",
        "colab": {
          "base_uri": "https://localhost:8080/",
          "height": 35
        },
        "outputId": "869c59c1-e73c-46b2-be25-0967e85afa68"
      },
      "source": [
        "%%writefile setup.sh\n",
        "\n",
        "git clone https://github.com/NVIDIA/apex\n",
        "pip install -v --no-cache-dir --global-option=\"--cpp_ext\" --global-option=\"--cuda_ext\" ./apex"
      ],
      "execution_count": null,
      "outputs": [
        {
          "output_type": "stream",
          "text": [
            "Writing setup.sh\n"
          ],
          "name": "stdout"
        }
      ]
    },
    {
      "cell_type": "code",
      "metadata": {
        "id": "CLUQpmlU-EgM",
        "colab_type": "code",
        "colab": {}
      },
      "source": [
        "%%bash \n",
        "sh setup.sh"
      ],
      "execution_count": null,
      "outputs": []
    },
    {
      "cell_type": "code",
      "metadata": {
        "id": "7CtzlFdN_CAe",
        "colab_type": "code",
        "colab": {}
      },
      "source": [
        "import torch\n",
        "torch.cuda.empty_cache()"
      ],
      "execution_count": null,
      "outputs": []
    },
    {
      "cell_type": "code",
      "metadata": {
        "id": "DYNL0BIqCDd2",
        "colab_type": "code",
        "colab": {}
      },
      "source": [
        "from transformers import BertTokenizer\n",
        "from pathlib import Path\n",
        "import torch\n",
        "\n",
        "from box import Box\n",
        "import pandas as pd\n",
        "import collections\n",
        "import os\n",
        "from tqdm import tqdm, trange\n",
        "import sys\n",
        "import random\n",
        "import numpy as np\n",
        "import apex\n",
        "from sklearn.model_selection import train_test_split\n",
        "\n",
        "import datetime\n",
        "\n",
        "from fast_bert.modeling import BertForMultiLabelSequenceClassification\n",
        "from fast_bert.data_cls import BertDataBunch, InputExample, InputFeatures, MultiLabelTextProcessor, convert_examples_to_features\n",
        "from fast_bert.learner_cls import BertLearner\n",
        "#from fast_bert.metrics import accuracy_multilabel, accuracy_thresh, fbeta, roc_auc, F1"
      ],
      "execution_count": null,
      "outputs": []
    },
    {
      "cell_type": "code",
      "metadata": {
        "id": "s-cwNctWCHxQ",
        "colab_type": "code",
        "colab": {
          "base_uri": "https://localhost:8080/",
          "height": 74
        },
        "outputId": "1f48e7c4-39b0-4075-b8b8-160432a09d4c"
      },
      "source": [
        "pd.set_option('display.max_colwidth', -1)\n",
        "run_start_time = datetime.datetime.today().strftime('%Y-%m-%d_%H-%M-%S')"
      ],
      "execution_count": null,
      "outputs": [
        {
          "output_type": "stream",
          "text": [
            "/usr/local/lib/python3.6/dist-packages/ipykernel_launcher.py:1: FutureWarning: Passing a negative integer is deprecated in version 1.0 and will not be supported in future version. Instead, use None to not limit the column width.\n",
            "  \"\"\"Entry point for launching an IPython kernel.\n"
          ],
          "name": "stderr"
        }
      ]
    },
    {
      "cell_type": "code",
      "metadata": {
        "id": "56K2rFlYCKKc",
        "colab_type": "code",
        "colab": {}
      },
      "source": [
        "DATA_PATH = Path('./data/')\n",
        "LABEL_PATH = Path('./labels/')\n",
        "\n",
        "MODEL_PATH=Path('./models/')\n",
        "LOG_PATH=Path('./logs/')\n",
        "MODEL_PATH.mkdir(exist_ok=True)\n",
        "\n",
        "model_state_dict = None\n",
        "\n",
        "FINETUNED_PATH = None\n",
        "\n",
        "LOG_PATH.mkdir(exist_ok=True)\n",
        "\n",
        "OUTPUT_PATH = MODEL_PATH/'output'\n",
        "OUTPUT_PATH.mkdir(exist_ok=True)"
      ],
      "execution_count": null,
      "outputs": []
    },
    {
      "cell_type": "code",
      "metadata": {
        "id": "ma9gihBlEfTO",
        "colab_type": "code",
        "colab": {}
      },
      "source": [
        "args = Box({\n",
        "    \"run_text\": \"multilabel Data Practices classification\",\n",
        "    \"train_size\": -1,\n",
        "    \"val_size\": -1,\n",
        "    \"log_path\": LOG_PATH,\n",
        "    \"full_data_dir\": DATA_PATH,\n",
        "    \"data_dir\": DATA_PATH,\n",
        "    \"task_name\": \"data_practice_classification_lib\",\n",
        "    \"no_cuda\": False,\n",
        "    \"bert_model\": BERT_PRETRAINED_PATH,\n",
        "    \"output_dir\": OUTPUT_PATH,\n",
        "    \"max_seq_length\": 512,\n",
        "    \"do_train\": True,\n",
        "    \"do_eval\": True,\n",
        "    \"do_lower_case\": True,\n",
        "    \"train_batch_size\": 8,\n",
        "    \"eval_batch_size\": 16,\n",
        "    \"learning_rate\": 3e-3,\n",
        "    \"num_train_epochs\": 5,\n",
        "    \"warmup_proportion\": 0.0,\n",
        "    \"no_cuda\": False,\n",
        "    \"local_rank\": -1,\n",
        "    \"seed\": 42,\n",
        "    \"gradient_accumulation_steps\": 1,\n",
        "    \"optimize_on_cpu\": False,\n",
        "    \"fp16\": True,\n",
        "    \"fp16_opt_level\": \"O1\",\n",
        "    \"weight_decay\": 0.0,\n",
        "    \"adam_epsilon\": 1e-8,\n",
        "    \"max_grad_norm\": 1.0,\n",
        "    \"max_steps\": -1,\n",
        "    \"warmup_steps\": 500,\n",
        "    \"logging_steps\": 50,\n",
        "    \"eval_all_checkpoints\": True,\n",
        "    \"overwrite_output_dir\": True,\n",
        "    \"overwrite_cache\": False,\n",
        "    \"seed\": 42,\n",
        "    \"loss_scale\": 128,\n",
        "    \"task_name\": 'intent',\n",
        "    \"model_name\": 'xlnet-base-cased',\n",
        "    \"model_type\": 'xlnet'\n",
        "})"
      ],
      "execution_count": null,
      "outputs": []
    },
    {
      "cell_type": "code",
      "metadata": {
        "id": "DgAy83nvE8Ew",
        "colab_type": "code",
        "colab": {}
      },
      "source": [
        "import logging\n",
        "\n",
        "logfile = str(LOG_PATH/'log-{}-{}.txt'.format(run_start_time, args[\"run_text\"]))\n",
        "\n",
        "logging.basicConfig(\n",
        "    level=logging.INFO,\n",
        "    format='%(asctime)s - %(levelname)s - %(name)s -   %(message)s',\n",
        "    datefmt='%m/%d/%Y %H:%M:%S',\n",
        "    handlers=[\n",
        "        logging.FileHandler(logfile),\n",
        "        logging.StreamHandler(sys.stdout)\n",
        "    ])\n",
        "\n",
        "logger = logging.getLogger()"
      ],
      "execution_count": null,
      "outputs": []
    },
    {
      "cell_type": "code",
      "metadata": {
        "id": "3-kyfkQQE_u0",
        "colab_type": "code",
        "colab": {
          "base_uri": "https://localhost:8080/",
          "height": 55
        },
        "outputId": "b8575a87-81ef-4e91-c526-ef108956a9d5"
      },
      "source": [
        "logger.info(args)"
      ],
      "execution_count": null,
      "outputs": [
        {
          "output_type": "stream",
          "text": [
            "07/04/2020 22:53:26 - INFO - root -   {'run_text': 'multilabel Data Practices classification', 'train_size': -1, 'val_size': -1, 'log_path': PosixPath('logs'), 'full_data_dir': PosixPath('data'), 'data_dir': PosixPath('data'), 'task_name': 'intent', 'no_cuda': False, 'bert_model': PosixPath('bert_models/pretrained-weights/uncased_L-12_H-768_A-12'), 'output_dir': PosixPath('models/output'), 'max_seq_length': 512, 'do_train': True, 'do_eval': True, 'do_lower_case': True, 'train_batch_size': 8, 'eval_batch_size': 16, 'learning_rate': 0.003, 'num_train_epochs': 4, 'warmup_proportion': 0.0, 'local_rank': -1, 'seed': 42, 'gradient_accumulation_steps': 1, 'optimize_on_cpu': False, 'fp16': True, 'fp16_opt_level': 'O1', 'weight_decay': 0.0, 'adam_epsilon': 1e-08, 'max_grad_norm': 1.0, 'max_steps': -1, 'warmup_steps': 500, 'logging_steps': 50, 'eval_all_checkpoints': True, 'overwrite_output_dir': True, 'overwrite_cache': False, 'loss_scale': 128, 'model_name': 'xlnet-base-cased', 'model_type': 'xlnet'}\n"
          ],
          "name": "stdout"
        }
      ]
    },
    {
      "cell_type": "code",
      "metadata": {
        "id": "SDYvhwvhGghn",
        "colab_type": "code",
        "colab": {}
      },
      "source": [
        "device = torch.device('cuda')\n",
        "if torch.cuda.device_count() > 1:\n",
        "    args.multi_gpu = True\n",
        "else:\n",
        "    args.multi_gpu = False"
      ],
      "execution_count": null,
      "outputs": []
    },
    {
      "cell_type": "code",
      "metadata": {
        "id": "DCjr5gOMGoUI",
        "colab_type": "code",
        "colab": {}
      },
      "source": [
        "label_cols = ['First Party Collection/Use', 'Third Party Sharing/Collection', 'User Access Edit and Deletion', 'Data Retention',\n",
        "              'Data Security', 'International and Specific Audiences', 'Do Not Track', 'Policy Change', 'User Choice/Control',\n",
        "              'Introductory/Generic', 'Practice not covered', 'Privacy contact information']"
      ],
      "execution_count": null,
      "outputs": []
    },
    {
      "cell_type": "code",
      "metadata": {
        "id": "sErO7gPkGt8r",
        "colab_type": "code",
        "colab": {
          "base_uri": "https://localhost:8080/",
          "height": 845
        },
        "outputId": "04fc4e99-18ad-4b80-97b6-d15d4a9efad8"
      },
      "source": [
        "databunch = BertDataBunch(args['data_dir'], LABEL_PATH, args.model_name, train_file='train.csv', val_file='val.csv',\n",
        "                          test_data='test.csv',\n",
        "                          text_col=\"text\", label_col=label_cols,\n",
        "                          batch_size_per_gpu=args['train_batch_size'], max_seq_length=args['max_seq_length'], \n",
        "                          multi_gpu=args.multi_gpu, multi_label=True, model_type=args.model_type)"
      ],
      "execution_count": null,
      "outputs": [
        {
          "output_type": "stream",
          "text": [
            "07/04/2020 22:53:32 - INFO - transformers.configuration_utils -   loading configuration file https://s3.amazonaws.com/models.huggingface.co/bert/xlnet-base-cased-config.json from cache at /root/.cache/torch/transformers/c9cc6e53904f7f3679a31ec4af244f4419e25ebc8e71ebf8c558a31cbcf07fc8.69e5e35e0b798cab5e473f253752f8bf4d280ee37682281a23eed80f6e2d09c6\n",
            "07/04/2020 22:53:32 - INFO - transformers.configuration_utils -   Model config XLNetConfig {\n",
            "  \"architectures\": [\n",
            "    \"XLNetLMHeadModel\"\n",
            "  ],\n",
            "  \"attn_type\": \"bi\",\n",
            "  \"bi_data\": false,\n",
            "  \"bos_token_id\": 1,\n",
            "  \"clamp_len\": -1,\n",
            "  \"d_head\": 64,\n",
            "  \"d_inner\": 3072,\n",
            "  \"d_model\": 768,\n",
            "  \"dropout\": 0.1,\n",
            "  \"end_n_top\": 5,\n",
            "  \"eos_token_id\": 2,\n",
            "  \"ff_activation\": \"gelu\",\n",
            "  \"initializer_range\": 0.02,\n",
            "  \"layer_norm_eps\": 1e-12,\n",
            "  \"mem_len\": null,\n",
            "  \"model_type\": \"xlnet\",\n",
            "  \"n_head\": 12,\n",
            "  \"n_layer\": 12,\n",
            "  \"pad_token_id\": 5,\n",
            "  \"reuse_len\": null,\n",
            "  \"same_length\": false,\n",
            "  \"start_n_top\": 5,\n",
            "  \"summary_activation\": \"tanh\",\n",
            "  \"summary_last_dropout\": 0.1,\n",
            "  \"summary_type\": \"last\",\n",
            "  \"summary_use_proj\": true,\n",
            "  \"task_specific_params\": {\n",
            "    \"text-generation\": {\n",
            "      \"do_sample\": true,\n",
            "      \"max_length\": 250\n",
            "    }\n",
            "  },\n",
            "  \"untie_r\": true,\n",
            "  \"vocab_size\": 32000\n",
            "}\n",
            "\n",
            "07/04/2020 22:53:32 - INFO - transformers.tokenization_utils_base -   loading file https://s3.amazonaws.com/models.huggingface.co/bert/xlnet-base-cased-spiece.model from cache at /root/.cache/torch/transformers/dad589d582573df0293448af5109cb6981ca77239ed314e15ca63b7b8a318ddd.8b10bd978b5d01c21303cc761fc9ecd464419b3bf921864a355ba807cfbfafa8\n",
            "07/04/2020 22:53:32 - INFO - root -   Loading features from cached file data/cache/cached_xlnet_train_multi_label_512_train.csv\n",
            "07/04/2020 22:53:32 - INFO - root -   Loading features from cached file data/cache/cached_xlnet_dev_multi_label_512_val.csv\n",
            "07/04/2020 22:53:32 - INFO - root -   Loading features from cached file data/cache/cached_xlnet_test_multi_label_512_test\n"
          ],
          "name": "stdout"
        }
      ]
    },
    {
      "cell_type": "code",
      "metadata": {
        "id": "TqC5R7aaxavW",
        "colab_type": "code",
        "colab": {}
      },
      "source": [
        "from fast_bert.metrics import roc_auc, accuracy_thresh, fbeta , accuracy_multilabel\n",
        "from sklearn.metrics import classification_report,hamming_loss, accuracy_score, roc_curve, auc, roc_auc_score, f1_score, multilabel_confusion_matrix\n",
        "from torch import Tensor\n",
        "\n",
        "threshold = 0.5\n",
        "\n",
        "\n",
        "### Metrics functions:\n",
        "def Hamming_loss(y_pred:Tensor, y_true:Tensor, sigmoid:bool = True, thresh:float = threshold, sample_weight = None):\n",
        "    if sigmoid: y_pred = y_pred.sigmoid()\n",
        "    y_pred = y_pred.cpu()\n",
        "    y_true = y_true.cpu()\n",
        "    y_pred = (y_pred > thresh).float()\n",
        "    return hamming_loss(y_true, y_pred, sample_weight = sample_weight)\n",
        "\n",
        "def Exact_Match_Ratio(y_pred:Tensor, y_true:Tensor, sigmoid:bool = True, thresh:float = threshold, normalize:bool = True, sample_weight = None):\n",
        "    if sigmoid: y_pred = y_pred.sigmoid()\n",
        "    y_pred = y_pred.cpu()\n",
        "    y_true = y_true.cpu()\n",
        "    y_pred = (y_pred > thresh).float()\n",
        "    return accuracy_score(y_true, y_pred, normalize = normalize, sample_weight = sample_weight)\n",
        "\n",
        "def roc_auc_score_macro(y_pred:Tensor, y_true:Tensor, sigmoid:bool = True, average = 'macro', sample_weight = None):\n",
        "    if sigmoid: y_pred = y_pred.sigmoid()\n",
        "    y_pred = y_pred.cpu()\n",
        "    y_true = y_true.cpu()\n",
        "    return roc_auc_score(y_true, y_pred, average = average, sample_weight = sample_weight)\n",
        "\n",
        "def roc_auc_score_micro(y_pred:Tensor, y_true:Tensor, sigmoid:bool = True):\n",
        "    y_pred = y_pred.cpu()\n",
        "    y_true = y_true.cpu()\n",
        "    return roc_auc_score_macro(y_pred, y_true, sigmoid = sigmoid, average = 'micro')\n",
        "\n",
        "def roc_auc_score_by_label(y_pred:Tensor, y_true:Tensor, sigmoid:bool = True):\n",
        "    y_pred = y_pred.cpu()\n",
        "    y_true = y_true.cpu()\n",
        "    return roc_auc_score_macro(y_pred, y_true, sigmoid = sigmoid, average = None)\n",
        "\n",
        "def ROC_AUC_by_label(y_pred: Tensor, y_true: Tensor, sigmoid:bool = True, labels:list = label_cols):\n",
        "    # Compute ROC curve and ROC area for each label\n",
        "    if sigmoid: y_pred = y_pred.sigmoid()\n",
        "    fpr = dict()\n",
        "    tpr = dict()\n",
        "    roc_auc = dict()\n",
        "    y_pred = y_pred.cpu()\n",
        "    y_true = y_true.cpu()\n",
        "    for i in range(len(labels)):\n",
        "        fpr[i], tpr[i], _ = roc_curve(y_true[:, i], y_pred[:, i])\n",
        "        roc_auc[label_cols[i]] = auc(fpr[i], tpr[i])\n",
        "    return roc_auc\n",
        "\n",
        "def F1(y_pred:Tensor, y_true:Tensor, sigmoid:bool = True, threshold:float = threshold):\n",
        "    y_pred = y_pred.cpu()\n",
        "    y_true = y_true.cpu()\n",
        "    return fbeta(y_pred, y_true, sigmoid = sigmoid, thresh = threshold, beta = 1)\n",
        "\n",
        "def F1_macro(y_pred:Tensor, y_true:Tensor, sigmoid:bool = True, thresh:float = threshold, average = 'macro', sample_weight = None):\n",
        "    if sigmoid: y_pred = y_pred.sigmoid()\n",
        "    y_pred = y_pred.cpu()\n",
        "    y_true = y_true.cpu()\n",
        "    y_pred = (y_pred > thresh).float()\n",
        "    return f1_score(y_true, y_pred, average = average, sample_weight = sample_weight)\n",
        "\n",
        "def F1_micro(y_pred:Tensor, y_true:Tensor, sigmoid:bool = True):\n",
        "    y_pred = y_pred.cpu()\n",
        "    y_true = y_true.cpu()\n",
        "    return F1_macro(y_pred, y_true, sigmoid = sigmoid, average = 'micro')\n",
        "\n",
        "def F1_by_label(y_pred:Tensor, y_true:Tensor, sigmoid:bool = True, thresh:float = threshold, sample_weight = None, labels:list = label_cols):\n",
        "    if sigmoid: y_pred = y_pred.sigmoid()\n",
        "    y_pred = y_pred.cpu()\n",
        "    y_true = y_true.cpu()\n",
        "    y_pred = (y_pred > thresh).float()\n",
        "    return f1_score(y_true, y_pred, average = None)\n",
        "\n",
        "def cls_report(y_pred:Tensor, y_true:Tensor, sigmoid:bool = True, thresh:float = threshold,labels:list = label_cols):\n",
        "    if sigmoid: y_pred = y_pred.sigmoid()\n",
        "    y_pred = y_pred.cpu()\n",
        "    y_true = y_true.cpu()\n",
        "    y_pred = (y_pred > thresh).float()\n",
        "    return classification_report(y_true,y_pred,target_names=label_cols)\n",
        "\n",
        "def accuracy_by_label(y_pred: Tensor, y_true: Tensor, sigmoid:bool = True, thresh:float = threshold, normalize:bool = True, sample_weight = None, labels:list = label_cols):\n",
        "    if sigmoid: y_pred = y_pred.sigmoid()\n",
        "    y_pred = y_pred.cpu()\n",
        "    y_true = y_true.cpu()\n",
        "    y_pred = (y_pred > thresh).float()\n",
        "    accuracies = {}\n",
        "    for i in range(len(labels)):\n",
        "        accuracies[label_cols[i]] = accuracy_score(y_true[:, i], y_pred[:, i], normalize = normalize, sample_weight = sample_weight)\n",
        "    return accuracies\n",
        "\n",
        "def confusion_matrix_by_label(y_pred:Tensor, y_true:Tensor, sigmoid:bool = True, thresh:float = threshold, sample_weight = None, samplewise = False, labels:list = label_cols):\n",
        "    if sigmoid: y_pred = y_pred.sigmoid()\n",
        "    y_pred = y_pred.cpu()\n",
        "    y_true = y_true.cpu()\n",
        "    y_pred = (y_pred > thresh).float()\n",
        "    return multilabel_confusion_matrix(y_true, y_pred, labels = [i for i in range(len(labels))], sample_weight = sample_weight, samplewise = samplewise)"
      ],
      "execution_count": null,
      "outputs": []
    },
    {
      "cell_type": "code",
      "metadata": {
        "id": "TqX8dQWzIt0G",
        "colab_type": "code",
        "colab": {}
      },
      "source": [
        "metrics = []\n",
        "metrics.append({'name': 'F1_macro', 'function': F1_macro})\n",
        "metrics.append({'name': 'F1_micro', 'function': F1_micro})\n",
        "metrics.append({'name': 'roc_auc_score_macro', 'function': roc_auc_score_macro})\n",
        "metrics.append({'name': 'roc_auc_score_micro', 'function': roc_auc_score_micro})\n",
        "metrics.append({'name': 'F1_by_label', 'function': F1_by_label})\n",
        "metrics.append({'name': 'cls_report', 'function': cls_report})"
      ],
      "execution_count": null,
      "outputs": []
    },
    {
      "cell_type": "code",
      "metadata": {
        "id": "PN6RvtqEIvwM",
        "colab_type": "code",
        "colab": {
          "base_uri": "https://localhost:8080/",
          "height": 1000
        },
        "outputId": "4bb3bb47-f17c-44f1-bec1-2db60c998590"
      },
      "source": [
        "learner = BertLearner.from_pretrained_model(databunch, args.model_name, metrics=metrics, \n",
        "                                            device=device, logger=logger, output_dir=args.output_dir, \n",
        "                                            finetuned_wgts_path=FINETUNED_PATH, warmup_steps=args.warmup_steps,\n",
        "                                            multi_gpu=args.multi_gpu, is_fp16=args.fp16, \n",
        "                                            multi_label=True, logging_steps=0)"
      ],
      "execution_count": null,
      "outputs": [
        {
          "output_type": "stream",
          "text": [
            "07/04/2020 22:53:53 - INFO - transformers.configuration_utils -   loading configuration file https://s3.amazonaws.com/models.huggingface.co/bert/xlnet-base-cased-config.json from cache at /root/.cache/torch/transformers/c9cc6e53904f7f3679a31ec4af244f4419e25ebc8e71ebf8c558a31cbcf07fc8.69e5e35e0b798cab5e473f253752f8bf4d280ee37682281a23eed80f6e2d09c6\n",
            "07/04/2020 22:53:53 - INFO - transformers.configuration_utils -   Model config XLNetConfig {\n",
            "  \"architectures\": [\n",
            "    \"XLNetLMHeadModel\"\n",
            "  ],\n",
            "  \"attn_type\": \"bi\",\n",
            "  \"bi_data\": false,\n",
            "  \"bos_token_id\": 1,\n",
            "  \"clamp_len\": -1,\n",
            "  \"d_head\": 64,\n",
            "  \"d_inner\": 3072,\n",
            "  \"d_model\": 768,\n",
            "  \"dropout\": 0.1,\n",
            "  \"end_n_top\": 5,\n",
            "  \"eos_token_id\": 2,\n",
            "  \"ff_activation\": \"gelu\",\n",
            "  \"id2label\": {\n",
            "    \"0\": \"LABEL_0\",\n",
            "    \"1\": \"LABEL_1\",\n",
            "    \"2\": \"LABEL_2\",\n",
            "    \"3\": \"LABEL_3\",\n",
            "    \"4\": \"LABEL_4\",\n",
            "    \"5\": \"LABEL_5\",\n",
            "    \"6\": \"LABEL_6\",\n",
            "    \"7\": \"LABEL_7\",\n",
            "    \"8\": \"LABEL_8\",\n",
            "    \"9\": \"LABEL_9\",\n",
            "    \"10\": \"LABEL_10\",\n",
            "    \"11\": \"LABEL_11\"\n",
            "  },\n",
            "  \"initializer_range\": 0.02,\n",
            "  \"label2id\": {\n",
            "    \"LABEL_0\": 0,\n",
            "    \"LABEL_1\": 1,\n",
            "    \"LABEL_10\": 10,\n",
            "    \"LABEL_11\": 11,\n",
            "    \"LABEL_2\": 2,\n",
            "    \"LABEL_3\": 3,\n",
            "    \"LABEL_4\": 4,\n",
            "    \"LABEL_5\": 5,\n",
            "    \"LABEL_6\": 6,\n",
            "    \"LABEL_7\": 7,\n",
            "    \"LABEL_8\": 8,\n",
            "    \"LABEL_9\": 9\n",
            "  },\n",
            "  \"layer_norm_eps\": 1e-12,\n",
            "  \"mem_len\": null,\n",
            "  \"model_type\": \"xlnet\",\n",
            "  \"n_head\": 12,\n",
            "  \"n_layer\": 12,\n",
            "  \"pad_token_id\": 5,\n",
            "  \"reuse_len\": null,\n",
            "  \"same_length\": false,\n",
            "  \"start_n_top\": 5,\n",
            "  \"summary_activation\": \"tanh\",\n",
            "  \"summary_last_dropout\": 0.1,\n",
            "  \"summary_type\": \"last\",\n",
            "  \"summary_use_proj\": true,\n",
            "  \"task_specific_params\": {\n",
            "    \"text-generation\": {\n",
            "      \"do_sample\": true,\n",
            "      \"max_length\": 250\n",
            "    }\n",
            "  },\n",
            "  \"untie_r\": true,\n",
            "  \"vocab_size\": 32000\n",
            "}\n",
            "\n",
            "07/04/2020 22:53:53 - INFO - transformers.modeling_utils -   loading weights file https://cdn.huggingface.co/xlnet-base-cased-pytorch_model.bin from cache at /root/.cache/torch/transformers/33d6135fea0154c088449506a4c5f9553cb59b6fd040138417a7033af64bb8f9.7eac4fe898a021204e63c88c00ea68c60443c57f94b4bc3c02adbde6465745ac\n",
            "07/04/2020 22:53:56 - WARNING - transformers.modeling_utils -   Some weights of the model checkpoint at xlnet-base-cased were not used when initializing XLNetForMultiLabelSequenceClassification: ['lm_loss.weight', 'lm_loss.bias']\n",
            "- This IS expected if you are initializing XLNetForMultiLabelSequenceClassification from the checkpoint of a model trained on another task or with another architecture (e.g. initializing a BertForSequenceClassification model from a BertForPretraining model).\n",
            "- This IS NOT expected if you are initializing XLNetForMultiLabelSequenceClassification from the checkpoint of a model that you expect to be exactly identical (initializing a BertForSequenceClassification model from a BertForSequenceClassification model).\n",
            "07/04/2020 22:53:56 - WARNING - transformers.modeling_utils -   Some weights of XLNetForMultiLabelSequenceClassification were not initialized from the model checkpoint at xlnet-base-cased and are newly initialized: ['sequence_summary.summary.weight', 'sequence_summary.summary.bias', 'logits_proj.weight', 'logits_proj.bias']\n",
            "You should probably TRAIN this model on a down-stream task to be able to use it for predictions and inference.\n"
          ],
          "name": "stdout"
        }
      ]
    },
    {
      "cell_type": "code",
      "metadata": {
        "id": "tzjDXvDDI1qb",
        "colab_type": "code",
        "colab": {
          "base_uri": "https://localhost:8080/",
          "height": 1000
        },
        "outputId": "4e59a09b-c4cb-4697-dfdb-6fe36c06945f"
      },
      "source": [
        "learner.fit(args.num_train_epochs, args.learning_rate, validate=True,\n",
        "            schedule_type=\"warmup_cosine\", optimizer_type=\"lamb\")"
      ],
      "execution_count": null,
      "outputs": [
        {
          "output_type": "stream",
          "text": [
            "Selected optimization level O1:  Insert automatic casts around Pytorch functions and Tensor methods.\n",
            "\n",
            "Defaults for this optimization level are:\n",
            "enabled                : True\n",
            "opt_level              : O1\n",
            "cast_model_type        : None\n",
            "patch_torch_functions  : True\n",
            "keep_batchnorm_fp32    : None\n",
            "master_weights         : None\n",
            "loss_scale             : dynamic\n",
            "Processing user overrides (additional kwargs that are not None)...\n",
            "After processing overrides, optimization options are:\n",
            "enabled                : True\n",
            "opt_level              : O1\n",
            "cast_model_type        : None\n",
            "patch_torch_functions  : True\n",
            "keep_batchnorm_fp32    : None\n",
            "master_weights         : None\n",
            "loss_scale             : dynamic\n",
            "07/04/2020 18:08:32 - INFO - root -   ***** Running training *****\n",
            "07/04/2020 18:08:32 - INFO - root -     Num examples = 2385\n",
            "07/04/2020 18:08:32 - INFO - root -     Num Epochs = 5\n",
            "07/04/2020 18:08:32 - INFO - root -     Total train batch size (w. parallel, distributed & accumulation) = 8\n",
            "07/04/2020 18:08:32 - INFO - root -     Gradient Accumulation steps = 1\n",
            "07/04/2020 18:08:32 - INFO - root -     Total optimization steps = 1495\n"
          ],
          "name": "stdout"
        },
        {
          "output_type": "display_data",
          "data": {
            "text/html": [
              ""
            ],
            "text/plain": [
              "<IPython.core.display.HTML object>"
            ]
          },
          "metadata": {
            "tags": []
          }
        },
        {
          "output_type": "stream",
          "text": [
            "/pytorch/torch/csrc/utils/python_arg_parser.cpp:756: UserWarning: This overload of add_ is deprecated:\n",
            "\tadd_(Number alpha, Tensor other)\n",
            "Consider using one of the following signatures instead:\n",
            "\tadd_(Tensor other, *, Number alpha)\n"
          ],
          "name": "stderr"
        },
        {
          "output_type": "stream",
          "text": [
            "Gradient overflow.  Skipping step, loss scaler 0 reducing loss scale to 32768.0\n",
            "07/04/2020 18:13:33 - INFO - root -   Running evaluation\n",
            "07/04/2020 18:13:33 - INFO - root -     Num examples = 603\n",
            "07/04/2020 18:13:33 - INFO - root -     Batch size = 16\n"
          ],
          "name": "stdout"
        },
        {
          "output_type": "display_data",
          "data": {
            "text/html": [
              "\n",
              "    <div>\n",
              "        <style>\n",
              "            /* Turns off some styling */\n",
              "            progress {\n",
              "                /* gets rid of default border in Firefox and Opera. */\n",
              "                border: none;\n",
              "                /* Needs to be in here for Safari polyfill so background images work as expected. */\n",
              "                background-size: auto;\n",
              "            }\n",
              "            .progress-bar-interrupted, .progress-bar-interrupted::-webkit-progress-bar {\n",
              "                background: #F44336;\n",
              "            }\n",
              "        </style>\n",
              "      <progress value='38' class='' max='38' style='width:300px; height:20px; vertical-align: middle;'></progress>\n",
              "      100.00% [38/38 00:32<00:00]\n",
              "    </div>\n",
              "    "
            ],
            "text/plain": [
              "<IPython.core.display.HTML object>"
            ]
          },
          "metadata": {
            "tags": []
          }
        },
        {
          "output_type": "stream",
          "text": [
            "07/04/2020 18:14:06 - INFO - root -   eval_loss after epoch 1: 0.2613000261940454: \n",
            "07/04/2020 18:14:06 - INFO - root -   eval_F1_macro after epoch 1: 0.4595029996501489: \n",
            "07/04/2020 18:14:06 - INFO - root -   eval_F1_micro after epoch 1: 0.6017316017316018: \n",
            "07/04/2020 18:14:06 - INFO - root -   eval_roc_auc_score_macro after epoch 1: 0.8851981081775055: \n",
            "07/04/2020 18:14:06 - INFO - root -   eval_roc_auc_score_micro after epoch 1: 0.8945043926996347: \n",
            "07/04/2020 18:14:06 - INFO - root -   lr after epoch 1: 0.001196\n",
            "07/04/2020 18:14:06 - INFO - root -   train_loss after epoch 1: 0.35565310477413065\n",
            "07/04/2020 18:14:06 - INFO - root -   \n",
            "\n"
          ],
          "name": "stdout"
        },
        {
          "output_type": "stream",
          "text": [
            "/usr/local/lib/python3.6/dist-packages/torch/optim/lr_scheduler.py:231: UserWarning: To get the last learning rate computed by the scheduler, please use `get_last_lr()`.\n",
            "  warnings.warn(\"To get the last learning rate computed by the scheduler, \"\n"
          ],
          "name": "stderr"
        },
        {
          "output_type": "stream",
          "text": [
            "07/04/2020 18:19:08 - INFO - root -   Running evaluation\n",
            "07/04/2020 18:19:08 - INFO - root -     Num examples = 603\n",
            "07/04/2020 18:19:08 - INFO - root -     Batch size = 16\n"
          ],
          "name": "stdout"
        },
        {
          "output_type": "display_data",
          "data": {
            "text/html": [
              "\n",
              "    <div>\n",
              "        <style>\n",
              "            /* Turns off some styling */\n",
              "            progress {\n",
              "                /* gets rid of default border in Firefox and Opera. */\n",
              "                border: none;\n",
              "                /* Needs to be in here for Safari polyfill so background images work as expected. */\n",
              "                background-size: auto;\n",
              "            }\n",
              "            .progress-bar-interrupted, .progress-bar-interrupted::-webkit-progress-bar {\n",
              "                background: #F44336;\n",
              "            }\n",
              "        </style>\n",
              "      <progress value='38' class='' max='38' style='width:300px; height:20px; vertical-align: middle;'></progress>\n",
              "      100.00% [38/38 00:32<00:00]\n",
              "    </div>\n",
              "    "
            ],
            "text/plain": [
              "<IPython.core.display.HTML object>"
            ]
          },
          "metadata": {
            "tags": []
          }
        },
        {
          "output_type": "stream",
          "text": [
            "07/04/2020 18:19:40 - INFO - root -   eval_loss after epoch 2: 0.22174918337872154: \n",
            "07/04/2020 18:19:40 - INFO - root -   eval_F1_macro after epoch 2: 0.536723172210125: \n",
            "07/04/2020 18:19:40 - INFO - root -   eval_F1_micro after epoch 2: 0.6674132138857783: \n",
            "07/04/2020 18:19:40 - INFO - root -   eval_roc_auc_score_macro after epoch 2: 0.8993081140541799: \n",
            "07/04/2020 18:19:40 - INFO - root -   eval_roc_auc_score_micro after epoch 2: 0.9234169804309263: \n",
            "07/04/2020 18:19:40 - INFO - root -   lr after epoch 2: 0.0019525093704859154\n",
            "07/04/2020 18:19:40 - INFO - root -   train_loss after epoch 2: 0.21585697022867842\n",
            "07/04/2020 18:19:40 - INFO - root -   \n",
            "\n"
          ],
          "name": "stdout"
        },
        {
          "output_type": "stream",
          "text": [
            "/usr/local/lib/python3.6/dist-packages/torch/optim/lr_scheduler.py:231: UserWarning: To get the last learning rate computed by the scheduler, please use `get_last_lr()`.\n",
            "  warnings.warn(\"To get the last learning rate computed by the scheduler, \"\n"
          ],
          "name": "stderr"
        },
        {
          "output_type": "stream",
          "text": [
            "07/04/2020 18:24:42 - INFO - root -   Running evaluation\n",
            "07/04/2020 18:24:42 - INFO - root -     Num examples = 603\n",
            "07/04/2020 18:24:42 - INFO - root -     Batch size = 16\n"
          ],
          "name": "stdout"
        },
        {
          "output_type": "display_data",
          "data": {
            "text/html": [
              "\n",
              "    <div>\n",
              "        <style>\n",
              "            /* Turns off some styling */\n",
              "            progress {\n",
              "                /* gets rid of default border in Firefox and Opera. */\n",
              "                border: none;\n",
              "                /* Needs to be in here for Safari polyfill so background images work as expected. */\n",
              "                background-size: auto;\n",
              "            }\n",
              "            .progress-bar-interrupted, .progress-bar-interrupted::-webkit-progress-bar {\n",
              "                background: #F44336;\n",
              "            }\n",
              "        </style>\n",
              "      <progress value='38' class='' max='38' style='width:300px; height:20px; vertical-align: middle;'></progress>\n",
              "      100.00% [38/38 00:32<00:00]\n",
              "    </div>\n",
              "    "
            ],
            "text/plain": [
              "<IPython.core.display.HTML object>"
            ]
          },
          "metadata": {
            "tags": []
          }
        },
        {
          "output_type": "stream",
          "text": [
            "07/04/2020 18:25:15 - INFO - root -   eval_loss after epoch 3: 0.17429929344277634: \n",
            "07/04/2020 18:25:15 - INFO - root -   eval_F1_macro after epoch 3: 0.7035194188798904: \n",
            "07/04/2020 18:25:15 - INFO - root -   eval_F1_micro after epoch 3: 0.7405405405405406: \n",
            "07/04/2020 18:25:15 - INFO - root -   eval_roc_auc_score_macro after epoch 3: 0.932148859411587: \n",
            "07/04/2020 18:25:15 - INFO - root -   eval_roc_auc_score_micro after epoch 3: 0.9529978412395693: \n",
            "07/04/2020 18:25:15 - INFO - root -   lr after epoch 3: 0.0013120182954814436\n",
            "07/04/2020 18:25:15 - INFO - root -   train_loss after epoch 3: 0.17626326503761636\n",
            "07/04/2020 18:25:15 - INFO - root -   \n",
            "\n"
          ],
          "name": "stdout"
        },
        {
          "output_type": "stream",
          "text": [
            "/usr/local/lib/python3.6/dist-packages/torch/optim/lr_scheduler.py:231: UserWarning: To get the last learning rate computed by the scheduler, please use `get_last_lr()`.\n",
            "  warnings.warn(\"To get the last learning rate computed by the scheduler, \"\n"
          ],
          "name": "stderr"
        },
        {
          "output_type": "stream",
          "text": [
            "07/04/2020 18:30:16 - INFO - root -   Running evaluation\n",
            "07/04/2020 18:30:16 - INFO - root -     Num examples = 603\n",
            "07/04/2020 18:30:16 - INFO - root -     Batch size = 16\n"
          ],
          "name": "stdout"
        },
        {
          "output_type": "display_data",
          "data": {
            "text/html": [
              "\n",
              "    <div>\n",
              "        <style>\n",
              "            /* Turns off some styling */\n",
              "            progress {\n",
              "                /* gets rid of default border in Firefox and Opera. */\n",
              "                border: none;\n",
              "                /* Needs to be in here for Safari polyfill so background images work as expected. */\n",
              "                background-size: auto;\n",
              "            }\n",
              "            .progress-bar-interrupted, .progress-bar-interrupted::-webkit-progress-bar {\n",
              "                background: #F44336;\n",
              "            }\n",
              "        </style>\n",
              "      <progress value='38' class='' max='38' style='width:300px; height:20px; vertical-align: middle;'></progress>\n",
              "      100.00% [38/38 00:32<00:00]\n",
              "    </div>\n",
              "    "
            ],
            "text/plain": [
              "<IPython.core.display.HTML object>"
            ]
          },
          "metadata": {
            "tags": []
          }
        },
        {
          "output_type": "stream",
          "text": [
            "07/04/2020 18:30:48 - INFO - root -   eval_loss after epoch 4: 0.16266499126428052: \n",
            "07/04/2020 18:30:48 - INFO - root -   eval_F1_macro after epoch 4: 0.7502065996391788: \n",
            "07/04/2020 18:30:48 - INFO - root -   eval_F1_micro after epoch 4: 0.778894472361809: \n",
            "07/04/2020 18:30:48 - INFO - root -   eval_roc_auc_score_macro after epoch 4: 0.9455100698499819: \n",
            "07/04/2020 18:30:48 - INFO - root -   eval_roc_auc_score_micro after epoch 4: 0.9621240769176235: \n",
            "07/04/2020 18:30:48 - INFO - root -   lr after epoch 4: 0.00041349266649147654\n",
            "07/04/2020 18:30:48 - INFO - root -   train_loss after epoch 4: 0.12915618216812014\n",
            "07/04/2020 18:30:48 - INFO - root -   \n",
            "\n"
          ],
          "name": "stdout"
        },
        {
          "output_type": "stream",
          "text": [
            "/usr/local/lib/python3.6/dist-packages/torch/optim/lr_scheduler.py:231: UserWarning: To get the last learning rate computed by the scheduler, please use `get_last_lr()`.\n",
            "  warnings.warn(\"To get the last learning rate computed by the scheduler, \"\n"
          ],
          "name": "stderr"
        },
        {
          "output_type": "stream",
          "text": [
            "07/04/2020 18:35:49 - INFO - root -   Running evaluation\n",
            "07/04/2020 18:35:49 - INFO - root -     Num examples = 603\n",
            "07/04/2020 18:35:49 - INFO - root -     Batch size = 16\n"
          ],
          "name": "stdout"
        },
        {
          "output_type": "display_data",
          "data": {
            "text/html": [
              "\n",
              "    <div>\n",
              "        <style>\n",
              "            /* Turns off some styling */\n",
              "            progress {\n",
              "                /* gets rid of default border in Firefox and Opera. */\n",
              "                border: none;\n",
              "                /* Needs to be in here for Safari polyfill so background images work as expected. */\n",
              "                background-size: auto;\n",
              "            }\n",
              "            .progress-bar-interrupted, .progress-bar-interrupted::-webkit-progress-bar {\n",
              "                background: #F44336;\n",
              "            }\n",
              "        </style>\n",
              "      <progress value='38' class='' max='38' style='width:300px; height:20px; vertical-align: middle;'></progress>\n",
              "      100.00% [38/38 00:32<00:00]\n",
              "    </div>\n",
              "    "
            ],
            "text/plain": [
              "<IPython.core.display.HTML object>"
            ]
          },
          "metadata": {
            "tags": []
          }
        },
        {
          "output_type": "stream",
          "text": [
            "07/04/2020 18:36:22 - INFO - root -   eval_loss after epoch 5: 0.16442010061521278: \n",
            "07/04/2020 18:36:22 - INFO - root -   eval_F1_macro after epoch 5: 0.772367881344099: \n",
            "07/04/2020 18:36:22 - INFO - root -   eval_F1_micro after epoch 5: 0.7799188640973631: \n",
            "07/04/2020 18:36:22 - INFO - root -   eval_roc_auc_score_macro after epoch 5: 0.9459749215176255: \n",
            "07/04/2020 18:36:22 - INFO - root -   eval_roc_auc_score_micro after epoch 5: 0.9624281419468731: \n",
            "07/04/2020 18:36:22 - INFO - root -   lr after epoch 5: 0.0\n",
            "07/04/2020 18:36:22 - INFO - root -   train_loss after epoch 5: 0.08383220616715609\n",
            "07/04/2020 18:36:22 - INFO - root -   \n",
            "\n"
          ],
          "name": "stdout"
        },
        {
          "output_type": "stream",
          "text": [
            "/usr/local/lib/python3.6/dist-packages/torch/optim/lr_scheduler.py:231: UserWarning: To get the last learning rate computed by the scheduler, please use `get_last_lr()`.\n",
            "  warnings.warn(\"To get the last learning rate computed by the scheduler, \"\n"
          ],
          "name": "stderr"
        },
        {
          "output_type": "execute_result",
          "data": {
            "text/plain": [
              "(1495, 0.1921523456751403)"
            ]
          },
          "metadata": {
            "tags": []
          },
          "execution_count": 18
        }
      ]
    },
    {
      "cell_type": "code",
      "metadata": {
        "colab_type": "code",
        "id": "xPIr6FAdvWf3",
        "colab": {
          "base_uri": "https://localhost:8080/",
          "height": 184
        },
        "outputId": "5891dd3e-8040-48f3-845c-e8e1ee3d7072"
      },
      "source": [
        "learner.validate()"
      ],
      "execution_count": null,
      "outputs": [
        {
          "output_type": "stream",
          "text": [
            "07/04/2020 18:39:07 - INFO - root -   Running evaluation\n",
            "07/04/2020 18:39:07 - INFO - root -     Num examples = 603\n",
            "07/04/2020 18:39:07 - INFO - root -     Batch size = 16\n"
          ],
          "name": "stdout"
        },
        {
          "output_type": "display_data",
          "data": {
            "text/html": [
              "\n",
              "    <div>\n",
              "        <style>\n",
              "            /* Turns off some styling */\n",
              "            progress {\n",
              "                /* gets rid of default border in Firefox and Opera. */\n",
              "                border: none;\n",
              "                /* Needs to be in here for Safari polyfill so background images work as expected. */\n",
              "                background-size: auto;\n",
              "            }\n",
              "            .progress-bar-interrupted, .progress-bar-interrupted::-webkit-progress-bar {\n",
              "                background: #F44336;\n",
              "            }\n",
              "        </style>\n",
              "      <progress value='38' class='' max='38' style='width:300px; height:20px; vertical-align: middle;'></progress>\n",
              "      100.00% [38/38 00:32<00:00]\n",
              "    </div>\n",
              "    "
            ],
            "text/plain": [
              "<IPython.core.display.HTML object>"
            ]
          },
          "metadata": {
            "tags": []
          }
        },
        {
          "output_type": "execute_result",
          "data": {
            "text/plain": [
              "{'F1_macro': 0.772367881344099,\n",
              " 'F1_micro': 0.7799188640973631,\n",
              " 'loss': 0.16442010061521278,\n",
              " 'roc_auc_score_macro': 0.9459749215176255,\n",
              " 'roc_auc_score_micro': 0.9624281419468731}"
            ]
          },
          "metadata": {
            "tags": []
          },
          "execution_count": 19
        }
      ]
    },
    {
      "cell_type": "code",
      "metadata": {
        "id": "zRjiHHxdJAWU",
        "colab_type": "code",
        "colab": {
          "base_uri": "https://localhost:8080/",
          "height": 74
        },
        "outputId": "cae25516-cce1-423a-839d-41959505bc74"
      },
      "source": [
        "learner.save_model()"
      ],
      "execution_count": null,
      "outputs": [
        {
          "output_type": "stream",
          "text": [
            "07/04/2020 18:40:10 - INFO - transformers.configuration_utils -   Configuration saved in models/output/model_out/config.json\n",
            "07/04/2020 18:40:11 - INFO - transformers.modeling_utils -   Model weights saved in models/output/model_out/pytorch_model.bin\n"
          ],
          "name": "stdout"
        }
      ]
    },
    {
      "cell_type": "code",
      "metadata": {
        "id": "02B3ttopTy4-",
        "colab_type": "code",
        "colab": {}
      },
      "source": [
        "import textwrap \n",
        " \n",
        "# Wrap this text. \n",
        "wrapper = textwrap.TextWrapper(width=100) "
      ],
      "execution_count": null,
      "outputs": []
    },
    {
      "cell_type": "code",
      "metadata": {
        "id": "MzyW0SRlJB5W",
        "colab_type": "code",
        "colab": {
          "base_uri": "https://localhost:8080/",
          "height": 421
        },
        "outputId": "2e8ddd17-cb64-463d-cdf7-7bc22c1743fe"
      },
      "source": [
        "print(wrapper.fill(list(pd.read_csv('./data/test.csv')['text'].values)[20:21][0]))\n",
        "print()\n",
        "learner.predict_batch(list(pd.read_csv('./data/test.csv')['text'].values)[21:22])"
      ],
      "execution_count": null,
      "outputs": [
        {
          "output_type": "stream",
          "text": [
            "Choice/Opt-Out. We offer you the opportunity to choose not to receive communications from us. If you\n",
            "would like to take advantage of this opportunity, please let us know by accessing and updating your\n",
            "profile. Please note that sometimes these requests may take up to ten business days to process and\n",
            "that we are not responsible for removing information about you from the database of any third party\n",
            "to whom we were authorized to disclose your User Information prior to processing your request. Even\n",
            "if you do take advantage of this opportunity, we reserve the right to send you administrative\n",
            "messages relating to the Services (e.g., about changes to this Privacy Policy) and to contact you\n",
            "regarding any goods or services you have ordered.\n",
            "\n",
            "07/04/2020 18:40:22 - INFO - root -   Writing example 0 of 1\n"
          ],
          "name": "stdout"
        },
        {
          "output_type": "execute_result",
          "data": {
            "text/plain": [
              "[[('First Party Collection/Use', 0.732421875),\n",
              "  ('Practice not covered', 0.369140625),\n",
              "  ('Introductory/Generic', 0.11181640625),\n",
              "  ('User Access Edit and Deletion', 0.033905029296875),\n",
              "  ('Third Party Sharing/Collection', 0.012725830078125),\n",
              "  ('Data Security', 0.006744384765625),\n",
              "  ('User Choice/Control', 0.00646209716796875),\n",
              "  ('Privacy contact information', 0.006313323974609375),\n",
              "  ('Data Retention', 0.0027370452880859375),\n",
              "  ('International and Specific Audiences', 0.00238800048828125),\n",
              "  ('Policy Change', 0.0013561248779296875),\n",
              "  ('Do Not Track', 0.00034880638122558594)]]"
            ]
          },
          "metadata": {
            "tags": []
          },
          "execution_count": 22
        }
      ]
    },
    {
      "cell_type": "code",
      "metadata": {
        "id": "Jogfi2gaVrOU",
        "colab_type": "code",
        "colab": {
          "base_uri": "https://localhost:8080/",
          "height": 1000
        },
        "outputId": "83f7209a-6afe-41e5-e2a6-a3fad6fcfcf3"
      },
      "source": [
        "from fast_bert.prediction import BertClassificationPredictor\n",
        "\n",
        "PATH = Path(\"./models/\")\n",
        "OUT_PATH = \"./models/output/model_out/\"\n",
        "\n",
        "predictor = BertClassificationPredictor(OUT_PATH, LABEL_PATH, multi_label=True, model_type=args.model_type)"
      ],
      "execution_count": null,
      "outputs": [
        {
          "output_type": "stream",
          "text": [
            "07/04/2020 19:53:27 - INFO - transformers.configuration_utils -   loading configuration file ./models/output/model_out/config.json\n",
            "07/04/2020 19:53:27 - INFO - transformers.configuration_utils -   Model config XLNetConfig {\n",
            "  \"architectures\": [\n",
            "    \"XLNetForMultiLabelSequenceClassification\"\n",
            "  ],\n",
            "  \"attn_type\": \"bi\",\n",
            "  \"bi_data\": false,\n",
            "  \"bos_token_id\": 1,\n",
            "  \"clamp_len\": -1,\n",
            "  \"d_head\": 64,\n",
            "  \"d_inner\": 3072,\n",
            "  \"d_model\": 768,\n",
            "  \"dropout\": 0.1,\n",
            "  \"end_n_top\": 5,\n",
            "  \"eos_token_id\": 2,\n",
            "  \"ff_activation\": \"gelu\",\n",
            "  \"id2label\": {\n",
            "    \"0\": \"LABEL_0\",\n",
            "    \"1\": \"LABEL_1\",\n",
            "    \"2\": \"LABEL_2\",\n",
            "    \"3\": \"LABEL_3\",\n",
            "    \"4\": \"LABEL_4\",\n",
            "    \"5\": \"LABEL_5\",\n",
            "    \"6\": \"LABEL_6\",\n",
            "    \"7\": \"LABEL_7\",\n",
            "    \"8\": \"LABEL_8\",\n",
            "    \"9\": \"LABEL_9\",\n",
            "    \"10\": \"LABEL_10\",\n",
            "    \"11\": \"LABEL_11\"\n",
            "  },\n",
            "  \"initializer_range\": 0.02,\n",
            "  \"label2id\": {\n",
            "    \"LABEL_0\": 0,\n",
            "    \"LABEL_1\": 1,\n",
            "    \"LABEL_10\": 10,\n",
            "    \"LABEL_11\": 11,\n",
            "    \"LABEL_2\": 2,\n",
            "    \"LABEL_3\": 3,\n",
            "    \"LABEL_4\": 4,\n",
            "    \"LABEL_5\": 5,\n",
            "    \"LABEL_6\": 6,\n",
            "    \"LABEL_7\": 7,\n",
            "    \"LABEL_8\": 8,\n",
            "    \"LABEL_9\": 9\n",
            "  },\n",
            "  \"layer_norm_eps\": 1e-12,\n",
            "  \"mem_len\": null,\n",
            "  \"model_type\": \"xlnet\",\n",
            "  \"n_head\": 12,\n",
            "  \"n_layer\": 12,\n",
            "  \"pad_token_id\": 5,\n",
            "  \"reuse_len\": null,\n",
            "  \"same_length\": false,\n",
            "  \"start_n_top\": 5,\n",
            "  \"summary_activation\": \"tanh\",\n",
            "  \"summary_last_dropout\": 0.1,\n",
            "  \"summary_type\": \"last\",\n",
            "  \"summary_use_proj\": true,\n",
            "  \"task_specific_params\": {\n",
            "    \"text-generation\": {\n",
            "      \"do_sample\": true,\n",
            "      \"max_length\": 250\n",
            "    }\n",
            "  },\n",
            "  \"untie_r\": true,\n",
            "  \"vocab_size\": 32000\n",
            "}\n",
            "\n",
            "07/04/2020 19:53:27 - INFO - transformers.tokenization_utils_base -   Model name './models/output/model_out/' not found in model shortcut name list (xlnet-base-cased, xlnet-large-cased). Assuming './models/output/model_out/' is a path, a model identifier, or url to a directory containing tokenizer files.\n",
            "07/04/2020 19:53:27 - INFO - transformers.tokenization_utils_base -   Didn't find file ./models/output/model_out/added_tokens.json. We won't load it.\n",
            "07/04/2020 19:53:27 - INFO - transformers.tokenization_utils_base -   Didn't find file ./models/output/model_out/tokenizer.json. We won't load it.\n",
            "07/04/2020 19:53:27 - INFO - transformers.tokenization_utils_base -   loading file ./models/output/model_out/spiece.model\n",
            "07/04/2020 19:53:27 - INFO - transformers.tokenization_utils_base -   loading file None\n",
            "07/04/2020 19:53:27 - INFO - transformers.tokenization_utils_base -   loading file ./models/output/model_out/special_tokens_map.json\n",
            "07/04/2020 19:53:27 - INFO - transformers.tokenization_utils_base -   loading file ./models/output/model_out/tokenizer_config.json\n",
            "07/04/2020 19:53:27 - INFO - transformers.tokenization_utils_base -   loading file None\n",
            "07/04/2020 19:53:27 - INFO - transformers.configuration_utils -   loading configuration file ./models/output/model_out/config.json\n",
            "07/04/2020 19:53:27 - INFO - transformers.configuration_utils -   Model config XLNetConfig {\n",
            "  \"architectures\": [\n",
            "    \"XLNetForMultiLabelSequenceClassification\"\n",
            "  ],\n",
            "  \"attn_type\": \"bi\",\n",
            "  \"bi_data\": false,\n",
            "  \"bos_token_id\": 1,\n",
            "  \"clamp_len\": -1,\n",
            "  \"d_head\": 64,\n",
            "  \"d_inner\": 3072,\n",
            "  \"d_model\": 768,\n",
            "  \"dropout\": 0.1,\n",
            "  \"end_n_top\": 5,\n",
            "  \"eos_token_id\": 2,\n",
            "  \"ff_activation\": \"gelu\",\n",
            "  \"id2label\": {\n",
            "    \"0\": \"LABEL_0\",\n",
            "    \"1\": \"LABEL_1\",\n",
            "    \"2\": \"LABEL_2\",\n",
            "    \"3\": \"LABEL_3\",\n",
            "    \"4\": \"LABEL_4\",\n",
            "    \"5\": \"LABEL_5\",\n",
            "    \"6\": \"LABEL_6\",\n",
            "    \"7\": \"LABEL_7\",\n",
            "    \"8\": \"LABEL_8\",\n",
            "    \"9\": \"LABEL_9\",\n",
            "    \"10\": \"LABEL_10\",\n",
            "    \"11\": \"LABEL_11\"\n",
            "  },\n",
            "  \"initializer_range\": 0.02,\n",
            "  \"label2id\": {\n",
            "    \"LABEL_0\": 0,\n",
            "    \"LABEL_1\": 1,\n",
            "    \"LABEL_10\": 10,\n",
            "    \"LABEL_11\": 11,\n",
            "    \"LABEL_2\": 2,\n",
            "    \"LABEL_3\": 3,\n",
            "    \"LABEL_4\": 4,\n",
            "    \"LABEL_5\": 5,\n",
            "    \"LABEL_6\": 6,\n",
            "    \"LABEL_7\": 7,\n",
            "    \"LABEL_8\": 8,\n",
            "    \"LABEL_9\": 9\n",
            "  },\n",
            "  \"layer_norm_eps\": 1e-12,\n",
            "  \"mem_len\": null,\n",
            "  \"model_type\": \"xlnet\",\n",
            "  \"n_head\": 12,\n",
            "  \"n_layer\": 12,\n",
            "  \"pad_token_id\": 5,\n",
            "  \"reuse_len\": null,\n",
            "  \"same_length\": false,\n",
            "  \"start_n_top\": 5,\n",
            "  \"summary_activation\": \"tanh\",\n",
            "  \"summary_last_dropout\": 0.1,\n",
            "  \"summary_type\": \"last\",\n",
            "  \"summary_use_proj\": true,\n",
            "  \"task_specific_params\": {\n",
            "    \"text-generation\": {\n",
            "      \"do_sample\": true,\n",
            "      \"max_length\": 250\n",
            "    }\n",
            "  },\n",
            "  \"untie_r\": true,\n",
            "  \"vocab_size\": 32000\n",
            "}\n",
            "\n",
            "07/04/2020 19:53:27 - INFO - transformers.modeling_utils -   loading weights file ./models/output/model_out/pytorch_model.bin\n",
            "07/04/2020 19:53:30 - INFO - transformers.modeling_utils -   All model checkpoint weights were used when initializing XLNetForMultiLabelSequenceClassification.\n",
            "\n",
            "07/04/2020 19:53:30 - INFO - transformers.modeling_utils -   All the weights of XLNetForMultiLabelSequenceClassification were initialized from the model checkpoint at ./models/output/model_out/.\n",
            "If your task is similar to the task the model of the ckeckpoint was trained on, you can already use XLNetForMultiLabelSequenceClassification for predictions without further training.\n"
          ],
          "name": "stdout"
        }
      ]
    },
    {
      "cell_type": "markdown",
      "metadata": {
        "id": "uMLR4U-W7t9T",
        "colab_type": "text"
      },
      "source": [
        "Examples from [Readdle Privacy Policy](https://readdle.com/privacy)"
      ]
    },
    {
      "cell_type": "code",
      "metadata": {
        "id": "n66sVz8-aEoM",
        "colab_type": "code",
        "colab": {
          "base_uri": "https://localhost:8080/",
          "height": 256
        },
        "outputId": "fa5dcc52-886a-45e0-dbe9-4099a748e138"
      },
      "source": [
        "predictor.predict_batch([\"\"\"Unless no shorter storage period is indicated in this privacy policy, we, \n",
        "                        in general, store Personal Data as long (i) as required for the provision of the Services to you, \n",
        "                        and/or (ii) as it is necessary with regard to the contractual relationship with you, thereafter only \n",
        "                        if and to the extent that we are obliged to do so by mandatory statutory retention obligations. \n",
        "                        If we no longer require the respective Personal Data for the purposes described above, such Personal \n",
        "                        Data will only be stored during the respective legal retention period and not processed for other purposes.\"\"\"])"
      ],
      "execution_count": null,
      "outputs": [
        {
          "output_type": "stream",
          "text": [
            "07/04/2020 18:53:25 - INFO - root -   Writing example 0 of 1\n"
          ],
          "name": "stdout"
        },
        {
          "output_type": "execute_result",
          "data": {
            "text/plain": [
              "[[('Data Retention', 0.96923828125),\n",
              "  ('First Party Collection/Use', 0.81640625),\n",
              "  ('Practice not covered', 0.092041015625),\n",
              "  ('User Access Edit and Deletion', 0.0582275390625),\n",
              "  ('Third Party Sharing/Collection', 0.046722412109375),\n",
              "  ('User Choice/Control', 0.040771484375),\n",
              "  ('Introductory/Generic', 0.024139404296875),\n",
              "  ('Policy Change', 0.0173797607421875),\n",
              "  ('International and Specific Audiences', 0.014007568359375),\n",
              "  ('Data Security', 0.0104522705078125),\n",
              "  ('Privacy contact information', 0.00426483154296875),\n",
              "  ('Do Not Track', 0.0014553070068359375)]]"
            ]
          },
          "metadata": {
            "tags": []
          },
          "execution_count": 25
        }
      ]
    },
    {
      "cell_type": "code",
      "metadata": {
        "id": "Wk7uwL6LaTzV",
        "colab_type": "code",
        "colab": {
          "base_uri": "https://localhost:8080/",
          "height": 35
        },
        "outputId": "b95f8150-82b8-41eb-acf3-a0a237a17e8a"
      },
      "source": [
        "output = predictor.predict_batch(list(pd.read_csv(\"./data/test.csv\")['text'].values))"
      ],
      "execution_count": null,
      "outputs": [
        {
          "output_type": "stream",
          "text": [
            "07/04/2020 20:43:42 - INFO - root -   Writing example 0 of 749\n"
          ],
          "name": "stdout"
        }
      ]
    },
    {
      "cell_type": "code",
      "metadata": {
        "id": "KhMvzUQdL44g",
        "colab_type": "code",
        "colab": {}
      },
      "source": [
        "pd.DataFrame(output).to_csv('./data/output_xlnet.csv')"
      ],
      "execution_count": null,
      "outputs": []
    },
    {
      "cell_type": "code",
      "metadata": {
        "id": "M3Gjr9X0Lhby",
        "colab_type": "code",
        "colab": {}
      },
      "source": [
        "results = pd.read_csv('./data/output_xlnet.csv')"
      ],
      "execution_count": null,
      "outputs": []
    },
    {
      "cell_type": "code",
      "metadata": {
        "id": "YVAkY2DVLnJ8",
        "colab_type": "code",
        "colab": {}
      },
      "source": [
        "def apply_tresh(y_pred):\n",
        "  thresh = 0.5\n",
        "  return float(y_pred > thresh)"
      ],
      "execution_count": null,
      "outputs": []
    },
    {
      "cell_type": "code",
      "metadata": {
        "id": "wHvqNX3RNLia",
        "colab_type": "code",
        "colab": {}
      },
      "source": [
        "preds = pd.DataFrame([{item[0]: apply_tresh(item[1]) for item in pred} for pred in output])"
      ],
      "execution_count": null,
      "outputs": []
    },
    {
      "cell_type": "code",
      "metadata": {
        "id": "CJlLZLPILuww",
        "colab_type": "code",
        "colab": {
          "base_uri": "https://localhost:8080/",
          "height": 278
        },
        "outputId": "d07afc06-c404-4cb9-83bd-fb6e4153df40"
      },
      "source": [
        "preds.head()"
      ],
      "execution_count": null,
      "outputs": [
        {
          "output_type": "execute_result",
          "data": {
            "text/html": [
              "<div>\n",
              "<style scoped>\n",
              "    .dataframe tbody tr th:only-of-type {\n",
              "        vertical-align: middle;\n",
              "    }\n",
              "\n",
              "    .dataframe tbody tr th {\n",
              "        vertical-align: top;\n",
              "    }\n",
              "\n",
              "    .dataframe thead th {\n",
              "        text-align: right;\n",
              "    }\n",
              "</style>\n",
              "<table border=\"1\" class=\"dataframe\">\n",
              "  <thead>\n",
              "    <tr style=\"text-align: right;\">\n",
              "      <th></th>\n",
              "      <th>First Party Collection/Use</th>\n",
              "      <th>Introductory/Generic</th>\n",
              "      <th>Third Party Sharing/Collection</th>\n",
              "      <th>Practice not covered</th>\n",
              "      <th>Data Retention</th>\n",
              "      <th>User Choice/Control</th>\n",
              "      <th>Data Security</th>\n",
              "      <th>Policy Change</th>\n",
              "      <th>Privacy contact information</th>\n",
              "      <th>User Access Edit and Deletion</th>\n",
              "      <th>International and Specific Audiences</th>\n",
              "      <th>Do Not Track</th>\n",
              "    </tr>\n",
              "  </thead>\n",
              "  <tbody>\n",
              "    <tr>\n",
              "      <th>0</th>\n",
              "      <td>1.0</td>\n",
              "      <td>0.0</td>\n",
              "      <td>0.0</td>\n",
              "      <td>0.0</td>\n",
              "      <td>0.0</td>\n",
              "      <td>0.0</td>\n",
              "      <td>0.0</td>\n",
              "      <td>0.0</td>\n",
              "      <td>0.0</td>\n",
              "      <td>0.0</td>\n",
              "      <td>0.0</td>\n",
              "      <td>0.0</td>\n",
              "    </tr>\n",
              "    <tr>\n",
              "      <th>1</th>\n",
              "      <td>1.0</td>\n",
              "      <td>0.0</td>\n",
              "      <td>1.0</td>\n",
              "      <td>0.0</td>\n",
              "      <td>0.0</td>\n",
              "      <td>0.0</td>\n",
              "      <td>0.0</td>\n",
              "      <td>0.0</td>\n",
              "      <td>0.0</td>\n",
              "      <td>0.0</td>\n",
              "      <td>0.0</td>\n",
              "      <td>0.0</td>\n",
              "    </tr>\n",
              "    <tr>\n",
              "      <th>2</th>\n",
              "      <td>1.0</td>\n",
              "      <td>0.0</td>\n",
              "      <td>1.0</td>\n",
              "      <td>0.0</td>\n",
              "      <td>0.0</td>\n",
              "      <td>0.0</td>\n",
              "      <td>0.0</td>\n",
              "      <td>0.0</td>\n",
              "      <td>0.0</td>\n",
              "      <td>0.0</td>\n",
              "      <td>0.0</td>\n",
              "      <td>0.0</td>\n",
              "    </tr>\n",
              "    <tr>\n",
              "      <th>3</th>\n",
              "      <td>1.0</td>\n",
              "      <td>0.0</td>\n",
              "      <td>0.0</td>\n",
              "      <td>0.0</td>\n",
              "      <td>0.0</td>\n",
              "      <td>0.0</td>\n",
              "      <td>0.0</td>\n",
              "      <td>0.0</td>\n",
              "      <td>0.0</td>\n",
              "      <td>0.0</td>\n",
              "      <td>0.0</td>\n",
              "      <td>0.0</td>\n",
              "    </tr>\n",
              "    <tr>\n",
              "      <th>4</th>\n",
              "      <td>0.0</td>\n",
              "      <td>0.0</td>\n",
              "      <td>1.0</td>\n",
              "      <td>0.0</td>\n",
              "      <td>0.0</td>\n",
              "      <td>0.0</td>\n",
              "      <td>0.0</td>\n",
              "      <td>0.0</td>\n",
              "      <td>0.0</td>\n",
              "      <td>0.0</td>\n",
              "      <td>0.0</td>\n",
              "      <td>0.0</td>\n",
              "    </tr>\n",
              "  </tbody>\n",
              "</table>\n",
              "</div>"
            ],
            "text/plain": [
              "   First Party Collection/Use  ...  Do Not Track\n",
              "0  1.0                         ...  0.0         \n",
              "1  1.0                         ...  0.0         \n",
              "2  1.0                         ...  0.0         \n",
              "3  1.0                         ...  0.0         \n",
              "4  0.0                         ...  0.0         \n",
              "\n",
              "[5 rows x 12 columns]"
            ]
          },
          "metadata": {
            "tags": []
          },
          "execution_count": 125
        }
      ]
    },
    {
      "cell_type": "code",
      "metadata": {
        "id": "guA3wNOqPyia",
        "colab_type": "code",
        "colab": {
          "base_uri": "https://localhost:8080/",
          "height": 55
        },
        "outputId": "2d6a08e5-b833-4681-b6d5-1d3fabc1c624"
      },
      "source": [
        "pred_label_cols = list(preds.columns)\n",
        "num_labels = len(label_cols)\n",
        "print('Label columns: ', num_labels ,\" :\", label_cols)"
      ],
      "execution_count": null,
      "outputs": [
        {
          "output_type": "stream",
          "text": [
            "Label columns:  12  : ['First Party Collection/Use', 'Third Party Sharing/Collection', 'User Access Edit and Deletion', 'Data Retention', 'Data Security', 'International and Specific Audiences', 'Do Not Track', 'Policy Change', 'User Choice/Control', 'Introductory/Generic', 'Practice not covered', 'Privacy contact information']\n"
          ],
          "name": "stdout"
        }
      ]
    },
    {
      "cell_type": "code",
      "metadata": {
        "id": "TJlENsXjP-Ss",
        "colab_type": "code",
        "colab": {
          "base_uri": "https://localhost:8080/",
          "height": 452
        },
        "outputId": "41f203c1-2ae3-497e-e670-61455ad7166b"
      },
      "source": [
        "preds['one_hot_labels'] = list(preds[pred_label_cols].values)\n",
        "preds.head()"
      ],
      "execution_count": null,
      "outputs": [
        {
          "output_type": "execute_result",
          "data": {
            "text/html": [
              "<div>\n",
              "<style scoped>\n",
              "    .dataframe tbody tr th:only-of-type {\n",
              "        vertical-align: middle;\n",
              "    }\n",
              "\n",
              "    .dataframe tbody tr th {\n",
              "        vertical-align: top;\n",
              "    }\n",
              "\n",
              "    .dataframe thead th {\n",
              "        text-align: right;\n",
              "    }\n",
              "</style>\n",
              "<table border=\"1\" class=\"dataframe\">\n",
              "  <thead>\n",
              "    <tr style=\"text-align: right;\">\n",
              "      <th></th>\n",
              "      <th>First Party Collection/Use</th>\n",
              "      <th>Introductory/Generic</th>\n",
              "      <th>Third Party Sharing/Collection</th>\n",
              "      <th>Practice not covered</th>\n",
              "      <th>Data Retention</th>\n",
              "      <th>User Choice/Control</th>\n",
              "      <th>Data Security</th>\n",
              "      <th>Policy Change</th>\n",
              "      <th>Privacy contact information</th>\n",
              "      <th>User Access Edit and Deletion</th>\n",
              "      <th>International and Specific Audiences</th>\n",
              "      <th>Do Not Track</th>\n",
              "      <th>one_hot_labels</th>\n",
              "    </tr>\n",
              "  </thead>\n",
              "  <tbody>\n",
              "    <tr>\n",
              "      <th>0</th>\n",
              "      <td>1.0</td>\n",
              "      <td>0.0</td>\n",
              "      <td>0.0</td>\n",
              "      <td>0.0</td>\n",
              "      <td>0.0</td>\n",
              "      <td>0.0</td>\n",
              "      <td>0.0</td>\n",
              "      <td>0.0</td>\n",
              "      <td>0.0</td>\n",
              "      <td>0.0</td>\n",
              "      <td>0.0</td>\n",
              "      <td>0.0</td>\n",
              "      <td>[1.0, 0.0, 0.0, 0.0, 0.0, 0.0, 0.0, 0.0, 0.0, 0.0, 0.0, 0.0]</td>\n",
              "    </tr>\n",
              "    <tr>\n",
              "      <th>1</th>\n",
              "      <td>1.0</td>\n",
              "      <td>0.0</td>\n",
              "      <td>1.0</td>\n",
              "      <td>0.0</td>\n",
              "      <td>0.0</td>\n",
              "      <td>0.0</td>\n",
              "      <td>0.0</td>\n",
              "      <td>0.0</td>\n",
              "      <td>0.0</td>\n",
              "      <td>0.0</td>\n",
              "      <td>0.0</td>\n",
              "      <td>0.0</td>\n",
              "      <td>[1.0, 0.0, 1.0, 0.0, 0.0, 0.0, 0.0, 0.0, 0.0, 0.0, 0.0, 0.0]</td>\n",
              "    </tr>\n",
              "    <tr>\n",
              "      <th>2</th>\n",
              "      <td>1.0</td>\n",
              "      <td>0.0</td>\n",
              "      <td>1.0</td>\n",
              "      <td>0.0</td>\n",
              "      <td>0.0</td>\n",
              "      <td>0.0</td>\n",
              "      <td>0.0</td>\n",
              "      <td>0.0</td>\n",
              "      <td>0.0</td>\n",
              "      <td>0.0</td>\n",
              "      <td>0.0</td>\n",
              "      <td>0.0</td>\n",
              "      <td>[1.0, 0.0, 1.0, 0.0, 0.0, 0.0, 0.0, 0.0, 0.0, 0.0, 0.0, 0.0]</td>\n",
              "    </tr>\n",
              "    <tr>\n",
              "      <th>3</th>\n",
              "      <td>1.0</td>\n",
              "      <td>0.0</td>\n",
              "      <td>0.0</td>\n",
              "      <td>0.0</td>\n",
              "      <td>0.0</td>\n",
              "      <td>0.0</td>\n",
              "      <td>0.0</td>\n",
              "      <td>0.0</td>\n",
              "      <td>0.0</td>\n",
              "      <td>0.0</td>\n",
              "      <td>0.0</td>\n",
              "      <td>0.0</td>\n",
              "      <td>[1.0, 0.0, 0.0, 0.0, 0.0, 0.0, 0.0, 0.0, 0.0, 0.0, 0.0, 0.0]</td>\n",
              "    </tr>\n",
              "    <tr>\n",
              "      <th>4</th>\n",
              "      <td>0.0</td>\n",
              "      <td>0.0</td>\n",
              "      <td>1.0</td>\n",
              "      <td>0.0</td>\n",
              "      <td>0.0</td>\n",
              "      <td>0.0</td>\n",
              "      <td>0.0</td>\n",
              "      <td>0.0</td>\n",
              "      <td>0.0</td>\n",
              "      <td>0.0</td>\n",
              "      <td>0.0</td>\n",
              "      <td>0.0</td>\n",
              "      <td>[0.0, 0.0, 1.0, 0.0, 0.0, 0.0, 0.0, 0.0, 0.0, 0.0, 0.0, 0.0]</td>\n",
              "    </tr>\n",
              "  </tbody>\n",
              "</table>\n",
              "</div>"
            ],
            "text/plain": [
              "   First Party Collection/Use  ...                                                one_hot_labels\n",
              "0  1.0                         ...  [1.0, 0.0, 0.0, 0.0, 0.0, 0.0, 0.0, 0.0, 0.0, 0.0, 0.0, 0.0]\n",
              "1  1.0                         ...  [1.0, 0.0, 1.0, 0.0, 0.0, 0.0, 0.0, 0.0, 0.0, 0.0, 0.0, 0.0]\n",
              "2  1.0                         ...  [1.0, 0.0, 1.0, 0.0, 0.0, 0.0, 0.0, 0.0, 0.0, 0.0, 0.0, 0.0]\n",
              "3  1.0                         ...  [1.0, 0.0, 0.0, 0.0, 0.0, 0.0, 0.0, 0.0, 0.0, 0.0, 0.0, 0.0]\n",
              "4  0.0                         ...  [0.0, 0.0, 1.0, 0.0, 0.0, 0.0, 0.0, 0.0, 0.0, 0.0, 0.0, 0.0]\n",
              "\n",
              "[5 rows x 13 columns]"
            ]
          },
          "metadata": {
            "tags": []
          },
          "execution_count": 127
        }
      ]
    },
    {
      "cell_type": "code",
      "metadata": {
        "id": "SLdK4x8sOYmJ",
        "colab_type": "code",
        "colab": {}
      },
      "source": [
        "data_true = pd.read_csv('./data/test.csv')"
      ],
      "execution_count": null,
      "outputs": []
    },
    {
      "cell_type": "code",
      "metadata": {
        "id": "iytZ1wolOwtN",
        "colab_type": "code",
        "colab": {
          "base_uri": "https://localhost:8080/",
          "height": 55
        },
        "outputId": "e1632573-538e-4587-8553-05199c57f289"
      },
      "source": [
        "cols = data_true.columns\n",
        "label_cols = list(cols[2:])\n",
        "num_labels = len(label_cols)\n",
        "print('Label columns: ', num_labels ,\" :\", label_cols)"
      ],
      "execution_count": null,
      "outputs": [
        {
          "output_type": "stream",
          "text": [
            "Label columns:  12  : ['First Party Collection/Use', 'Third Party Sharing/Collection', 'User Access Edit and Deletion', 'Data Retention', 'Data Security', 'International and Specific Audiences', 'Do Not Track', 'Policy Change', 'User Choice/Control', 'Introductory/Generic', 'Practice not covered', 'Privacy contact information']\n"
          ],
          "name": "stdout"
        }
      ]
    },
    {
      "cell_type": "code",
      "metadata": {
        "id": "KdLEfrdLeQ3k",
        "colab_type": "code",
        "colab": {
          "base_uri": "https://localhost:8080/",
          "height": 1000
        },
        "outputId": "3fce1b51-4863-43c8-e36b-0ff00456c1de"
      },
      "source": [
        "data_true.head(2)"
      ],
      "execution_count": null,
      "outputs": [
        {
          "output_type": "execute_result",
          "data": {
            "text/html": [
              "<div>\n",
              "<style scoped>\n",
              "    .dataframe tbody tr th:only-of-type {\n",
              "        vertical-align: middle;\n",
              "    }\n",
              "\n",
              "    .dataframe tbody tr th {\n",
              "        vertical-align: top;\n",
              "    }\n",
              "\n",
              "    .dataframe thead th {\n",
              "        text-align: right;\n",
              "    }\n",
              "</style>\n",
              "<table border=\"1\" class=\"dataframe\">\n",
              "  <thead>\n",
              "    <tr style=\"text-align: right;\">\n",
              "      <th></th>\n",
              "      <th>id</th>\n",
              "      <th>text</th>\n",
              "      <th>First Party Collection/Use</th>\n",
              "      <th>Third Party Sharing/Collection</th>\n",
              "      <th>User Access Edit and Deletion</th>\n",
              "      <th>Data Retention</th>\n",
              "      <th>Data Security</th>\n",
              "      <th>International and Specific Audiences</th>\n",
              "      <th>Do Not Track</th>\n",
              "      <th>Policy Change</th>\n",
              "      <th>User Choice/Control</th>\n",
              "      <th>Introductory/Generic</th>\n",
              "      <th>Practice not covered</th>\n",
              "      <th>Privacy contact information</th>\n",
              "    </tr>\n",
              "  </thead>\n",
              "  <tbody>\n",
              "    <tr>\n",
              "      <th>0</th>\n",
              "      <td>0</td>\n",
              "      <td>Information that Sci-News.com May Collect Online Sci-News.com may collect and process the following data about you: - information that you provide by filling in forms on our site, including names, e-mail and website addresses; we may also ask you for information for other purposes, for example when you report a problem with our site;</td>\n",
              "      <td>1</td>\n",
              "      <td>0</td>\n",
              "      <td>0</td>\n",
              "      <td>0</td>\n",
              "      <td>0</td>\n",
              "      <td>0</td>\n",
              "      <td>0</td>\n",
              "      <td>0</td>\n",
              "      <td>0</td>\n",
              "      <td>0</td>\n",
              "      <td>0</td>\n",
              "      <td>0</td>\n",
              "    </tr>\n",
              "    <tr>\n",
              "      <th>1</th>\n",
              "      <td>1</td>\n",
              "      <td>During the course of any visit to the Sci-News.com website, the pages you see, along with a cookie, are downloaded to your device. A website does this because cookies enable a publisher to find out whether the device has visited the website before. This is done on a repeat visit by checking to see, and finding, the cookie left there on the last visit.</td>\n",
              "      <td>1</td>\n",
              "      <td>0</td>\n",
              "      <td>0</td>\n",
              "      <td>0</td>\n",
              "      <td>0</td>\n",
              "      <td>0</td>\n",
              "      <td>0</td>\n",
              "      <td>0</td>\n",
              "      <td>0</td>\n",
              "      <td>0</td>\n",
              "      <td>1</td>\n",
              "      <td>0</td>\n",
              "    </tr>\n",
              "  </tbody>\n",
              "</table>\n",
              "</div>"
            ],
            "text/plain": [
              "   id  ... Privacy contact information\n",
              "0  0   ...  0                         \n",
              "1  1   ...  0                         \n",
              "\n",
              "[2 rows x 14 columns]"
            ]
          },
          "metadata": {
            "tags": []
          },
          "execution_count": 130
        }
      ]
    },
    {
      "cell_type": "code",
      "metadata": {
        "id": "-DjpEi-LeKGo",
        "colab_type": "code",
        "colab": {
          "base_uri": "https://localhost:8080/",
          "height": 278
        },
        "outputId": "c3ad5a7b-a84e-4265-b1e3-66cf032d79bc"
      },
      "source": [
        "data_true=data_true[pred_label_cols]\n",
        "data_true.head()"
      ],
      "execution_count": null,
      "outputs": [
        {
          "output_type": "execute_result",
          "data": {
            "text/html": [
              "<div>\n",
              "<style scoped>\n",
              "    .dataframe tbody tr th:only-of-type {\n",
              "        vertical-align: middle;\n",
              "    }\n",
              "\n",
              "    .dataframe tbody tr th {\n",
              "        vertical-align: top;\n",
              "    }\n",
              "\n",
              "    .dataframe thead th {\n",
              "        text-align: right;\n",
              "    }\n",
              "</style>\n",
              "<table border=\"1\" class=\"dataframe\">\n",
              "  <thead>\n",
              "    <tr style=\"text-align: right;\">\n",
              "      <th></th>\n",
              "      <th>First Party Collection/Use</th>\n",
              "      <th>Introductory/Generic</th>\n",
              "      <th>Third Party Sharing/Collection</th>\n",
              "      <th>Practice not covered</th>\n",
              "      <th>Data Retention</th>\n",
              "      <th>User Choice/Control</th>\n",
              "      <th>Data Security</th>\n",
              "      <th>Policy Change</th>\n",
              "      <th>Privacy contact information</th>\n",
              "      <th>User Access Edit and Deletion</th>\n",
              "      <th>International and Specific Audiences</th>\n",
              "      <th>Do Not Track</th>\n",
              "    </tr>\n",
              "  </thead>\n",
              "  <tbody>\n",
              "    <tr>\n",
              "      <th>0</th>\n",
              "      <td>1</td>\n",
              "      <td>0</td>\n",
              "      <td>0</td>\n",
              "      <td>0</td>\n",
              "      <td>0</td>\n",
              "      <td>0</td>\n",
              "      <td>0</td>\n",
              "      <td>0</td>\n",
              "      <td>0</td>\n",
              "      <td>0</td>\n",
              "      <td>0</td>\n",
              "      <td>0</td>\n",
              "    </tr>\n",
              "    <tr>\n",
              "      <th>1</th>\n",
              "      <td>1</td>\n",
              "      <td>0</td>\n",
              "      <td>0</td>\n",
              "      <td>1</td>\n",
              "      <td>0</td>\n",
              "      <td>0</td>\n",
              "      <td>0</td>\n",
              "      <td>0</td>\n",
              "      <td>0</td>\n",
              "      <td>0</td>\n",
              "      <td>0</td>\n",
              "      <td>0</td>\n",
              "    </tr>\n",
              "    <tr>\n",
              "      <th>2</th>\n",
              "      <td>1</td>\n",
              "      <td>0</td>\n",
              "      <td>1</td>\n",
              "      <td>0</td>\n",
              "      <td>0</td>\n",
              "      <td>0</td>\n",
              "      <td>0</td>\n",
              "      <td>0</td>\n",
              "      <td>0</td>\n",
              "      <td>0</td>\n",
              "      <td>0</td>\n",
              "      <td>0</td>\n",
              "    </tr>\n",
              "    <tr>\n",
              "      <th>3</th>\n",
              "      <td>1</td>\n",
              "      <td>0</td>\n",
              "      <td>0</td>\n",
              "      <td>0</td>\n",
              "      <td>0</td>\n",
              "      <td>0</td>\n",
              "      <td>0</td>\n",
              "      <td>0</td>\n",
              "      <td>0</td>\n",
              "      <td>0</td>\n",
              "      <td>0</td>\n",
              "      <td>0</td>\n",
              "    </tr>\n",
              "    <tr>\n",
              "      <th>4</th>\n",
              "      <td>0</td>\n",
              "      <td>0</td>\n",
              "      <td>1</td>\n",
              "      <td>0</td>\n",
              "      <td>0</td>\n",
              "      <td>0</td>\n",
              "      <td>0</td>\n",
              "      <td>0</td>\n",
              "      <td>0</td>\n",
              "      <td>0</td>\n",
              "      <td>0</td>\n",
              "      <td>0</td>\n",
              "    </tr>\n",
              "  </tbody>\n",
              "</table>\n",
              "</div>"
            ],
            "text/plain": [
              "   First Party Collection/Use  ...  Do Not Track\n",
              "0  1                           ...  0           \n",
              "1  1                           ...  0           \n",
              "2  1                           ...  0           \n",
              "3  1                           ...  0           \n",
              "4  0                           ...  0           \n",
              "\n",
              "[5 rows x 12 columns]"
            ]
          },
          "metadata": {
            "tags": []
          },
          "execution_count": 131
        }
      ]
    },
    {
      "cell_type": "code",
      "metadata": {
        "id": "nRbfszwZPnjt",
        "colab_type": "code",
        "colab": {
          "base_uri": "https://localhost:8080/",
          "height": 365
        },
        "outputId": "2306ff55-8e6f-4f3a-c83e-61d415da1ea2"
      },
      "source": [
        "data_true['one_hot_labels'] = list(data_true[pred_label_cols].values)\n",
        "data_true.head()"
      ],
      "execution_count": null,
      "outputs": [
        {
          "output_type": "execute_result",
          "data": {
            "text/html": [
              "<div>\n",
              "<style scoped>\n",
              "    .dataframe tbody tr th:only-of-type {\n",
              "        vertical-align: middle;\n",
              "    }\n",
              "\n",
              "    .dataframe tbody tr th {\n",
              "        vertical-align: top;\n",
              "    }\n",
              "\n",
              "    .dataframe thead th {\n",
              "        text-align: right;\n",
              "    }\n",
              "</style>\n",
              "<table border=\"1\" class=\"dataframe\">\n",
              "  <thead>\n",
              "    <tr style=\"text-align: right;\">\n",
              "      <th></th>\n",
              "      <th>First Party Collection/Use</th>\n",
              "      <th>Introductory/Generic</th>\n",
              "      <th>Third Party Sharing/Collection</th>\n",
              "      <th>Practice not covered</th>\n",
              "      <th>Data Retention</th>\n",
              "      <th>User Choice/Control</th>\n",
              "      <th>Data Security</th>\n",
              "      <th>Policy Change</th>\n",
              "      <th>Privacy contact information</th>\n",
              "      <th>User Access Edit and Deletion</th>\n",
              "      <th>International and Specific Audiences</th>\n",
              "      <th>Do Not Track</th>\n",
              "      <th>one_hot_labels</th>\n",
              "    </tr>\n",
              "  </thead>\n",
              "  <tbody>\n",
              "    <tr>\n",
              "      <th>0</th>\n",
              "      <td>1</td>\n",
              "      <td>0</td>\n",
              "      <td>0</td>\n",
              "      <td>0</td>\n",
              "      <td>0</td>\n",
              "      <td>0</td>\n",
              "      <td>0</td>\n",
              "      <td>0</td>\n",
              "      <td>0</td>\n",
              "      <td>0</td>\n",
              "      <td>0</td>\n",
              "      <td>0</td>\n",
              "      <td>[1, 0, 0, 0, 0, 0, 0, 0, 0, 0, 0, 0]</td>\n",
              "    </tr>\n",
              "    <tr>\n",
              "      <th>1</th>\n",
              "      <td>1</td>\n",
              "      <td>0</td>\n",
              "      <td>0</td>\n",
              "      <td>1</td>\n",
              "      <td>0</td>\n",
              "      <td>0</td>\n",
              "      <td>0</td>\n",
              "      <td>0</td>\n",
              "      <td>0</td>\n",
              "      <td>0</td>\n",
              "      <td>0</td>\n",
              "      <td>0</td>\n",
              "      <td>[1, 0, 0, 1, 0, 0, 0, 0, 0, 0, 0, 0]</td>\n",
              "    </tr>\n",
              "    <tr>\n",
              "      <th>2</th>\n",
              "      <td>1</td>\n",
              "      <td>0</td>\n",
              "      <td>1</td>\n",
              "      <td>0</td>\n",
              "      <td>0</td>\n",
              "      <td>0</td>\n",
              "      <td>0</td>\n",
              "      <td>0</td>\n",
              "      <td>0</td>\n",
              "      <td>0</td>\n",
              "      <td>0</td>\n",
              "      <td>0</td>\n",
              "      <td>[1, 0, 1, 0, 0, 0, 0, 0, 0, 0, 0, 0]</td>\n",
              "    </tr>\n",
              "    <tr>\n",
              "      <th>3</th>\n",
              "      <td>1</td>\n",
              "      <td>0</td>\n",
              "      <td>0</td>\n",
              "      <td>0</td>\n",
              "      <td>0</td>\n",
              "      <td>0</td>\n",
              "      <td>0</td>\n",
              "      <td>0</td>\n",
              "      <td>0</td>\n",
              "      <td>0</td>\n",
              "      <td>0</td>\n",
              "      <td>0</td>\n",
              "      <td>[1, 0, 0, 0, 0, 0, 0, 0, 0, 0, 0, 0]</td>\n",
              "    </tr>\n",
              "    <tr>\n",
              "      <th>4</th>\n",
              "      <td>0</td>\n",
              "      <td>0</td>\n",
              "      <td>1</td>\n",
              "      <td>0</td>\n",
              "      <td>0</td>\n",
              "      <td>0</td>\n",
              "      <td>0</td>\n",
              "      <td>0</td>\n",
              "      <td>0</td>\n",
              "      <td>0</td>\n",
              "      <td>0</td>\n",
              "      <td>0</td>\n",
              "      <td>[0, 0, 1, 0, 0, 0, 0, 0, 0, 0, 0, 0]</td>\n",
              "    </tr>\n",
              "  </tbody>\n",
              "</table>\n",
              "</div>"
            ],
            "text/plain": [
              "   First Party Collection/Use  ...                        one_hot_labels\n",
              "0  1                           ...  [1, 0, 0, 0, 0, 0, 0, 0, 0, 0, 0, 0]\n",
              "1  1                           ...  [1, 0, 0, 1, 0, 0, 0, 0, 0, 0, 0, 0]\n",
              "2  1                           ...  [1, 0, 1, 0, 0, 0, 0, 0, 0, 0, 0, 0]\n",
              "3  1                           ...  [1, 0, 0, 0, 0, 0, 0, 0, 0, 0, 0, 0]\n",
              "4  0                           ...  [0, 0, 1, 0, 0, 0, 0, 0, 0, 0, 0, 0]\n",
              "\n",
              "[5 rows x 13 columns]"
            ]
          },
          "metadata": {
            "tags": []
          },
          "execution_count": 132
        }
      ]
    },
    {
      "cell_type": "code",
      "metadata": {
        "id": "7Qpvpm4rlpZu",
        "colab_type": "code",
        "colab": {
          "base_uri": "https://localhost:8080/",
          "height": 478
        },
        "outputId": "ef9c9fa7-422e-43ed-9626-6691f1713619"
      },
      "source": [
        "from sklearn.metrics import classification_report\n",
        "\n",
        "y_true = list(data_true['one_hot_labels'])\n",
        "y_pred = list(preds['one_hot_labels'])\n",
        "\n",
        "clf_report = classification_report(y_true,y_pred,target_names=pred_label_cols)\n",
        "print(clf_report)"
      ],
      "execution_count": null,
      "outputs": [
        {
          "output_type": "stream",
          "text": [
            "                                      precision    recall  f1-score   support\n",
            "\n",
            "          First Party Collection/Use       0.86      0.88      0.87       287\n",
            "                Introductory/Generic       0.87      0.65      0.74       161\n",
            "      Third Party Sharing/Collection       0.90      0.88      0.89       227\n",
            "                Practice not covered       0.70      0.46      0.56       138\n",
            "                      Data Retention       0.72      0.75      0.73        24\n",
            "                 User Choice/Control       0.72      0.66      0.69       130\n",
            "                       Data Security       0.75      0.81      0.78        59\n",
            "                       Policy Change       0.88      0.80      0.84        46\n",
            "         Privacy contact information       0.84      0.82      0.83        72\n",
            "       User Access Edit and Deletion       0.67      0.80      0.73        40\n",
            "International and Specific Audiences       0.92      0.89      0.90        61\n",
            "                        Do Not Track       0.88      1.00      0.93         7\n",
            "\n",
            "                           micro avg       0.83      0.77      0.80      1252\n",
            "                           macro avg       0.81      0.78      0.79      1252\n",
            "                        weighted avg       0.83      0.77      0.79      1252\n",
            "                         samples avg       0.87      0.83      0.82      1252\n",
            "\n"
          ],
          "name": "stdout"
        },
        {
          "output_type": "stream",
          "text": [
            "/usr/local/lib/python3.6/dist-packages/sklearn/metrics/_classification.py:1272: UndefinedMetricWarning: Precision and F-score are ill-defined and being set to 0.0 in samples with no predicted labels. Use `zero_division` parameter to control this behavior.\n",
            "  _warn_prf(average, modifier, msg_start, len(result))\n",
            "/usr/local/lib/python3.6/dist-packages/sklearn/metrics/_classification.py:1272: UndefinedMetricWarning: Recall and F-score are ill-defined and being set to 0.0 in samples with no true labels. Use `zero_division` parameter to control this behavior.\n",
            "  _warn_prf(average, modifier, msg_start, len(result))\n"
          ],
          "name": "stderr"
        }
      ]
    }
  ]
}